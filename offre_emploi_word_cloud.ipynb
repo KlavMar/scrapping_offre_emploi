{
 "cells": [
  {
   "cell_type": "code",
   "execution_count": 197,
   "id": "e8d3da84-2115-4e69-83e0-f1c981a53f0e",
   "metadata": {},
   "outputs": [],
   "source": [
    "from time import sleep\n",
    "from selenium import webdriver\n",
    "from selenium.webdriver.common.keys import Keys\n",
    "from selenium.webdriver.common.by import By\n",
    "import pandas as pd\n",
    "import matplotlib.pyplot as plt\n",
    "import seaborn as sns\n",
    "import plotly.express as px\n",
    "import plotly.graph_objects as go \n",
    "from plotly.subplots import make_subplots\n",
    "import time\n",
    "from bs4 import BeautifulSoup\n",
    "import requests\n",
    "import re"
   ]
  },
  {
   "cell_type": "markdown",
   "id": "397d2b69-448a-4cb6-9270-5f503e3566b2",
   "metadata": {
    "tags": []
   },
   "source": [
    "# Welcome to the Jungle"
   ]
  },
  {
   "cell_type": "markdown",
   "id": "da311c07-f44c-4a00-b513-eb064e8e372c",
   "metadata": {},
   "source": [
    "## Sélénium"
   ]
  },
  {
   "cell_type": "markdown",
   "id": "9f3b8d49-b08a-44c2-b198-9a226c683e9c",
   "metadata": {
    "tags": []
   },
   "source": [
    "### Analyse de la page"
   ]
  },
  {
   "cell_type": "code",
   "execution_count": 5,
   "id": "9dbf61ff-ddc4-471b-a057-799ee457b272",
   "metadata": {},
   "outputs": [],
   "source": [
    "metier ='data analyst'\n",
    "metier = metier.lower().replace(\" \",\"+\")\n",
    "url = f'https://www.welcometothejungle.com/fr/jobs?page=1&groupBy=job&sortBy=mostRelevant&query={metier}'"
   ]
  },
  {
   "cell_type": "code",
   "execution_count": 6,
   "id": "70cd04f4-676d-4bbb-9db2-d9a569667a4f",
   "metadata": {
    "tags": []
   },
   "outputs": [
    {
     "name": "stderr",
     "output_type": "stream",
     "text": [
      "/var/folders/6d/_c9dj9cs3dv7f9hff54z3xl80000gn/T/ipykernel_4653/907396872.py:1: DeprecationWarning: executable_path has been deprecated, please pass in a Service object\n",
      "  driver = webdriver.Chrome('../Desktop/chromedriver')\n"
     ]
    }
   ],
   "source": [
    "driver = webdriver.Chrome('../Desktop/chromedriver')\n",
    "driver.get(url)"
   ]
  },
  {
   "cell_type": "code",
   "execution_count": 227,
   "id": "54abf409-2806-4ecf-8c85-52b11719417e",
   "metadata": {},
   "outputs": [
    {
     "name": "stdout",
     "output_type": "stream",
     "text": [
      "973\n",
      "30\n"
     ]
    }
   ],
   "source": [
    "print(int(driver.find_elements(By.CLASS_NAME,'ecRJuy')[0].text)) ## nombre d'offres \n",
    "print(int(len(driver.find_elements(By.CLASS_NAME,'dkmXvv')))) # nombre d'offres par pages"
   ]
  },
  {
   "cell_type": "code",
   "execution_count": null,
   "id": "e0db9987-db3d-4c6b-8b9c-7e47fc194070",
   "metadata": {},
   "outputs": [],
   "source": [
    "driver.find_element(By.ID, \"axeptio_btn_acceptAll\").text #cookies"
   ]
  },
  {
   "cell_type": "code",
   "execution_count": 301,
   "id": "987d15ad-5ce7-48a7-8dc5-dba2283e2a98",
   "metadata": {},
   "outputs": [
    {
     "data": {
      "text/plain": [
       "''"
      ]
     },
     "execution_count": 301,
     "metadata": {},
     "output_type": "execute_result"
    }
   ],
   "source": [
    "driver.find_elements(By.CLASS_NAME,'ais-Pagination-link')[-1].text"
   ]
  },
  {
   "cell_type": "code",
   "execution_count": 228,
   "id": "e7a97501-0f38-4a48-9b14-574edecaee1c",
   "metadata": {},
   "outputs": [
    {
     "data": {
      "text/plain": [
       "32"
      ]
     },
     "execution_count": 228,
     "metadata": {},
     "output_type": "execute_result"
    }
   ],
   "source": [
    "nb_offres = int(driver.find_elements(By.CLASS_NAME,'ecRJuy')[0].text)\n",
    "nb_offres_per_pages = int(len(driver.find_elements(By.CLASS_NAME,'dkmXvv')))\n",
    "loop = nb_offres // nb_offres_per_pages\n",
    "loop"
   ]
  },
  {
   "cell_type": "code",
   "execution_count": 201,
   "id": "60615d4a-2367-4b35-a667-d0837b35e839",
   "metadata": {},
   "outputs": [
    {
     "name": "stdout",
     "output_type": "stream",
     "text": [
      "30\n"
     ]
    },
    {
     "data": {
      "text/plain": [
       "['Thales\\nData analyst confirmé(e) (H/F)\\nCDI\\nVélizy-Villacoublay\\nil y a 13 jours',\n",
       " 'Veepee\\nData Analyst (Data team)\\nCDI\\nSaint-Denis\\nTélétravail partiel possible\\nil y a 28 jours',\n",
       " 'talent.io\\nData Analyst (m/f/d)\\nCDI\\nParis\\nTélétravail total possible\\nil y a 5 jours',\n",
       " '360 medics\\nData Analyst - Lyon ou Paris\\nCDI\\nParis\\nTélétravail partiel possible\\nhier',\n",
       " 'Lydia\\nData Analyst Intern\\nCDI\\nParis\\nil y a 28 jours']"
      ]
     },
     "execution_count": 201,
     "metadata": {},
     "output_type": "execute_result"
    }
   ],
   "source": [
    "data = driver.find_elements(By.CLASS_NAME,'dkmXvv')\n",
    "data_list = []\n",
    "print(len(data))\n",
    "for i in range(len(data)):\n",
    "    data_list.append(data[i].text)\n",
    "data_list[:5]"
   ]
  },
  {
   "cell_type": "code",
   "execution_count": 208,
   "id": "4e26c8c4-6bc8-403a-a04d-a06702a6b753",
   "metadata": {},
   "outputs": [
    {
     "name": "stdout",
     "output_type": "stream",
     "text": [
      "30\n"
     ]
    },
    {
     "data": {
      "text/plain": [
       "'https://www.welcometothejungle.com/fr/companies/thales/jobs/data-analyst-confirme-h-f_velizy-villacoublay_THALE_PleR6Dk?q=4d10f73adbfd3f9d16e8140646c15ae2&o=993285'"
      ]
     },
     "execution_count": 208,
     "metadata": {},
     "output_type": "execute_result"
    }
   ],
   "source": [
    "a = driver.find_elements(By.XPATH,\"//header/div/a[@href]\")\n",
    "print(len(a))\n",
    "a[0].get_attribute(\"href\")"
   ]
  },
  {
   "cell_type": "code",
   "execution_count": 210,
   "id": "6d74c1e2-ff27-401b-88a4-d28a7aeb6b2a",
   "metadata": {},
   "outputs": [
    {
     "data": {
      "text/html": [
       "<div>\n",
       "<style scoped>\n",
       "    .dataframe tbody tr th:only-of-type {\n",
       "        vertical-align: middle;\n",
       "    }\n",
       "\n",
       "    .dataframe tbody tr th {\n",
       "        vertical-align: top;\n",
       "    }\n",
       "\n",
       "    .dataframe thead th {\n",
       "        text-align: right;\n",
       "    }\n",
       "</style>\n",
       "<table border=\"1\" class=\"dataframe\">\n",
       "  <thead>\n",
       "    <tr style=\"text-align: right;\">\n",
       "      <th></th>\n",
       "      <th>0</th>\n",
       "      <th>1</th>\n",
       "      <th>2</th>\n",
       "      <th>3</th>\n",
       "      <th>4</th>\n",
       "      <th>5</th>\n",
       "    </tr>\n",
       "  </thead>\n",
       "  <tbody>\n",
       "    <tr>\n",
       "      <th>0</th>\n",
       "      <td>Thales</td>\n",
       "      <td>Data analyst confirmé(e) (H/F)</td>\n",
       "      <td>CDI</td>\n",
       "      <td>Vélizy-Villacoublay</td>\n",
       "      <td>il y a 13 jours</td>\n",
       "      <td>None</td>\n",
       "    </tr>\n",
       "    <tr>\n",
       "      <th>1</th>\n",
       "      <td>Veepee</td>\n",
       "      <td>Data Analyst (Data team)</td>\n",
       "      <td>CDI</td>\n",
       "      <td>Saint-Denis</td>\n",
       "      <td>Télétravail partiel possible</td>\n",
       "      <td>il y a 28 jours</td>\n",
       "    </tr>\n",
       "    <tr>\n",
       "      <th>2</th>\n",
       "      <td>talent.io</td>\n",
       "      <td>Data Analyst (m/f/d)</td>\n",
       "      <td>CDI</td>\n",
       "      <td>Paris</td>\n",
       "      <td>Télétravail total possible</td>\n",
       "      <td>il y a 5 jours</td>\n",
       "    </tr>\n",
       "    <tr>\n",
       "      <th>3</th>\n",
       "      <td>360 medics</td>\n",
       "      <td>Data Analyst - Lyon ou Paris</td>\n",
       "      <td>CDI</td>\n",
       "      <td>Paris</td>\n",
       "      <td>Télétravail partiel possible</td>\n",
       "      <td>hier</td>\n",
       "    </tr>\n",
       "    <tr>\n",
       "      <th>4</th>\n",
       "      <td>Lydia</td>\n",
       "      <td>Data Analyst Intern</td>\n",
       "      <td>CDI</td>\n",
       "      <td>Paris</td>\n",
       "      <td>il y a 28 jours</td>\n",
       "      <td>None</td>\n",
       "    </tr>\n",
       "  </tbody>\n",
       "</table>\n",
       "</div>"
      ],
      "text/plain": [
       "            0                               1    2                    3  \\\n",
       "0      Thales  Data analyst confirmé(e) (H/F)  CDI  Vélizy-Villacoublay   \n",
       "1      Veepee        Data Analyst (Data team)  CDI          Saint-Denis   \n",
       "2   talent.io            Data Analyst (m/f/d)  CDI                Paris   \n",
       "3  360 medics    Data Analyst - Lyon ou Paris  CDI                Paris   \n",
       "4       Lydia             Data Analyst Intern  CDI                Paris   \n",
       "\n",
       "                              4                5  \n",
       "0               il y a 13 jours             None  \n",
       "1  Télétravail partiel possible  il y a 28 jours  \n",
       "2    Télétravail total possible   il y a 5 jours  \n",
       "3  Télétravail partiel possible             hier  \n",
       "4               il y a 28 jours             None  "
      ]
     },
     "execution_count": 210,
     "metadata": {},
     "output_type": "execute_result"
    }
   ],
   "source": [
    "df = pd.DataFrame(data_list)\n",
    "df.loc[:,0].str.split(\"\\n\",expand=True).head()"
   ]
  },
  {
   "cell_type": "code",
   "execution_count": 247,
   "id": "aad80722-1ba0-407a-a58b-a4d28286aae4",
   "metadata": {},
   "outputs": [
    {
     "name": "stderr",
     "output_type": "stream",
     "text": [
      "/var/folders/6d/_c9dj9cs3dv7f9hff54z3xl80000gn/T/ipykernel_1100/3742673795.py:2: DeprecationWarning: executable_path has been deprecated, please pass in a Service object\n",
      "  driver = webdriver.Chrome('../Desktop/chromedriver')\n"
     ]
    }
   ],
   "source": [
    "url = \"https://www.welcometothejungle.com/fr/jobs?page=1&groupBy=job&sortBy=mostRecent&query=data%20analyst&aroundQuery=Bordeaux%2C%20France&aroundLatLng=44.8367%2C-0.58105&aroundRadius=20000\"\n",
    "driver = webdriver.Chrome('../Desktop/chromedriver')\n",
    "driver.get(url)"
   ]
  },
  {
   "cell_type": "code",
   "execution_count": 236,
   "id": "1b90017b-2182-4c4a-8abe-56de3da3339e",
   "metadata": {},
   "outputs": [
    {
     "data": {
      "text/plain": [
       "'34'"
      ]
     },
     "execution_count": 236,
     "metadata": {},
     "output_type": "execute_result"
    }
   ],
   "source": [
    "# nombre d'offres total de la page\n",
    "driver.find_elements(By.CLASS_NAME,'ecRJuy')[0].text"
   ]
  },
  {
   "cell_type": "code",
   "execution_count": 237,
   "id": "3d30fac9-14b0-4723-a1a5-c253fe6f8092",
   "metadata": {},
   "outputs": [
    {
     "name": "stdout",
     "output_type": "stream",
     "text": [
      "30\n",
      "Ultra Premium Direct\n",
      "Lydia\n",
      "Madeinvote\n",
      "iD Systemes\n",
      "Back Market\n"
     ]
    }
   ],
   "source": [
    "companies = driver.find_elements(By.CLASS_NAME,'jHFSmB')\n",
    "print(len(companies))\n",
    "for i in range(5):\n",
    "    print(companies[i].text)"
   ]
  },
  {
   "cell_type": "code",
   "execution_count": 238,
   "id": "7a1fb4e8-a5a5-42d7-b511-9a890612debb",
   "metadata": {},
   "outputs": [
    {
     "name": "stdout",
     "output_type": "stream",
     "text": [
      "30\n",
      "Data Analyst / Business Analyst E-commerce (H/F)\n",
      "Data Analyst\n",
      "Data analyst (CDI)\n",
      "Chef de projet BI H/F\n",
      "Business Data Analyst Intern (Customer Experience)\n"
     ]
    }
   ],
   "source": [
    "jobs = driver.find_elements(By.CLASS_NAME,'ineDNW')\n",
    "print(len(jobs))\n",
    "for i in range(5):\n",
    "    print(jobs[i].text)"
   ]
  },
  {
   "cell_type": "code",
   "execution_count": 239,
   "id": "53a9d131-a319-4937-8c75-2e94f07b78b7",
   "metadata": {},
   "outputs": [
    {
     "data": {
      "text/plain": [
       "'2'"
      ]
     },
     "execution_count": 239,
     "metadata": {},
     "output_type": "execute_result"
    }
   ],
   "source": [
    "page=1\n",
    "driver.find_element(By.LINK_TEXT, str(page+1)).text"
   ]
  },
  {
   "cell_type": "code",
   "execution_count": 240,
   "id": "43161387-2059-46c1-bde7-7fe7ef9e1d9d",
   "metadata": {},
   "outputs": [
    {
     "data": {
      "text/plain": [
       "'https://www.welcometothejungle.com/fr/companies/ultra-premium-direct/jobs/data-analyst-business-analyst-e-commerce-h-f_bordeaux?q=656676c683241885a071e178f4749718&o=1343985'"
      ]
     },
     "execution_count": 240,
     "metadata": {},
     "output_type": "execute_result"
    }
   ],
   "source": [
    "a = driver.find_elements(By.XPATH,\"//header/div/a[@href]\")\n",
    "a[0].get_attribute(\"href\")"
   ]
  },
  {
   "cell_type": "code",
   "execution_count": 241,
   "id": "fbc657ae-f790-45f5-86cf-3ecbf42faa5f",
   "metadata": {},
   "outputs": [
    {
     "data": {
      "text/plain": [
       "''"
      ]
     },
     "execution_count": 241,
     "metadata": {},
     "output_type": "execute_result"
    }
   ],
   "source": [
    "driver.find_element(By.ID, \"axeptio_btn_acceptAll\").text #cookies"
   ]
  },
  {
   "cell_type": "code",
   "execution_count": 242,
   "id": "070cb01f-1451-43fa-bd2f-371bb9281a50",
   "metadata": {},
   "outputs": [
    {
     "data": {
      "text/plain": [
       "'›'"
      ]
     },
     "execution_count": 242,
     "metadata": {},
     "output_type": "execute_result"
    }
   ],
   "source": []
  },
  {
   "cell_type": "code",
   "execution_count": 243,
   "id": "d1289fa3-29d3-47da-83c1-57b7bfaaff41",
   "metadata": {},
   "outputs": [
    {
     "data": {
      "text/plain": [
       "'Data Analyst / Business Analyst E-commerce (H/F)'"
      ]
     },
     "execution_count": 243,
     "metadata": {},
     "output_type": "execute_result"
    }
   ],
   "source": [
    "list_df_clean=[]\n",
    "test = driver.find_elements(By.CLASS_NAME,'ineDNW')\n",
    "test[0].text"
   ]
  },
  {
   "cell_type": "code",
   "execution_count": 259,
   "id": "4e0a06f3-8ccd-4a05-88bb-07f7e001c4ad",
   "metadata": {},
   "outputs": [
    {
     "name": "stdout",
     "output_type": "stream",
     "text": [
      "34\n"
     ]
    }
   ],
   "source": [
    "# détermination du nombre de boucle \n",
    "nb_offres = int(driver.find_elements(By.CLASS_NAME,'ecRJuy')[0].text)\n",
    "print(nb_offres)\n",
    "nb_offres_per_pages = int(len(driver.find_elements(By.CLASS_NAME,'dkmXvv')))\n",
    "loop = (nb_offres // nb_offres_per_pages)+1\n",
    "\n",
    "#création du dictionnaire de stockage\n",
    "liste_data = {}\n",
    "\n",
    "for page in range(1,loop+1):\n",
    "\n",
    "    #button d'acceptation des cookies\n",
    "    try:\n",
    "        cookie = driver.find_element(By.ID, \"axeptio_btn_acceptAll\")\n",
    "        cookie.click()\n",
    "    except:\n",
    "        pass\n",
    "\n",
    "    # récupération du text du bloc header donc la classe est dkmXvv\n",
    "    data = driver.find_elements(By.CLASS_NAME,'dkmXvv') \n",
    "\n",
    "    # récupération du lien du post\n",
    "    a = driver.find_elements(By.XPATH,\"//header/div/a[@href]\")\n",
    "\n",
    "    # Pour chaque ligne de donnée on ajoute donc dans le dictionnaire l'index -> i \n",
    "    # puis dans une liste on ajoute donc les text du bloc\n",
    "    # ainsi que le lien du post \n",
    "\n",
    "    for i in range(len(data)):\n",
    "        liste_data.update({i:[a[i].get_attribute(\"href\"),data[i].text]})"
   ]
  },
  {
   "cell_type": "code",
   "execution_count": 260,
   "id": "4cd3cf44-7333-48ca-89b6-3f2b96cfacdd",
   "metadata": {},
   "outputs": [
    {
     "data": {
      "text/html": [
       "<div>\n",
       "<style scoped>\n",
       "    .dataframe tbody tr th:only-of-type {\n",
       "        vertical-align: middle;\n",
       "    }\n",
       "\n",
       "    .dataframe tbody tr th {\n",
       "        vertical-align: top;\n",
       "    }\n",
       "\n",
       "    .dataframe thead th {\n",
       "        text-align: right;\n",
       "    }\n",
       "</style>\n",
       "<table border=\"1\" class=\"dataframe\">\n",
       "  <thead>\n",
       "    <tr style=\"text-align: right;\">\n",
       "      <th></th>\n",
       "      <th>link</th>\n",
       "      <th>bloc</th>\n",
       "      <th>entreprise</th>\n",
       "      <th>intitule_job</th>\n",
       "      <th>type_de_contrat</th>\n",
       "      <th>villes</th>\n",
       "      <th>time</th>\n",
       "      <th>5</th>\n",
       "    </tr>\n",
       "  </thead>\n",
       "  <tbody>\n",
       "    <tr>\n",
       "      <th>0</th>\n",
       "      <td>https://www.welcometothejungle.com/fr/companie...</td>\n",
       "      <td>Betclic Group\\nData Analyst H/F\\nCDI\\nBordeaux...</td>\n",
       "      <td>Betclic Group</td>\n",
       "      <td>Data Analyst H/F</td>\n",
       "      <td>CDI</td>\n",
       "      <td>Bordeaux</td>\n",
       "      <td>Télétravail partiel possible</td>\n",
       "      <td>il y a 2 mois</td>\n",
       "    </tr>\n",
       "    <tr>\n",
       "      <th>1</th>\n",
       "      <td>https://www.welcometothejungle.com/fr/companie...</td>\n",
       "      <td>Betclic Group\\nData Quality Analyst &amp; Governan...</td>\n",
       "      <td>Betclic Group</td>\n",
       "      <td>Data Quality Analyst &amp; Governance Officer H/F</td>\n",
       "      <td>CDI</td>\n",
       "      <td>Bordeaux</td>\n",
       "      <td>il y a 2 mois</td>\n",
       "      <td>None</td>\n",
       "    </tr>\n",
       "    <tr>\n",
       "      <th>2</th>\n",
       "      <td>https://www.welcometothejungle.com/fr/companie...</td>\n",
       "      <td>CGI\\nAnalyste Grand système Cobol H/F\\nCDI\\nBo...</td>\n",
       "      <td>CGI</td>\n",
       "      <td>Analyste Grand système Cobol H/F</td>\n",
       "      <td>CDI</td>\n",
       "      <td>Bordeaux</td>\n",
       "      <td>il y a 2 mois</td>\n",
       "      <td>None</td>\n",
       "    </tr>\n",
       "    <tr>\n",
       "      <th>3</th>\n",
       "      <td>https://www.welcometothejungle.com/fr/companie...</td>\n",
       "      <td>CGI\\nAnalyste Technique WebMethods H/F\\nCDI\\nB...</td>\n",
       "      <td>CGI</td>\n",
       "      <td>Analyste Technique WebMethods H/F</td>\n",
       "      <td>CDI</td>\n",
       "      <td>Bordeaux</td>\n",
       "      <td>il y a 2 mois</td>\n",
       "      <td>None</td>\n",
       "    </tr>\n",
       "  </tbody>\n",
       "</table>\n",
       "</div>"
      ],
      "text/plain": [
       "                                                link  \\\n",
       "0  https://www.welcometothejungle.com/fr/companie...   \n",
       "1  https://www.welcometothejungle.com/fr/companie...   \n",
       "2  https://www.welcometothejungle.com/fr/companie...   \n",
       "3  https://www.welcometothejungle.com/fr/companie...   \n",
       "\n",
       "                                                bloc     entreprise  \\\n",
       "0  Betclic Group\\nData Analyst H/F\\nCDI\\nBordeaux...  Betclic Group   \n",
       "1  Betclic Group\\nData Quality Analyst & Governan...  Betclic Group   \n",
       "2  CGI\\nAnalyste Grand système Cobol H/F\\nCDI\\nBo...            CGI   \n",
       "3  CGI\\nAnalyste Technique WebMethods H/F\\nCDI\\nB...            CGI   \n",
       "\n",
       "                                    intitule_job type_de_contrat    villes  \\\n",
       "0                               Data Analyst H/F             CDI  Bordeaux   \n",
       "1  Data Quality Analyst & Governance Officer H/F             CDI  Bordeaux   \n",
       "2               Analyste Grand système Cobol H/F             CDI  Bordeaux   \n",
       "3              Analyste Technique WebMethods H/F             CDI  Bordeaux   \n",
       "\n",
       "                           time              5  \n",
       "0  Télétravail partiel possible  il y a 2 mois  \n",
       "1                 il y a 2 mois           None  \n",
       "2                 il y a 2 mois           None  \n",
       "3                 il y a 2 mois           None  "
      ]
     },
     "execution_count": 260,
     "metadata": {},
     "output_type": "execute_result"
    }
   ],
   "source": [
    "df = pd.DataFrame.from_dict(liste_data,orient=\"index\").rename(columns={0:'link',1:'bloc'})\n",
    "df = (df.merge(df['bloc'].str.split(\"\\n\",expand=True),left_index=True,right_index=True,how=\"inner\")\n",
    "    .rename(columns={0:'entreprise',1:'intitule_job',2:'type_de_contrat',3:'villes',4:'time'}))\n",
    "df"
   ]
  },
  {
   "cell_type": "markdown",
   "id": "e2980925-6f07-44f0-873d-08723ab39936",
   "metadata": {},
   "source": [
    "### Récupération de toutes les offres"
   ]
  },
  {
   "cell_type": "code",
   "execution_count": null,
   "id": "3086bccd-5819-47df-86eb-df26d5c88961",
   "metadata": {},
   "outputs": [],
   "source": [
    "url = \"https://www.welcometothejungle.com/fr/jobs?page=1&groupBy=job&sortBy=mostRecent&query=data%20analyst\"\n",
    "driver = webdriver.Chrome('../Desktop/chromedriver')\n",
    "driver.get(url)\n",
    "# détermination du nombre de boucle \n",
    "nb_offres = int(driver.find_elements(By.CLASS_NAME,'ecRJuy')[0].text)\n",
    "print(nb_offres)\n",
    "nb_offres_per_pages = int(len(driver.find_elements(By.CLASS_NAME,'dkmXvv')))\n",
    "loop = (nb_offres // nb_offres_per_pages)+1\n",
    "index = 0\n",
    "#création du dictionnaire de stockage\n",
    "liste_data_all = {}\n",
    "#button d'acceptation des cookies\n",
    "time.sleep(10)\n",
    "cookie = driver.find_element(By.ID, \"axeptio_btn_acceptAll\")\n",
    "cookie.click()\n",
    "\n",
    "for page in range(1,loop+1):\n",
    "\n",
    "    # récupération du text du bloc header donc la classe est dkmXvv\n",
    "    data = driver.find_elements(By.CLASS_NAME,'dkmXvv') \n",
    "\n",
    "    # récupération du lien du post\n",
    "    a = driver.find_elements(By.XPATH,\"//header/div/a[@href]\")\n",
    "\n",
    "    # Pour chaque ligne de donnée on ajoute donc dans le dictionnaire l'index -> i \n",
    "    # puis dans une liste on ajoute donc les text du bloc\n",
    "    # ainsi que le lien du post \n",
    "\n",
    "    for i in range(len(data)):\n",
    "        liste_data_all.update({index:[a[i].get_attribute(\"href\"),data[i].text]})\n",
    "        index+=1\n",
    "    try:\n",
    "        element = driver.find_element(By.LINK_TEXT, str(page+1))\n",
    "        element.click()\n",
    "    except:\n",
    "        pass\n"
   ]
  },
  {
   "cell_type": "code",
   "execution_count": 299,
   "id": "63cb9984-2ff1-4e6e-95cf-faa69900d690",
   "metadata": {},
   "outputs": [
    {
     "data": {
      "text/html": [
       "<div>\n",
       "<style scoped>\n",
       "    .dataframe tbody tr th:only-of-type {\n",
       "        vertical-align: middle;\n",
       "    }\n",
       "\n",
       "    .dataframe tbody tr th {\n",
       "        vertical-align: top;\n",
       "    }\n",
       "\n",
       "    .dataframe thead th {\n",
       "        text-align: right;\n",
       "    }\n",
       "</style>\n",
       "<table border=\"1\" class=\"dataframe\">\n",
       "  <thead>\n",
       "    <tr style=\"text-align: right;\">\n",
       "      <th></th>\n",
       "      <th>link</th>\n",
       "      <th>companies</th>\n",
       "      <th>jobs</th>\n",
       "      <th>type_contrat</th>\n",
       "      <th>villes</th>\n",
       "      <th>teleworking/publish</th>\n",
       "      <th>publish</th>\n",
       "    </tr>\n",
       "  </thead>\n",
       "  <tbody>\n",
       "    <tr>\n",
       "      <th>0</th>\n",
       "      <td>https://www.welcometothejungle.com/fr/companie...</td>\n",
       "      <td>BRIGAD</td>\n",
       "      <td>Product Data Analyst F/H</td>\n",
       "      <td>CDI</td>\n",
       "      <td>Paris</td>\n",
       "      <td>Télétravail partiel possible</td>\n",
       "      <td>il y a 27 minutes</td>\n",
       "    </tr>\n",
       "    <tr>\n",
       "      <th>1</th>\n",
       "      <td>https://www.welcometothejungle.com/fr/companie...</td>\n",
       "      <td>Orange</td>\n",
       "      <td>Stage - Analyse de données multisources et rep...</td>\n",
       "      <td>Stage</td>\n",
       "      <td>Paris - 15ème Arrondissement</td>\n",
       "      <td>il y a 2 heures</td>\n",
       "      <td>None</td>\n",
       "    </tr>\n",
       "    <tr>\n",
       "      <th>2</th>\n",
       "      <td>https://www.welcometothejungle.com/fr/companie...</td>\n",
       "      <td>Orange</td>\n",
       "      <td>Stage - Chargé.e d'Analyse Clients F/H</td>\n",
       "      <td>Stage</td>\n",
       "      <td>Marseille - 3ème Arrondissement</td>\n",
       "      <td>il y a 2 heures</td>\n",
       "      <td>None</td>\n",
       "    </tr>\n",
       "    <tr>\n",
       "      <th>3</th>\n",
       "      <td>https://www.welcometothejungle.com/fr/companie...</td>\n",
       "      <td>Lynceus</td>\n",
       "      <td>Semiconductor Process Expert</td>\n",
       "      <td>CDI</td>\n",
       "      <td>Paris</td>\n",
       "      <td>Télétravail total possible</td>\n",
       "      <td>il y a 3 heures</td>\n",
       "    </tr>\n",
       "    <tr>\n",
       "      <th>4</th>\n",
       "      <td>https://www.welcometothejungle.com/fr/companie...</td>\n",
       "      <td>CPM France</td>\n",
       "      <td>Analyste BI F/H</td>\n",
       "      <td>CDI</td>\n",
       "      <td>Issy-Les-Moulineaux</td>\n",
       "      <td>il y a 3 heures</td>\n",
       "      <td>None</td>\n",
       "    </tr>\n",
       "  </tbody>\n",
       "</table>\n",
       "</div>"
      ],
      "text/plain": [
       "                                                link   companies  \\\n",
       "0  https://www.welcometothejungle.com/fr/companie...      BRIGAD   \n",
       "1  https://www.welcometothejungle.com/fr/companie...      Orange   \n",
       "2  https://www.welcometothejungle.com/fr/companie...      Orange   \n",
       "3  https://www.welcometothejungle.com/fr/companie...     Lynceus   \n",
       "4  https://www.welcometothejungle.com/fr/companie...  CPM France   \n",
       "\n",
       "                                                jobs type_contrat  \\\n",
       "0                           Product Data Analyst F/H          CDI   \n",
       "1  Stage - Analyse de données multisources et rep...        Stage   \n",
       "2             Stage - Chargé.e d'Analyse Clients F/H        Stage   \n",
       "3                       Semiconductor Process Expert          CDI   \n",
       "4                                    Analyste BI F/H          CDI   \n",
       "\n",
       "                            villes           teleworking/publish  \\\n",
       "0                            Paris  Télétravail partiel possible   \n",
       "1     Paris - 15ème Arrondissement               il y a 2 heures   \n",
       "2  Marseille - 3ème Arrondissement               il y a 2 heures   \n",
       "3                            Paris    Télétravail total possible   \n",
       "4              Issy-Les-Moulineaux               il y a 3 heures   \n",
       "\n",
       "             publish  \n",
       "0  il y a 27 minutes  \n",
       "1               None  \n",
       "2               None  \n",
       "3    il y a 3 heures  \n",
       "4               None  "
      ]
     },
     "execution_count": 299,
     "metadata": {},
     "output_type": "execute_result"
    }
   ],
   "source": [
    "df_welcome_to_jungle = pd.DataFrame.from_dict(liste_data_all,orient=\"index\").rename(columns={0:'link',1:'bloc'})\n",
    "df_welcome_to_jungle=df_welcome_to_jungle.merge(df_welcome_to_jungle['bloc'].str.split(\"\\n\",expand=True),left_index=True,right_index=True).drop(columns=[\"bloc\",6,7])\n",
    "df_welcome_to_jungle=df_welcome_to_jungle.rename(columns={0:'companies',1:'jobs',2:'type_contrat',3:\"villes\",4:'teleworking/publish',5:\"publish\"})\n",
    "df_welcome_to_jungle.to_csv(\"df_welcome_to_jungle_offre.csv\")\n",
    "df_welcome_to_jungle.head()"
   ]
  },
  {
   "cell_type": "markdown",
   "id": "fe465db7-e1d0-4ab1-9ecd-04c5708f3669",
   "metadata": {},
   "source": [
    "### Récupération description "
   ]
  },
  {
   "cell_type": "code",
   "execution_count": 308,
   "id": "19691624-1d7e-4bd8-9810-895651815fbb",
   "metadata": {},
   "outputs": [
    {
     "name": "stderr",
     "output_type": "stream",
     "text": [
      "/var/folders/6d/_c9dj9cs3dv7f9hff54z3xl80000gn/T/ipykernel_1100/1914499912.py:2: DeprecationWarning: executable_path has been deprecated, please pass in a Service object\n",
      "  driver = webdriver.Chrome('../Desktop/chromedriver')\n"
     ]
    }
   ],
   "source": [
    "url = df_welcome_to_jungle.link[0]\n",
    "driver = webdriver.Chrome('../Desktop/chromedriver')\n",
    "driver.get(url)"
   ]
  },
  {
   "cell_type": "code",
   "execution_count": 309,
   "id": "a5ff6d8e-b33a-44ae-97e1-cd78acdf021c",
   "metadata": {},
   "outputs": [],
   "source": [
    "data=driver.find_elements(By.CLASS_NAME,'kWzmfO')"
   ]
  },
  {
   "cell_type": "code",
   "execution_count": 312,
   "id": "b4fa2b00-c7e5-4cfc-bbbc-bc941ddc7135",
   "metadata": {},
   "outputs": [
    {
     "name": "stdout",
     "output_type": "stream",
     "text": [
      "0 ==> Qui sont-ils ?\n",
      "At the heart of Brigad, there is the idea that everyone should have the opportunity to pursue their passion by being valued, considered and above all, free. This includes finding fulfilment in your work and career, being able to balance it with your personal life, being fairly compensated and being respected.\n",
      "Brigad is proud to give to thousands of talents today, and millions tomorrow, the means to achieve this lifestyle, and we believe so firmly in our mission “To value work and make it accessible to all” that we have written it into our mission statement.\n",
      "Since 2016, this ambition has materialised by providing our users with the best app on the market to connect self-employed professionals with healthcare and catering establishments for short-term missions.\n",
      "⭐️ Our users are right, giving Brigad an NPS of 77/100 out of 5000 responses, and sharing how Brigad changed their lives!\n",
      "If originally Brigad deployed itself in the catering (restaurants, collective catering) and healthcare sectors (care homes and clinics), tomorrow, even more sectors will be concerned: everywhere talents aren’t equipped to pursue their passion while being properly considered and free.\n",
      "Brigad is currently available in the largest cities in France (Paris, Lille, Lyon, Bordeaux, Marseille, Strasbourg..) and in the UK (London, Manchester…), with the ambition to expand well beyond in France and Europe.\n",
      "Exciting challenges are waiting for you: expect to discover new countries in which Brigad will expand, new industries, a top-notch product, a fast-paced development, and above all a solid team united around a truly concrete and positive impact on our daily users’ lives. A spirit that can, also be found on Glassdoor and the grade of 4.7/5.\n",
      "Does this sound like the perfect fit for you? Great! Feel free to apply and let’s talk about it. ✨\n",
      "1 ==> Envie d’en savoir plus sur BRIGAD ?\n",
      "Culture d'entreprise, offres d'emplois... C’est parti pour l’immersion !\n",
      "Visiter le profil\n",
      "Rencontrez Jean, CPO et co-fondateur\n",
      "Rencontrez Nicolas, COO\n",
      "Rencontrez Sonia, Community Experience Manager\n",
      "2 ==> Descriptif du poste\n",
      "→ Your mission\n",
      "If you join Brigad, you will work in tandem with the Product Team to provide them insightful data analysis dedicated to product projects.\n",
      "→ Your responsibilities\n",
      "Product Research & Strategy\n",
      "Trends highlighting: spot proactively major usages and trends on the platform to help the Product Team prioritize its Roadmap\n",
      "Prospective analysis: Propose and run prospective analysis to support the Product team on each new features design\n",
      "Features success measurement: Propose and create Dashboards to follow-up impacts of those new features on business performance\n",
      "Data structuration\n",
      "Make sure that all source data get created: during each new feature development, you will work closely with the Product Manager to define needed data to pilot feature’s funnel or KPI, and you will make sure that the Tech team provides them\n",
      "Participate to the creation of a Product Data Mart: use your data modeling know-how to create technically efficient and time-proofed datasets for the Product team. On this, you will work closely with the Data Engineering team.\n",
      "Data visualization run\n",
      "Be the owner of Dashboards used by the Product Team: you will be in charge of maintaining Product team’s dashboards on our data visualization tool\n",
      "Answer punctual product data requests: you will have to prioritize and answer data requests from the Product Team, or from C-Levels when related to the product. Requests are various: bug solving, new graph creation or ad hoc analysis.\n",
      "→ Your team\n",
      "As the first Product Data Analyst at Brigad, you will be a member of the Data & Business Operations Team, whose mission is to simplify Brigad teams daily work and strategic decision-taking by providing them easy-to-use business tools (CRM, calling tools, ect.) & insightful data.\n",
      "The Product Data Analyst role reports to the Head of Data & Business Operations, and works closely with the Data Engineering team and the Product team.\n",
      "The team is currently comprised of a Business Operations Manager in charge of implementing new business tools, and a Business Data Analyst in charge of running analysis and creating dashboards for Ops teams (Sales & Care teams).\n",
      "The Product Data Analyst on his/ her side will be dedicated to product topics.\n",
      "3 ==> Profil recherché\n",
      "If you have…\n",
      "At least 4-5 years of professional experience in a job closely related to Product Management: either Product Data analyst or Product Manager\n",
      "Advanced SQL-knowledge: be fluent in SQL is mandatory for this job position\n",
      "A bug-solving mindset: you love investigating on your own, deep diving into complex product features and unraveling various corner cases to find accurate answer to a problem\n",
      "A business approach: on top of understanding product flows perfectly, you are business oriented. You know how to analyze features’ impacts on Brigad business\n",
      "A team player & pedagogic skills: you like transforming data into readable insights and explaining in a simple way your analysis to non-data people. Moreover, you love working with various teams and you understand their specific challenges. You do not work in silos and can see bridges between your topics and topics from other data analysts\n",
      "Good professional English is a strong plus\n",
      "… So apply quickly! We look forward to meeting you! Here are all the other advantages by joining us\n",
      "🏢Beautiful offices in the heart of Paris (Sentier)\n",
      "🎉 Off-site events and regular afterworks\n",
      "👫A young and innovative team\n",
      "💸An attractive and uncapped package\n",
      "🍕Restaurant tickets on your Swile card (4,25€ per day worked)\n",
      "🚉 50% coverage of your transport tickets\n",
      "⚕️The Alan mutual fund 100% supported by Brigad\n",
      "🏋 50% reimbursement of your Gymlib subscription\n",
      "💻 A Macbook Pro\n",
      "🏠 Possibility of remote\n",
      "📈 Coaching sessions in 1:1 every week / Regular Manager Training\n",
      "🇬🇧 Weekly English and French lessons\n",
      "☮︎ A caring environment with very low turnover (Glassdoor rating: 4.7/5)\n",
      "🍳Discover the Brigad experience by putting yourself in the shoes of one of our users for a day\n",
      "Brigad guarantees equal opportunities to all candidates. Each application received is put into consideration regardless of ethnic and racial origin, opinions, beliefs, gender, sexual orientation, health or handicap.\n",
      "Brigad’s fundamental values guide us each day in order to tackle those challenges with consistency and build an extremely strong culture:\n",
      "Brave : Be bold and make courageous moves.\n",
      "Impact : Do things that make a real difference.\n",
      "Care : Pay attention to all the people around you.\n",
      "Enjoy : Love what you do and have fun\n",
      "4 ==> Déroulement des entretiens\n",
      "1st call with an HR team member\n",
      "Peer coding session and quick Business case with Maïté, your future manager, and a Product Team Lead\n",
      "Culture-fit session with a C-Level at our Paris office\n"
     ]
    }
   ],
   "source": [
    "index = 0\n",
    "for i in data:\n",
    "    print(f'{index} ==> {i.text}')\n",
    "    index+=1"
   ]
  },
  {
   "cell_type": "code",
   "execution_count": 322,
   "id": "681ac10a-78ae-4ead-bdd1-68822b04e38d",
   "metadata": {},
   "outputs": [],
   "source": [
    "description_data = { }\n",
    "companies = df_welcome_to_jungle.companies[0]\n",
    "description_entreprise = data[0].text.replace(\"\\n\",\" \")\n",
    "#publicité = > data[1].text\n",
    "description_poste = data[2].text.replace(\"\\n\",\" \")\n",
    "description_profil = data[3].text.replace(\"\\n\",\" \")\n",
    "description_data.update({1:[companies,description_entreprise,description_poste,description_profil]})"
   ]
  },
  {
   "cell_type": "code",
   "execution_count": 324,
   "id": "25c21376-5bd1-419e-bb8b-153271401068",
   "metadata": {},
   "outputs": [
    {
     "data": {
      "text/html": [
       "<div>\n",
       "<style scoped>\n",
       "    .dataframe tbody tr th:only-of-type {\n",
       "        vertical-align: middle;\n",
       "    }\n",
       "\n",
       "    .dataframe tbody tr th {\n",
       "        vertical-align: top;\n",
       "    }\n",
       "\n",
       "    .dataframe thead th {\n",
       "        text-align: right;\n",
       "    }\n",
       "</style>\n",
       "<table border=\"1\" class=\"dataframe\">\n",
       "  <thead>\n",
       "    <tr style=\"text-align: right;\">\n",
       "      <th></th>\n",
       "      <th>companies</th>\n",
       "      <th>description_entreprise</th>\n",
       "      <th>description_poste</th>\n",
       "      <th>description_profil</th>\n",
       "    </tr>\n",
       "  </thead>\n",
       "  <tbody>\n",
       "    <tr>\n",
       "      <th>1</th>\n",
       "      <td>BRIGAD</td>\n",
       "      <td>Qui sont-ils ? At the heart of Brigad, there i...</td>\n",
       "      <td>Descriptif du poste → Your mission If you join...</td>\n",
       "      <td>Profil recherché If you have… At least 4-5 yea...</td>\n",
       "    </tr>\n",
       "  </tbody>\n",
       "</table>\n",
       "</div>"
      ],
      "text/plain": [
       "  companies                             description_entreprise  \\\n",
       "1    BRIGAD  Qui sont-ils ? At the heart of Brigad, there i...   \n",
       "\n",
       "                                   description_poste  \\\n",
       "1  Descriptif du poste → Your mission If you join...   \n",
       "\n",
       "                                  description_profil  \n",
       "1  Profil recherché If you have… At least 4-5 yea...  "
      ]
     },
     "execution_count": 324,
     "metadata": {},
     "output_type": "execute_result"
    }
   ],
   "source": [
    "(pd.DataFrame.from_dict(description_data,orient=\"index\")\n",
    ".rename(columns={0:'companies',1:'description_entreprise',2:'description_poste',3:'description_profil'}))"
   ]
  },
  {
   "cell_type": "markdown",
   "id": "9c8458c3-6262-43a1-aeaf-1721ef56299c",
   "metadata": {
    "tags": []
   },
   "source": [
    "## BeautifulSoup"
   ]
  },
  {
   "cell_type": "code",
   "execution_count": 43,
   "id": "329e31e2-5557-4ba4-b7ee-9608b2d4a845",
   "metadata": {},
   "outputs": [
    {
     "name": "stderr",
     "output_type": "stream",
     "text": [
      "/var/folders/6d/_c9dj9cs3dv7f9hff54z3xl80000gn/T/ipykernel_1129/3582941795.py:4: DeprecationWarning: executable_path has been deprecated, please pass in a Service object\n",
      "  driver = webdriver.Chrome('../Desktop/chromedriver')\n"
     ]
    }
   ],
   "source": [
    "metier ='data analyst'\n",
    "fin_url='&aroundQuery=Bordeaux%2C+France&aroundLatLng=44.8367%2C-0.58105&aroundRadius=20000'\n",
    "url = f'https://www.welcometothejungle.com/fr/jobs?page=1&groupBy=job&sortBy=mostRecent&query={metier}{fin_url}'\n",
    "driver = webdriver.Chrome('../Desktop/chromedriver')\n",
    "driver.get(url)"
   ]
  },
  {
   "cell_type": "markdown",
   "id": "3a271132-2bfa-47e3-938e-afa920b6fb71",
   "metadata": {
    "tags": []
   },
   "source": [
    "### Récupération des offres pour Bordeaux"
   ]
  },
  {
   "cell_type": "code",
   "execution_count": 251,
   "id": "6c92648a-9101-436f-ac85-91e86b2a0977",
   "metadata": {},
   "outputs": [],
   "source": [
    "elem = driver.find_element(By.XPATH,\"//*\") \n",
    "source_code = elem.get_attribute(\"outerHTML\")\n",
    "soup = BeautifulSoup(source_code,'html.parser')\n",
    "text=soup.find_all('header',{'class':'dkmXvv'})"
   ]
  },
  {
   "cell_type": "code",
   "execution_count": 252,
   "id": "5e4e17f3-33fe-492a-ad1a-2cc2b24b12e1",
   "metadata": {},
   "outputs": [],
   "source": [
    "emploi = {}\n",
    "for data in range(len(text)):\n",
    "    fin_link= text[data].find('a',href=True)['href']\n",
    "    link=f\"https://www.welcometothejungle.com{fin_link}\"\n",
    "    job = text[data].find('h3',{'class':'ineDNW'}).text\n",
    "    companies = text[data].find('h4',{'class':'jHFSmB'}).text\n",
    "    type_contrat =text[data].find_all('span',{'class':'kqrath'})[0].text\n",
    "    teleworking = text[data].find_all('span',{'class':'kqrath'})[1].text\n",
    "    try:\n",
    "        duree=text[data].find_all('span',{'class':'kqrath'})[2].text\n",
    "    except:\n",
    "        duree = \"\"\n",
    "    try:\n",
    "        villes =text[data].find('span',{'class':'gxOAwV'}).text\n",
    "    except:\n",
    "        villes = \"\" \n",
    "    emploi.update({data:[companies,job,type_contrat,teleworking,duree,villes,link]})\n",
    "df = (pd.DataFrame.from_dict(emploi,orient='index').reset_index().\n",
    "      rename(columns={0:'companies',1:'job',2:'type_contrat',3:'teleworking',4:'durée',5:'villes',6:'link'})).drop(columns=['index'])\n"
   ]
  },
  {
   "cell_type": "code",
   "execution_count": 253,
   "id": "1c196051-cdc9-4201-b683-0978899ed710",
   "metadata": {},
   "outputs": [
    {
     "data": {
      "text/plain": [
       "'/fr/companies/ultra-premium-direct/jobs/data-analyst-business-analyst-e-commerce-h-f_bordeaux?q=e4737ca612c5d16e2729199fa7d64e81&o=1343985'"
      ]
     },
     "execution_count": 253,
     "metadata": {},
     "output_type": "execute_result"
    }
   ],
   "source": [
    "text[0].find('a',href=True)['href']"
   ]
  },
  {
   "cell_type": "code",
   "execution_count": 254,
   "id": "6e85fa37-d845-47b4-9e44-b6635fd98ee9",
   "metadata": {},
   "outputs": [
    {
     "data": {
      "text/plain": [
       "'https://www.welcometothejungle.com/fr/companies/ultra-premium-direct/jobs/data-analyst-business-analyst-e-commerce-h-f_bordeaux?q=e4737ca612c5d16e2729199fa7d64e81&o=1343985'"
      ]
     },
     "execution_count": 254,
     "metadata": {},
     "output_type": "execute_result"
    }
   ],
   "source": [
    "df.link[0]"
   ]
  },
  {
   "cell_type": "code",
   "execution_count": 255,
   "id": "f1375cd0-1dd7-4c8e-9fd3-168524a4c4b6",
   "metadata": {},
   "outputs": [
    {
     "data": {
      "text/html": [
       "<div>\n",
       "<style scoped>\n",
       "    .dataframe tbody tr th:only-of-type {\n",
       "        vertical-align: middle;\n",
       "    }\n",
       "\n",
       "    .dataframe tbody tr th {\n",
       "        vertical-align: top;\n",
       "    }\n",
       "\n",
       "    .dataframe thead th {\n",
       "        text-align: right;\n",
       "    }\n",
       "</style>\n",
       "<table border=\"1\" class=\"dataframe\">\n",
       "  <thead>\n",
       "    <tr style=\"text-align: right;\">\n",
       "      <th></th>\n",
       "      <th>companies</th>\n",
       "      <th>job</th>\n",
       "      <th>type_contrat</th>\n",
       "      <th>teleworking</th>\n",
       "      <th>durée</th>\n",
       "      <th>villes</th>\n",
       "      <th>link</th>\n",
       "    </tr>\n",
       "  </thead>\n",
       "  <tbody>\n",
       "    <tr>\n",
       "      <th>0</th>\n",
       "      <td>Ultra Premium Direct</td>\n",
       "      <td>Data Analyst / Business Analyst E-commerce (H/F)</td>\n",
       "      <td>CDI</td>\n",
       "      <td>il y a 11 heures</td>\n",
       "      <td></td>\n",
       "      <td>Bordeaux</td>\n",
       "      <td>https://www.welcometothejungle.com/fr/companie...</td>\n",
       "    </tr>\n",
       "    <tr>\n",
       "      <th>1</th>\n",
       "      <td>Lydia</td>\n",
       "      <td>Data Analyst</td>\n",
       "      <td>CDI</td>\n",
       "      <td>il y a 19 heures</td>\n",
       "      <td></td>\n",
       "      <td>Bordeaux</td>\n",
       "      <td>https://www.welcometothejungle.com/fr/companie...</td>\n",
       "    </tr>\n",
       "    <tr>\n",
       "      <th>2</th>\n",
       "      <td>Madeinvote</td>\n",
       "      <td>Data analyst (CDI)</td>\n",
       "      <td>CDI</td>\n",
       "      <td>Télétravail partiel possible</td>\n",
       "      <td>il y a 20 heures</td>\n",
       "      <td>Bordeaux</td>\n",
       "      <td>https://www.welcometothejungle.com/fr/companie...</td>\n",
       "    </tr>\n",
       "    <tr>\n",
       "      <th>3</th>\n",
       "      <td>iD Systemes</td>\n",
       "      <td>Chef de projet BI H/F</td>\n",
       "      <td>CDI</td>\n",
       "      <td>hier</td>\n",
       "      <td></td>\n",
       "      <td>Bruges</td>\n",
       "      <td>https://www.welcometothejungle.com/fr/companie...</td>\n",
       "    </tr>\n",
       "    <tr>\n",
       "      <th>4</th>\n",
       "      <td>Back Market</td>\n",
       "      <td>Business Data Analyst Intern (Customer Experie...</td>\n",
       "      <td>Stage</td>\n",
       "      <td>il y a 4 jours</td>\n",
       "      <td></td>\n",
       "      <td>Bordeaux</td>\n",
       "      <td>https://www.welcometothejungle.com/fr/companie...</td>\n",
       "    </tr>\n",
       "  </tbody>\n",
       "</table>\n",
       "</div>"
      ],
      "text/plain": [
       "               companies                                                job  \\\n",
       "0  Ultra Premium Direct    Data Analyst / Business Analyst E-commerce (H/F)   \n",
       "1                 Lydia                                        Data Analyst   \n",
       "2            Madeinvote                                  Data analyst (CDI)   \n",
       "3           iD Systemes                               Chef de projet BI H/F   \n",
       "4           Back Market   Business Data Analyst Intern (Customer Experie...   \n",
       "\n",
       "  type_contrat                   teleworking             durée    villes  \\\n",
       "0          CDI              il y a 11 heures                    Bordeaux   \n",
       "1          CDI              il y a 19 heures                    Bordeaux   \n",
       "2          CDI  Télétravail partiel possible  il y a 20 heures  Bordeaux   \n",
       "3          CDI                          hier                      Bruges   \n",
       "4        Stage                il y a 4 jours                    Bordeaux   \n",
       "\n",
       "                                                link  \n",
       "0  https://www.welcometothejungle.com/fr/companie...  \n",
       "1  https://www.welcometothejungle.com/fr/companie...  \n",
       "2  https://www.welcometothejungle.com/fr/companie...  \n",
       "3  https://www.welcometothejungle.com/fr/companie...  \n",
       "4  https://www.welcometothejungle.com/fr/companie...  "
      ]
     },
     "execution_count": 255,
     "metadata": {},
     "output_type": "execute_result"
    }
   ],
   "source": [
    "df.head()"
   ]
  },
  {
   "cell_type": "markdown",
   "id": "5a76f45e-fae0-4821-b1a6-6f805d5d9831",
   "metadata": {
    "tags": []
   },
   "source": [
    "### Récupération de chaque description des offres d'emplois"
   ]
  },
  {
   "cell_type": "code",
   "execution_count": null,
   "id": "1bf355f7-d88a-4f25-94b5-45d6fd753c9f",
   "metadata": {},
   "outputs": [],
   "source": [
    "url = df.link[0]\n",
    "print(url)\n",
    "driver = webdriver.Chrome('../Desktop/chromedriver')\n",
    "driver.get(url)"
   ]
  },
  {
   "cell_type": "code",
   "execution_count": null,
   "id": "3024d253-3558-447d-92af-0cc652016227",
   "metadata": {},
   "outputs": [],
   "source": [
    "elem = driver.find_element(By.XPATH,\"//*\") \n",
    "source_code = elem.get_attribute(\"outerHTML\")\n",
    "soup = BeautifulSoup(source_code,'html.parser')"
   ]
  },
  {
   "cell_type": "code",
   "execution_count": null,
   "id": "b0be3af5-ba5c-4f39-bc59-9f7777da9bd2",
   "metadata": {},
   "outputs": [],
   "source": [
    "text=soup.find_all('section',{'class':'kWzmfO'})"
   ]
  },
  {
   "cell_type": "code",
   "execution_count": 159,
   "id": "4c980d49-3568-44da-8fd6-c91eee54768b",
   "metadata": {},
   "outputs": [
    {
     "data": {
      "text/plain": [
       "'Profil recherchéSavoir être : Vous faites preuve d’esprit d’analyse et de synthèse\\nVous avez une capacité à travailler en autonomie mais également à évoluer au sein d’une équipe projet\\nVous avez une facilité de communication et une capacité à vulgariser les concepts BI complexes\\nVous êtes créatif.ve, curieux.se et force de proposition\\nFormation et compétences : Bac +3 minimum en statistiques, traitement de l’information, mathématiques appliquées et/ou informatique décisionnelle\\nDe 5 à 15 ans d’expérience pertinente dans l’analyse de données et le développement de solutions BI\\nUne expérience en modélisation décisionnelle et architecture Data est souhaitable\\nUne expérience dans un centre d’appels est un plus\\nMaîtrise de Microsoft SQL Server (SSIS en particulier) et du langage SQL\\nTrès bonne connaissance d’un outil de datavisualisation (DigDash espéré mais toute expérience sur un autre outil est attendu)\\nSolide expertise dans le processus de transformation des données de bout en bout et des concepts BI (ODS, DWH, DM, ETL, gouvernance de la donnée, indicateurs de qualité…)\\nConnaissance d’un outil de ticketing (JIRA idéalement)\\nAppétence pour la conduite et le pilotage de projets data (cadrage, coordination, élaboration d’un planning et alertes éventuelles, reporting d’avancement et d’atteinte des objectifs…)\\nInformations utiles : L’entreprise : Ressources Mutuelles AssistanceLieu d’exercice : Vertou, Loire-Atlantique (44) – Télétravail possible (selon ancienneté)Date de prise de fonction souhaitée : début septembreType de contrat : CDI statut cadreConditions financières : Salaire selon profil + Tickets restaurant + Congés Payés + RTT (18 jours)+ Intéressement/Participation'"
      ]
     },
     "execution_count": 159,
     "metadata": {},
     "output_type": "execute_result"
    }
   ],
   "source": [
    "text[3].text"
   ]
  },
  {
   "cell_type": "code",
   "execution_count": 160,
   "id": "37309795-7fe1-44d9-99eb-6213162a2631",
   "metadata": {},
   "outputs": [
    {
     "name": "stderr",
     "output_type": "stream",
     "text": [
      "/var/folders/6d/_c9dj9cs3dv7f9hff54z3xl80000gn/T/ipykernel_4653/2274513976.py:7: DeprecationWarning: executable_path has been deprecated, please pass in a Service object\n",
      "  driver = webdriver.Chrome('../Desktop/chromedriver')\n"
     ]
    }
   ],
   "source": [
    "description={}\n",
    "for i,d in df.iloc[:2,].iterrows():\n",
    "    id_array = i\n",
    "    url = df.link[i]\n",
    "    companies = df.entreprise\n",
    "    # ouverture du webdriver \n",
    "    driver = webdriver.Chrome('../Desktop/chromedriver')\n",
    "    driver.get(url)\n",
    "    \n",
    "    # récupération de l'intégralité du code HTML \n",
    "    elem = driver.find_element(By.XPATH,\"//*\") \n",
    "    source_code = elem.get_attribute(\"outerHTML\")\n",
    "    \n",
    "    # parse du code HTML avec BeautifulSoup\n",
    "    \n",
    "    soup = BeautifulSoup(source_code,'html.parser')\n",
    "    \n",
    "    # récupération du bloc entier contenant les blocs div \n",
    "    # incluant les titres et les descriptions \n",
    "    \n",
    "    text=soup.find_all('section',{'class':'kWzmfO'}) \n",
    "\n",
    "    for i in range(len(text)):\n",
    "        \n",
    "        try:\n",
    "            description_entreprise = text[0].text\n",
    "        except:\n",
    "            pass\n",
    "        try:\n",
    "            description_post = text[2].text\n",
    "        except:\n",
    "            pass\n",
    "        try:\n",
    "            description_profil = text[3].text\n",
    "        except:\n",
    "            pass\n",
    "    driver.quit()\n",
    "    description.update({id_array:[description_entreprise,description_post,description_profil]})"
   ]
  },
  {
   "cell_type": "code",
   "execution_count": 161,
   "id": "4d7ed282-8b48-4b55-9684-e876c2a4f937",
   "metadata": {},
   "outputs": [
    {
     "data": {
      "text/html": [
       "<div>\n",
       "<style scoped>\n",
       "    .dataframe tbody tr th:only-of-type {\n",
       "        vertical-align: middle;\n",
       "    }\n",
       "\n",
       "    .dataframe tbody tr th {\n",
       "        vertical-align: top;\n",
       "    }\n",
       "\n",
       "    .dataframe thead th {\n",
       "        text-align: right;\n",
       "    }\n",
       "</style>\n",
       "<table border=\"1\" class=\"dataframe\">\n",
       "  <thead>\n",
       "    <tr style=\"text-align: right;\">\n",
       "      <th></th>\n",
       "      <th>0</th>\n",
       "      <th>1</th>\n",
       "      <th>2</th>\n",
       "    </tr>\n",
       "  </thead>\n",
       "  <tbody>\n",
       "    <tr>\n",
       "      <th>0</th>\n",
       "      <td>Qui sont-ils ?Bpifrance, Banque publique d’inv...</td>\n",
       "      <td>Descriptif du posteRejoignez les équipes du Tr...</td>\n",
       "      <td>Profil recherchéNous recherchons un profil tec...</td>\n",
       "    </tr>\n",
       "    <tr>\n",
       "      <th>1</th>\n",
       "      <td>Qui sont-ils ?Ressources Mutuelles Assistance ...</td>\n",
       "      <td>Descriptif du posteIntégré.e au sein de la Dir...</td>\n",
       "      <td>Profil recherchéSavoir être : Vous faites preu...</td>\n",
       "    </tr>\n",
       "  </tbody>\n",
       "</table>\n",
       "</div>"
      ],
      "text/plain": [
       "                                                   0  \\\n",
       "0  Qui sont-ils ?Bpifrance, Banque publique d’inv...   \n",
       "1  Qui sont-ils ?Ressources Mutuelles Assistance ...   \n",
       "\n",
       "                                                   1  \\\n",
       "0  Descriptif du posteRejoignez les équipes du Tr...   \n",
       "1  Descriptif du posteIntégré.e au sein de la Dir...   \n",
       "\n",
       "                                                   2  \n",
       "0  Profil recherchéNous recherchons un profil tec...  \n",
       "1  Profil recherchéSavoir être : Vous faites preu...  "
      ]
     },
     "execution_count": 161,
     "metadata": {},
     "output_type": "execute_result"
    }
   ],
   "source": [
    "pd.DataFrame.from_dict(description,orient=\"index\")"
   ]
  },
  {
   "cell_type": "code",
   "execution_count": 142,
   "id": "0fa04a6b-d9d3-4f32-a9e4-bbdab697457f",
   "metadata": {},
   "outputs": [
    {
     "name": "stderr",
     "output_type": "stream",
     "text": [
      "/var/folders/6d/_c9dj9cs3dv7f9hff54z3xl80000gn/T/ipykernel_4653/3496700122.py:5: DeprecationWarning: executable_path has been deprecated, please pass in a Service object\n",
      "  driver = webdriver.Chrome('../Desktop/chromedriver')\n"
     ]
    },
    {
     "data": {
      "text/plain": [
       "{0: ['Déroulement des entretiens\\nTest Technique\\nEntretien RH\\nEntretien Manager / Technique\\nEntretien Codir'],\n",
       " 1: ['Déroulement des entretiens\\nProcessus de recrutement : réception des CV par le service RH > Présélection téléphonique avec Aurélie AUCHER – Chargée RH > Entretien physique avec Justine CANTO-GATESOUPE – Responsable de la Transformation et du Numérique et Clément BURNEL – Responsable du Pôle Statistiques et Informatique Décisionnelle > Entretien physique avec des membres de l’équipe.']}"
      ]
     },
     "execution_count": 142,
     "metadata": {},
     "output_type": "execute_result"
    }
   ],
   "source": [
    "data={}\n",
    "for i,col in df.iloc[:2,].iterrows():\n",
    "    url = df.link[i]\n",
    "    companies = df.entreprise[i]\n",
    "    driver = webdriver.Chrome('../Desktop/chromedriver')\n",
    "    driver.get(url)\n",
    "    donnee = driver.find_elements(By.CLASS_NAME,'kWzmfO')\n",
    "    for a in donnee : \n",
    "        data.update({i:[a.text]})\n",
    "data\n"
   ]
  },
  {
   "cell_type": "code",
   "execution_count": 143,
   "id": "a8574310-0849-426b-96ee-c57f5ed656d8",
   "metadata": {},
   "outputs": [
    {
     "data": {
      "text/html": [
       "<div>\n",
       "<style scoped>\n",
       "    .dataframe tbody tr th:only-of-type {\n",
       "        vertical-align: middle;\n",
       "    }\n",
       "\n",
       "    .dataframe tbody tr th {\n",
       "        vertical-align: top;\n",
       "    }\n",
       "\n",
       "    .dataframe thead th {\n",
       "        text-align: right;\n",
       "    }\n",
       "</style>\n",
       "<table border=\"1\" class=\"dataframe\">\n",
       "  <thead>\n",
       "    <tr style=\"text-align: right;\">\n",
       "      <th></th>\n",
       "      <th>0</th>\n",
       "      <th>1</th>\n",
       "      <th>2</th>\n",
       "      <th>3</th>\n",
       "      <th>4</th>\n",
       "    </tr>\n",
       "  </thead>\n",
       "  <tbody>\n",
       "    <tr>\n",
       "      <th>0</th>\n",
       "      <td>Déroulement des entretiens</td>\n",
       "      <td>Test Technique</td>\n",
       "      <td>Entretien RH</td>\n",
       "      <td>Entretien Manager / Technique</td>\n",
       "      <td>Entretien Codir</td>\n",
       "    </tr>\n",
       "    <tr>\n",
       "      <th>1</th>\n",
       "      <td>Déroulement des entretiens</td>\n",
       "      <td>Processus de recrutement : réception des CV pa...</td>\n",
       "      <td>None</td>\n",
       "      <td>None</td>\n",
       "      <td>None</td>\n",
       "    </tr>\n",
       "  </tbody>\n",
       "</table>\n",
       "</div>"
      ],
      "text/plain": [
       "                            0  \\\n",
       "0  Déroulement des entretiens   \n",
       "1  Déroulement des entretiens   \n",
       "\n",
       "                                                   1             2  \\\n",
       "0                                     Test Technique  Entretien RH   \n",
       "1  Processus de recrutement : réception des CV pa...          None   \n",
       "\n",
       "                               3                4  \n",
       "0  Entretien Manager / Technique  Entretien Codir  \n",
       "1                           None             None  "
      ]
     },
     "execution_count": 143,
     "metadata": {},
     "output_type": "execute_result"
    }
   ],
   "source": [
    "pd.DataFrame.from_dict(data,orient=\"index\")[0].str.split(\"\\n\",expand=True)"
   ]
  },
  {
   "cell_type": "code",
   "execution_count": 37,
   "id": "fa673c48-9dd8-4d28-8d4b-0c80ad102cda",
   "metadata": {},
   "outputs": [],
   "source": [
    "df_description = pd.DataFrame.from_dict(description,orient=\"index\").reset_index()"
   ]
  },
  {
   "cell_type": "code",
   "execution_count": 38,
   "id": "bba7f24e-c43a-4529-86f2-faaedb3e86bb",
   "metadata": {},
   "outputs": [],
   "source": [
    "df_description.rename(columns={0:'companies',1:'description_entreprise',2:'description_post',3:'description_profil'},inplace=True)\n",
    "df_description.head()\n",
    "df_description.to_csv('df_description.csv',sep=\";\")"
   ]
  },
  {
   "cell_type": "code",
   "execution_count": 48,
   "id": "c4babbcc-4895-49e1-a5b4-4bb9fefc9225",
   "metadata": {},
   "outputs": [],
   "source": [
    "df = df.merge(df_description,how=\"inner\",right_index=True,left_index=True).drop(columns=['companies_y','index']).rename(columns={'companies_x':'companies'})"
   ]
  },
  {
   "cell_type": "code",
   "execution_count": 49,
   "id": "9bb2d8b4-beb7-4e59-9c2f-4d03edc0b912",
   "metadata": {},
   "outputs": [],
   "source": [
    "df.to_csv('df_complet.csv',sep=\";\")"
   ]
  },
  {
   "cell_type": "code",
   "execution_count": 50,
   "id": "675a0eea-8e47-4738-b0d6-038381788082",
   "metadata": {},
   "outputs": [
    {
     "data": {
      "text/html": [
       "<div>\n",
       "<style scoped>\n",
       "    .dataframe tbody tr th:only-of-type {\n",
       "        vertical-align: middle;\n",
       "    }\n",
       "\n",
       "    .dataframe tbody tr th {\n",
       "        vertical-align: top;\n",
       "    }\n",
       "\n",
       "    .dataframe thead th {\n",
       "        text-align: right;\n",
       "    }\n",
       "</style>\n",
       "<table border=\"1\" class=\"dataframe\">\n",
       "  <thead>\n",
       "    <tr style=\"text-align: right;\">\n",
       "      <th></th>\n",
       "      <th>companies</th>\n",
       "      <th>job</th>\n",
       "      <th>type_contrat</th>\n",
       "      <th>teleworking</th>\n",
       "      <th>durée</th>\n",
       "      <th>villes</th>\n",
       "      <th>link</th>\n",
       "      <th>description_entreprise</th>\n",
       "      <th>description_post</th>\n",
       "      <th>description_profil</th>\n",
       "    </tr>\n",
       "  </thead>\n",
       "  <tbody>\n",
       "    <tr>\n",
       "      <th>0</th>\n",
       "      <td>Atos</td>\n",
       "      <td>Data Analyst Tableau F/H</td>\n",
       "      <td>CDI</td>\n",
       "      <td>il y a 16 heures</td>\n",
       "      <td></td>\n",
       "      <td>Pessac</td>\n",
       "      <td>https://www.welcometothejungle.com/fr/companie...</td>\n",
       "      <td>Bienvenue chez Atos, où nous imaginons le futu...</td>\n",
       "      <td>Dans le cadre de notre croissance et pour répo...</td>\n",
       "      <td>Profil recherché :Pourquoi rejoindre Atos Bord...</td>\n",
       "    </tr>\n",
       "    <tr>\n",
       "      <th>1</th>\n",
       "      <td>Thélio</td>\n",
       "      <td>Consultant Data et BI (F/H)</td>\n",
       "      <td>CDI</td>\n",
       "      <td>Télétravail partiel possible</td>\n",
       "      <td>il y a 19 heures</td>\n",
       "      <td></td>\n",
       "      <td>https://www.welcometothejungle.com/fr/companie...</td>\n",
       "      <td>Thélio est né pour relever un défi : démystifi...</td>\n",
       "      <td>Selon vos expériences, vous êtes autonome à mi...</td>\n",
       "      <td>Pour relever ce défi, il vous faut :Avoir au m...</td>\n",
       "    </tr>\n",
       "    <tr>\n",
       "      <th>2</th>\n",
       "      <td>Ultra Premium Direct</td>\n",
       "      <td>Data Analyst / Business Analyst E-commerce (H/F)</td>\n",
       "      <td>CDI</td>\n",
       "      <td>avant-hier</td>\n",
       "      <td></td>\n",
       "      <td>Bordeaux</td>\n",
       "      <td>https://www.welcometothejungle.com/fr/companie...</td>\n",
       "      <td>Lancée en 2014, Ultra Premium Direct est le le...</td>\n",
       "      <td>Qui sommes-nous ?Lancée en 2014, Ultra Premium...</td>\n",
       "      <td>Où serez-vous dans l’organisation ?Sous la res...</td>\n",
       "    </tr>\n",
       "    <tr>\n",
       "      <th>3</th>\n",
       "      <td>Little Worker</td>\n",
       "      <td>Sales Development Representative - SDR H/F</td>\n",
       "      <td>CDI</td>\n",
       "      <td>il y a 3 jours</td>\n",
       "      <td></td>\n",
       "      <td>Bordeaux</td>\n",
       "      <td>https://www.welcometothejungle.com/fr/companie...</td>\n",
       "      <td>Pour nous, un projet immobilier, c’est d’abord...</td>\n",
       "      <td>Nous recherchons notre futur(e) SDR pour rejoi...</td>\n",
       "      <td>Tu possèdes une forte fibre commerciale et une...</td>\n",
       "    </tr>\n",
       "    <tr>\n",
       "      <th>4</th>\n",
       "      <td>Atos</td>\n",
       "      <td>Consultant Informatica F/H</td>\n",
       "      <td>CDI</td>\n",
       "      <td>il y a 3 jours</td>\n",
       "      <td></td>\n",
       "      <td>Pessac</td>\n",
       "      <td>https://www.welcometothejungle.com/fr/companie...</td>\n",
       "      <td>Bienvenue chez Atos, où nous imaginons le futu...</td>\n",
       "      <td>Dans le cadre du développement de notre activi...</td>\n",
       "      <td>Profil recherché :Qui êtes-vous ? De formation...</td>\n",
       "    </tr>\n",
       "    <tr>\n",
       "      <th>5</th>\n",
       "      <td>La Sécurité sociale</td>\n",
       "      <td>Intégrateur de production/Analyste d'exploitat...</td>\n",
       "      <td>CDI</td>\n",
       "      <td>il y a 6 jours</td>\n",
       "      <td></td>\n",
       "      <td>Bordeaux</td>\n",
       "      <td>https://www.welcometothejungle.com/fr/companie...</td>\n",
       "      <td>Qui sommes-nous ?L'entreprise : La CNAF (Caiss...</td>\n",
       "      <td>Concrètement votre futur quotidien ?Vos princi...</td>\n",
       "      <td>Êtes-vous notre prochain(e) Intégrateur de pro...</td>\n",
       "    </tr>\n",
       "    <tr>\n",
       "      <th>6</th>\n",
       "      <td>Deloitte</td>\n",
       "      <td>Auditeur Analyste Industrie et Services (H/F)</td>\n",
       "      <td>CDI</td>\n",
       "      <td>il y a 7 jours</td>\n",
       "      <td></td>\n",
       "      <td>Bordeaux</td>\n",
       "      <td>https://www.welcometothejungle.com/fr/companie...</td>\n",
       "      <td>Premier cabinet d’Audit et de Conseil en Franc...</td>\n",
       "      <td>Poste à pourvoir dès possibleDépassement de so...</td>\n",
       "      <td>Êtes-vous notre prochain(e) Intégrateur de pro...</td>\n",
       "    </tr>\n",
       "    <tr>\n",
       "      <th>7</th>\n",
       "      <td>iD Systemes</td>\n",
       "      <td>Chef de projet BI H/F</td>\n",
       "      <td>CDI</td>\n",
       "      <td>il y a 8 jours</td>\n",
       "      <td></td>\n",
       "      <td>Bruges</td>\n",
       "      <td>https://www.welcometothejungle.com/fr/companie...</td>\n",
       "      <td>Le groupe iD Systemes édite et commercialise u...</td>\n",
       "      <td>Au sein de l’équipe Data vous intervenez sur l...</td>\n",
       "      <td>Issu(e) d’une formation d’Ingénieur, Master 2 ...</td>\n",
       "    </tr>\n",
       "    <tr>\n",
       "      <th>8</th>\n",
       "      <td>CGI</td>\n",
       "      <td>Analyste Développeur GED H/F</td>\n",
       "      <td>CDI</td>\n",
       "      <td>il y a 13 jours</td>\n",
       "      <td></td>\n",
       "      <td>Bordeaux</td>\n",
       "      <td>https://www.welcometothejungle.com/fr/companie...</td>\n",
       "      <td>Leader mondial du conseil et des services numé...</td>\n",
       "      <td>Les tâches qui vous seront confiées en foncti...</td>\n",
       "      <td>Nous encourageons l’initiative et l’innovatio...</td>\n",
       "    </tr>\n",
       "    <tr>\n",
       "      <th>9</th>\n",
       "      <td>Betclic Group</td>\n",
       "      <td>Manager Data Analytics F/M</td>\n",
       "      <td>CDI</td>\n",
       "      <td>Télétravail partiel possible</td>\n",
       "      <td>il y a 15 jours</td>\n",
       "      <td></td>\n",
       "      <td>https://www.welcometothejungle.com/fr/companie...</td>\n",
       "      <td>Entreprise française leader en Europe sur les ...</td>\n",
       "      <td>WE ARE BETCLICA leader in Europe in sports bet...</td>\n",
       "      <td>Nous encourageons l’initiative et l’innovatio...</td>\n",
       "    </tr>\n",
       "    <tr>\n",
       "      <th>10</th>\n",
       "      <td>M13h</td>\n",
       "      <td>Lead Analytics - Bordeaux - F/H</td>\n",
       "      <td>CDI</td>\n",
       "      <td>Télétravail partiel possible</td>\n",
       "      <td>il y a 16 jours</td>\n",
       "      <td></td>\n",
       "      <td>https://www.welcometothejungle.com/fr/companie...</td>\n",
       "      <td>A propos de M13h 👋M13h est une équipe de consu...</td>\n",
       "      <td>Description du poste 📢En tant que Lead Analyti...</td>\n",
       "      <td>Profil recherché 👨👩Issu·e d’une grande école d...</td>\n",
       "    </tr>\n",
       "    <tr>\n",
       "      <th>11</th>\n",
       "      <td>M13h</td>\n",
       "      <td>STAGE - Data Scientist / Analytics Engineer - ...</td>\n",
       "      <td>Stage</td>\n",
       "      <td>Télétravail partiel possible</td>\n",
       "      <td>il y a 16 jours</td>\n",
       "      <td></td>\n",
       "      <td>https://www.welcometothejungle.com/fr/companie...</td>\n",
       "      <td>A propos de M13h 👋M13h est une équipe de consu...</td>\n",
       "      <td>Description du poste 📢En tant queData Scientis...</td>\n",
       "      <td>Profil recherché 👨👩Issu·e d’une grande école d...</td>\n",
       "    </tr>\n",
       "    <tr>\n",
       "      <th>12</th>\n",
       "      <td>M13h</td>\n",
       "      <td>Analytics Engineer - Bordeaux - F/H</td>\n",
       "      <td>CDI</td>\n",
       "      <td>il y a 16 jours</td>\n",
       "      <td></td>\n",
       "      <td>Bordeaux</td>\n",
       "      <td>https://www.welcometothejungle.com/fr/companie...</td>\n",
       "      <td>A propos de M13h 👋M13h est une équipe de consu...</td>\n",
       "      <td>Description du poste 📢En tant qu’Analytics Eng...</td>\n",
       "      <td>Profil recherché 👨👩Issu·e d’une grande école d...</td>\n",
       "    </tr>\n",
       "    <tr>\n",
       "      <th>13</th>\n",
       "      <td>M13h</td>\n",
       "      <td>Analytics Engineer Senior - Bordeaux - F/H</td>\n",
       "      <td>CDI</td>\n",
       "      <td>Télétravail partiel possible</td>\n",
       "      <td>il y a 16 jours</td>\n",
       "      <td></td>\n",
       "      <td>https://www.welcometothejungle.com/fr/companie...</td>\n",
       "      <td>A propos de M13h 👋M13h est une équipe de consu...</td>\n",
       "      <td>Description du poste 📢En tant qu’Analytics Eng...</td>\n",
       "      <td>Profil recherché 👨👩Issu·e d’une grande école d...</td>\n",
       "    </tr>\n",
       "    <tr>\n",
       "      <th>14</th>\n",
       "      <td>M13h</td>\n",
       "      <td>Data analyst - Bordeaux - F/H</td>\n",
       "      <td>CDI</td>\n",
       "      <td>Télétravail partiel possible</td>\n",
       "      <td>il y a 16 jours</td>\n",
       "      <td></td>\n",
       "      <td>https://www.welcometothejungle.com/fr/companie...</td>\n",
       "      <td>A propos de M13h 👋M13h est une équipe de consu...</td>\n",
       "      <td>Description du poste 📢En tant quedata analyst,...</td>\n",
       "      <td>Profil recherché 👨👩Issu·e d’une grande école d...</td>\n",
       "    </tr>\n",
       "    <tr>\n",
       "      <th>15</th>\n",
       "      <td>Betclic Group</td>\n",
       "      <td>Product Analyst H/F</td>\n",
       "      <td>CDI</td>\n",
       "      <td>il y a 16 jours</td>\n",
       "      <td></td>\n",
       "      <td>Bordeaux</td>\n",
       "      <td>https://www.welcometothejungle.com/fr/companie...</td>\n",
       "      <td>Entreprise française leader en Europe sur les ...</td>\n",
       "      <td>WE ARE BETCLICA leader in Europe in sports bet...</td>\n",
       "      <td>Profil recherché 👨👩Issu·e d’une grande école d...</td>\n",
       "    </tr>\n",
       "    <tr>\n",
       "      <th>16</th>\n",
       "      <td>Merck Martillac</td>\n",
       "      <td>Technicien Laboratoire Validation Analytique f/h</td>\n",
       "      <td>CDI</td>\n",
       "      <td>Télétravail partiel possible</td>\n",
       "      <td>il y a 17 jours</td>\n",
       "      <td></td>\n",
       "      <td>https://www.welcometothejungle.com/fr/companie...</td>\n",
       "      <td>.</td>\n",
       "      <td>Une carrière chez nous, c’est un parcours cont...</td>\n",
       "      <td>Profil recherché :Qui vous êtes :  Bac+2/+3 en...</td>\n",
       "    </tr>\n",
       "    <tr>\n",
       "      <th>17</th>\n",
       "      <td>Cdiscount</td>\n",
       "      <td>STAGE - ANALYSTE PLANIFICATION DES VENTES F/H</td>\n",
       "      <td>Stage</td>\n",
       "      <td>Télétravail partiel possible</td>\n",
       "      <td>il y a 17 jours</td>\n",
       "      <td></td>\n",
       "      <td>https://www.welcometothejungle.com/fr/companie...</td>\n",
       "      <td>Cdiscount est une aventure du numérique frança...</td>\n",
       "      <td>REJOIGNEZ UN COLLECTIF ANIME PAR LE GOÛT DU DE...</td>\n",
       "      <td>Profil recherché :Révélez votre talentNous rec...</td>\n",
       "    </tr>\n",
       "    <tr>\n",
       "      <th>18</th>\n",
       "      <td>Libon</td>\n",
       "      <td>Data Analyst H/F</td>\n",
       "      <td>CDI</td>\n",
       "      <td>Télétravail partiel possible</td>\n",
       "      <td>il y a 20 jours</td>\n",
       "      <td></td>\n",
       "      <td>https://www.welcometothejungle.com/fr/companie...</td>\n",
       "      <td>Libon, créée en 2018 et membre de la Frenchtec...</td>\n",
       "      <td>📍Poste basé à Bordeaux Libon est une entrepris...</td>\n",
       "      <td>• Tu as 3+ années d’expérience en data analyse...</td>\n",
       "    </tr>\n",
       "    <tr>\n",
       "      <th>19</th>\n",
       "      <td>TESSI</td>\n",
       "      <td>Intégrateur système H/F</td>\n",
       "      <td>CDI</td>\n",
       "      <td>Télétravail partiel possible</td>\n",
       "      <td>il y a 23 jours</td>\n",
       "      <td></td>\n",
       "      <td>https://www.welcometothejungle.com/fr/companie...</td>\n",
       "      <td>www.tessi.euTessi est une entreprise spécialis...</td>\n",
       "      <td>Au sein de l'équipe Exploitation, la cellule t...</td>\n",
       "      <td>Issu(e) d'une formation supérieure en Informat...</td>\n",
       "    </tr>\n",
       "    <tr>\n",
       "      <th>20</th>\n",
       "      <td>Betclic Group</td>\n",
       "      <td>Senior Data Analytics Manager F/M</td>\n",
       "      <td>CDI</td>\n",
       "      <td>Télétravail partiel possible</td>\n",
       "      <td>il y a 26 jours</td>\n",
       "      <td></td>\n",
       "      <td>https://www.welcometothejungle.com/fr/companie...</td>\n",
       "      <td>Entreprise française leader en Europe sur les ...</td>\n",
       "      <td>WE ARE BETCLICA leader in Europe in sports bet...</td>\n",
       "      <td>Issu(e) d'une formation supérieure en Informat...</td>\n",
       "    </tr>\n",
       "    <tr>\n",
       "      <th>21</th>\n",
       "      <td>Betclic Group</td>\n",
       "      <td>Senior Data Analyst - Acquisition H/F</td>\n",
       "      <td>CDI</td>\n",
       "      <td>Télétravail partiel possible</td>\n",
       "      <td>le mois dernier</td>\n",
       "      <td></td>\n",
       "      <td>https://www.welcometothejungle.com/fr/companie...</td>\n",
       "      <td>Entreprise française leader en Europe sur les ...</td>\n",
       "      <td>WE ARE BETCLICA leader in Europe in sports bet...</td>\n",
       "      <td>Issu(e) d'une formation supérieure en Informat...</td>\n",
       "    </tr>\n",
       "    <tr>\n",
       "      <th>22</th>\n",
       "      <td>CGI</td>\n",
       "      <td>Analyste fonctionnel junior H/F</td>\n",
       "      <td>CDI</td>\n",
       "      <td>il y a 2 mois</td>\n",
       "      <td></td>\n",
       "      <td>Bordeaux</td>\n",
       "      <td>https://www.welcometothejungle.com/fr/companie...</td>\n",
       "      <td>Leader mondial du conseil et des services numé...</td>\n",
       "      <td>De le cadre de vos responsabilités, vous sere...</td>\n",
       "      <td>De niveau Bac+2 ayant une première expérience...</td>\n",
       "    </tr>\n",
       "    <tr>\n",
       "      <th>23</th>\n",
       "      <td>Madeinvote</td>\n",
       "      <td>Stage - Data analyst</td>\n",
       "      <td>CDI</td>\n",
       "      <td>Télétravail partiel possible</td>\n",
       "      <td>il y a 2 mois</td>\n",
       "      <td></td>\n",
       "      <td>https://www.welcometothejungle.com/fr/companie...</td>\n",
       "      <td>Madeinvote a développé une solution d’études m...</td>\n",
       "      <td>La  mission de Madeinvote est de solliciter en...</td>\n",
       "      <td>De niveau Bac+2 ayant une première expérience...</td>\n",
       "    </tr>\n",
       "    <tr>\n",
       "      <th>24</th>\n",
       "      <td>Betclic Group</td>\n",
       "      <td>Poker Analyst H/F</td>\n",
       "      <td>CDI</td>\n",
       "      <td>Télétravail partiel possible</td>\n",
       "      <td>il y a 2 mois</td>\n",
       "      <td></td>\n",
       "      <td>https://www.welcometothejungle.com/fr/companie...</td>\n",
       "      <td>Entreprise française leader en Europe sur les ...</td>\n",
       "      <td>WE ARE BETCLICA leader in Europe in sports bet...</td>\n",
       "      <td>De niveau Bac+2 ayant une première expérience...</td>\n",
       "    </tr>\n",
       "    <tr>\n",
       "      <th>25</th>\n",
       "      <td>Betclic Group</td>\n",
       "      <td>Data Analyst H/F</td>\n",
       "      <td>CDI</td>\n",
       "      <td>Télétravail partiel possible</td>\n",
       "      <td>il y a 2 mois</td>\n",
       "      <td></td>\n",
       "      <td>https://www.welcometothejungle.com/fr/companie...</td>\n",
       "      <td>Entreprise française leader en Europe sur les ...</td>\n",
       "      <td>WE ARE BETCLICA leader in Europe in sports bet...</td>\n",
       "      <td>De niveau Bac+2 ayant une première expérience...</td>\n",
       "    </tr>\n",
       "    <tr>\n",
       "      <th>26</th>\n",
       "      <td>Betclic Group</td>\n",
       "      <td>Data Quality Analyst &amp; Governance Officer H/F</td>\n",
       "      <td>CDI</td>\n",
       "      <td>il y a 2 mois</td>\n",
       "      <td></td>\n",
       "      <td>Bordeaux</td>\n",
       "      <td>https://www.welcometothejungle.com/fr/companie...</td>\n",
       "      <td>Entreprise française leader en Europe sur les ...</td>\n",
       "      <td>WE ARE BETCLICEntreprise française leader en E...</td>\n",
       "      <td>De niveau Bac+2 ayant une première expérience...</td>\n",
       "    </tr>\n",
       "    <tr>\n",
       "      <th>27</th>\n",
       "      <td>CGI</td>\n",
       "      <td>Analyste Technique WebMethods H/F</td>\n",
       "      <td>CDI</td>\n",
       "      <td>il y a 2 mois</td>\n",
       "      <td></td>\n",
       "      <td>Bordeaux</td>\n",
       "      <td>https://www.welcometothejungle.com/fr/companie...</td>\n",
       "      <td>Leader mondial du conseil et des services numé...</td>\n",
       "      <td>Votre mission, c’est être au cœur des enjeux ...</td>\n",
       "      <td>Bac+2 à Bac+5 (école d’ingénieur ou diplôme u...</td>\n",
       "    </tr>\n",
       "    <tr>\n",
       "      <th>28</th>\n",
       "      <td>CGI</td>\n",
       "      <td>Analyste Grand système Cobol H/F</td>\n",
       "      <td>CDI</td>\n",
       "      <td>il y a 2 mois</td>\n",
       "      <td></td>\n",
       "      <td>Bordeaux</td>\n",
       "      <td>https://www.welcometothejungle.com/fr/companie...</td>\n",
       "      <td>Leader mondial du conseil et des services numé...</td>\n",
       "      <td>Votre mission, c’est être au cœur des enjeux ...</td>\n",
       "      <td>Vous avez une expérience de 3 ans minimum dan...</td>\n",
       "    </tr>\n",
       "    <tr>\n",
       "      <th>29</th>\n",
       "      <td>ALOGIA Groupe</td>\n",
       "      <td>Stage Assistant(e) chargé(e) d’études / data s...</td>\n",
       "      <td>Stage</td>\n",
       "      <td>Télétravail partiel possible</td>\n",
       "      <td>il y a 2 mois</td>\n",
       "      <td></td>\n",
       "      <td>https://www.welcometothejungle.com/fr/companie...</td>\n",
       "      <td>Expert du bien-vieillir à domicile depuis sa c...</td>\n",
       "      <td>Sous la direction de la Responsable du Pôle Ét...</td>\n",
       "      <td>PROFIL RECHERCHÉBAC +2/5 (géographie/démograph...</td>\n",
       "    </tr>\n",
       "  </tbody>\n",
       "</table>\n",
       "</div>"
      ],
      "text/plain": [
       "                companies                                                job  \\\n",
       "0                   Atos                            Data Analyst Tableau F/H   \n",
       "1                 Thélio                         Consultant Data et BI (F/H)   \n",
       "2   Ultra Premium Direct    Data Analyst / Business Analyst E-commerce (H/F)   \n",
       "3          Little Worker         Sales Development Representative - SDR H/F    \n",
       "4                   Atos                          Consultant Informatica F/H   \n",
       "5    La Sécurité sociale   Intégrateur de production/Analyste d'exploitat...   \n",
       "6               Deloitte       Auditeur Analyste Industrie et Services (H/F)   \n",
       "7            iD Systemes                               Chef de projet BI H/F   \n",
       "8                    CGI                       Analyste Développeur GED H/F    \n",
       "9          Betclic Group                          Manager Data Analytics F/M   \n",
       "10                  M13h                     Lead Analytics - Bordeaux - F/H   \n",
       "11                  M13h   STAGE - Data Scientist / Analytics Engineer - ...   \n",
       "12                  M13h                 Analytics Engineer - Bordeaux - F/H   \n",
       "13                  M13h          Analytics Engineer Senior - Bordeaux - F/H   \n",
       "14                  M13h                       Data analyst - Bordeaux - F/H   \n",
       "15         Betclic Group                                 Product Analyst H/F   \n",
       "16       Merck Martillac    Technicien Laboratoire Validation Analytique f/h   \n",
       "17             Cdiscount       STAGE - ANALYSTE PLANIFICATION DES VENTES F/H   \n",
       "18                 Libon                                    Data Analyst H/F   \n",
       "19                 TESSI                             Intégrateur système H/F   \n",
       "20         Betclic Group                   Senior Data Analytics Manager F/M   \n",
       "21         Betclic Group               Senior Data Analyst - Acquisition H/F   \n",
       "22                   CGI                    Analyste fonctionnel junior H/F    \n",
       "23            Madeinvote                                Stage - Data analyst   \n",
       "24         Betclic Group                                   Poker Analyst H/F   \n",
       "25         Betclic Group                                    Data Analyst H/F   \n",
       "26         Betclic Group       Data Quality Analyst & Governance Officer H/F   \n",
       "27                   CGI                  Analyste Technique WebMethods H/F    \n",
       "28                   CGI                   Analyste Grand système Cobol H/F    \n",
       "29         ALOGIA Groupe   Stage Assistant(e) chargé(e) d’études / data s...   \n",
       "\n",
       "   type_contrat                   teleworking             durée    villes  \\\n",
       "0           CDI              il y a 16 heures                      Pessac   \n",
       "1           CDI  Télétravail partiel possible  il y a 19 heures             \n",
       "2           CDI                    avant-hier                    Bordeaux   \n",
       "3           CDI                il y a 3 jours                    Bordeaux   \n",
       "4           CDI                il y a 3 jours                      Pessac   \n",
       "5           CDI                il y a 6 jours                    Bordeaux   \n",
       "6           CDI                il y a 7 jours                    Bordeaux   \n",
       "7           CDI                il y a 8 jours                      Bruges   \n",
       "8           CDI               il y a 13 jours                    Bordeaux   \n",
       "9           CDI  Télétravail partiel possible   il y a 15 jours             \n",
       "10          CDI  Télétravail partiel possible   il y a 16 jours             \n",
       "11        Stage  Télétravail partiel possible   il y a 16 jours             \n",
       "12          CDI               il y a 16 jours                    Bordeaux   \n",
       "13          CDI  Télétravail partiel possible   il y a 16 jours             \n",
       "14          CDI  Télétravail partiel possible   il y a 16 jours             \n",
       "15          CDI               il y a 16 jours                    Bordeaux   \n",
       "16          CDI  Télétravail partiel possible   il y a 17 jours             \n",
       "17        Stage  Télétravail partiel possible   il y a 17 jours             \n",
       "18          CDI  Télétravail partiel possible   il y a 20 jours             \n",
       "19          CDI  Télétravail partiel possible   il y a 23 jours             \n",
       "20          CDI  Télétravail partiel possible   il y a 26 jours             \n",
       "21          CDI  Télétravail partiel possible   le mois dernier             \n",
       "22          CDI                 il y a 2 mois                    Bordeaux   \n",
       "23          CDI  Télétravail partiel possible     il y a 2 mois             \n",
       "24          CDI  Télétravail partiel possible     il y a 2 mois             \n",
       "25          CDI  Télétravail partiel possible     il y a 2 mois             \n",
       "26          CDI                 il y a 2 mois                    Bordeaux   \n",
       "27          CDI                 il y a 2 mois                    Bordeaux   \n",
       "28          CDI                 il y a 2 mois                    Bordeaux   \n",
       "29        Stage  Télétravail partiel possible     il y a 2 mois             \n",
       "\n",
       "                                                 link  \\\n",
       "0   https://www.welcometothejungle.com/fr/companie...   \n",
       "1   https://www.welcometothejungle.com/fr/companie...   \n",
       "2   https://www.welcometothejungle.com/fr/companie...   \n",
       "3   https://www.welcometothejungle.com/fr/companie...   \n",
       "4   https://www.welcometothejungle.com/fr/companie...   \n",
       "5   https://www.welcometothejungle.com/fr/companie...   \n",
       "6   https://www.welcometothejungle.com/fr/companie...   \n",
       "7   https://www.welcometothejungle.com/fr/companie...   \n",
       "8   https://www.welcometothejungle.com/fr/companie...   \n",
       "9   https://www.welcometothejungle.com/fr/companie...   \n",
       "10  https://www.welcometothejungle.com/fr/companie...   \n",
       "11  https://www.welcometothejungle.com/fr/companie...   \n",
       "12  https://www.welcometothejungle.com/fr/companie...   \n",
       "13  https://www.welcometothejungle.com/fr/companie...   \n",
       "14  https://www.welcometothejungle.com/fr/companie...   \n",
       "15  https://www.welcometothejungle.com/fr/companie...   \n",
       "16  https://www.welcometothejungle.com/fr/companie...   \n",
       "17  https://www.welcometothejungle.com/fr/companie...   \n",
       "18  https://www.welcometothejungle.com/fr/companie...   \n",
       "19  https://www.welcometothejungle.com/fr/companie...   \n",
       "20  https://www.welcometothejungle.com/fr/companie...   \n",
       "21  https://www.welcometothejungle.com/fr/companie...   \n",
       "22  https://www.welcometothejungle.com/fr/companie...   \n",
       "23  https://www.welcometothejungle.com/fr/companie...   \n",
       "24  https://www.welcometothejungle.com/fr/companie...   \n",
       "25  https://www.welcometothejungle.com/fr/companie...   \n",
       "26  https://www.welcometothejungle.com/fr/companie...   \n",
       "27  https://www.welcometothejungle.com/fr/companie...   \n",
       "28  https://www.welcometothejungle.com/fr/companie...   \n",
       "29  https://www.welcometothejungle.com/fr/companie...   \n",
       "\n",
       "                               description_entreprise  \\\n",
       "0   Bienvenue chez Atos, où nous imaginons le futu...   \n",
       "1   Thélio est né pour relever un défi : démystifi...   \n",
       "2   Lancée en 2014, Ultra Premium Direct est le le...   \n",
       "3   Pour nous, un projet immobilier, c’est d’abord...   \n",
       "4   Bienvenue chez Atos, où nous imaginons le futu...   \n",
       "5   Qui sommes-nous ?L'entreprise : La CNAF (Caiss...   \n",
       "6   Premier cabinet d’Audit et de Conseil en Franc...   \n",
       "7   Le groupe iD Systemes édite et commercialise u...   \n",
       "8   Leader mondial du conseil et des services numé...   \n",
       "9   Entreprise française leader en Europe sur les ...   \n",
       "10  A propos de M13h 👋M13h est une équipe de consu...   \n",
       "11  A propos de M13h 👋M13h est une équipe de consu...   \n",
       "12  A propos de M13h 👋M13h est une équipe de consu...   \n",
       "13  A propos de M13h 👋M13h est une équipe de consu...   \n",
       "14  A propos de M13h 👋M13h est une équipe de consu...   \n",
       "15  Entreprise française leader en Europe sur les ...   \n",
       "16                                                  .   \n",
       "17  Cdiscount est une aventure du numérique frança...   \n",
       "18  Libon, créée en 2018 et membre de la Frenchtec...   \n",
       "19  www.tessi.euTessi est une entreprise spécialis...   \n",
       "20  Entreprise française leader en Europe sur les ...   \n",
       "21  Entreprise française leader en Europe sur les ...   \n",
       "22  Leader mondial du conseil et des services numé...   \n",
       "23  Madeinvote a développé une solution d’études m...   \n",
       "24  Entreprise française leader en Europe sur les ...   \n",
       "25  Entreprise française leader en Europe sur les ...   \n",
       "26  Entreprise française leader en Europe sur les ...   \n",
       "27  Leader mondial du conseil et des services numé...   \n",
       "28  Leader mondial du conseil et des services numé...   \n",
       "29  Expert du bien-vieillir à domicile depuis sa c...   \n",
       "\n",
       "                                     description_post  \\\n",
       "0   Dans le cadre de notre croissance et pour répo...   \n",
       "1   Selon vos expériences, vous êtes autonome à mi...   \n",
       "2   Qui sommes-nous ?Lancée en 2014, Ultra Premium...   \n",
       "3   Nous recherchons notre futur(e) SDR pour rejoi...   \n",
       "4   Dans le cadre du développement de notre activi...   \n",
       "5   Concrètement votre futur quotidien ?Vos princi...   \n",
       "6   Poste à pourvoir dès possibleDépassement de so...   \n",
       "7   Au sein de l’équipe Data vous intervenez sur l...   \n",
       "8    Les tâches qui vous seront confiées en foncti...   \n",
       "9   WE ARE BETCLICA leader in Europe in sports bet...   \n",
       "10  Description du poste 📢En tant que Lead Analyti...   \n",
       "11  Description du poste 📢En tant queData Scientis...   \n",
       "12  Description du poste 📢En tant qu’Analytics Eng...   \n",
       "13  Description du poste 📢En tant qu’Analytics Eng...   \n",
       "14  Description du poste 📢En tant quedata analyst,...   \n",
       "15  WE ARE BETCLICA leader in Europe in sports bet...   \n",
       "16  Une carrière chez nous, c’est un parcours cont...   \n",
       "17  REJOIGNEZ UN COLLECTIF ANIME PAR LE GOÛT DU DE...   \n",
       "18  📍Poste basé à Bordeaux Libon est une entrepris...   \n",
       "19  Au sein de l'équipe Exploitation, la cellule t...   \n",
       "20  WE ARE BETCLICA leader in Europe in sports bet...   \n",
       "21  WE ARE BETCLICA leader in Europe in sports bet...   \n",
       "22   De le cadre de vos responsabilités, vous sere...   \n",
       "23  La  mission de Madeinvote est de solliciter en...   \n",
       "24  WE ARE BETCLICA leader in Europe in sports bet...   \n",
       "25  WE ARE BETCLICA leader in Europe in sports bet...   \n",
       "26  WE ARE BETCLICEntreprise française leader en E...   \n",
       "27   Votre mission, c’est être au cœur des enjeux ...   \n",
       "28   Votre mission, c’est être au cœur des enjeux ...   \n",
       "29  Sous la direction de la Responsable du Pôle Ét...   \n",
       "\n",
       "                                   description_profil  \n",
       "0   Profil recherché :Pourquoi rejoindre Atos Bord...  \n",
       "1   Pour relever ce défi, il vous faut :Avoir au m...  \n",
       "2   Où serez-vous dans l’organisation ?Sous la res...  \n",
       "3   Tu possèdes une forte fibre commerciale et une...  \n",
       "4   Profil recherché :Qui êtes-vous ? De formation...  \n",
       "5   Êtes-vous notre prochain(e) Intégrateur de pro...  \n",
       "6   Êtes-vous notre prochain(e) Intégrateur de pro...  \n",
       "7   Issu(e) d’une formation d’Ingénieur, Master 2 ...  \n",
       "8    Nous encourageons l’initiative et l’innovatio...  \n",
       "9    Nous encourageons l’initiative et l’innovatio...  \n",
       "10  Profil recherché 👨👩Issu·e d’une grande école d...  \n",
       "11  Profil recherché 👨👩Issu·e d’une grande école d...  \n",
       "12  Profil recherché 👨👩Issu·e d’une grande école d...  \n",
       "13  Profil recherché 👨👩Issu·e d’une grande école d...  \n",
       "14  Profil recherché 👨👩Issu·e d’une grande école d...  \n",
       "15  Profil recherché 👨👩Issu·e d’une grande école d...  \n",
       "16  Profil recherché :Qui vous êtes :  Bac+2/+3 en...  \n",
       "17  Profil recherché :Révélez votre talentNous rec...  \n",
       "18  • Tu as 3+ années d’expérience en data analyse...  \n",
       "19  Issu(e) d'une formation supérieure en Informat...  \n",
       "20  Issu(e) d'une formation supérieure en Informat...  \n",
       "21  Issu(e) d'une formation supérieure en Informat...  \n",
       "22   De niveau Bac+2 ayant une première expérience...  \n",
       "23   De niveau Bac+2 ayant une première expérience...  \n",
       "24   De niveau Bac+2 ayant une première expérience...  \n",
       "25   De niveau Bac+2 ayant une première expérience...  \n",
       "26   De niveau Bac+2 ayant une première expérience...  \n",
       "27   Bac+2 à Bac+5 (école d’ingénieur ou diplôme u...  \n",
       "28   Vous avez une expérience de 3 ans minimum dan...  \n",
       "29  PROFIL RECHERCHÉBAC +2/5 (géographie/démograph...  "
      ]
     },
     "execution_count": 50,
     "metadata": {},
     "output_type": "execute_result"
    }
   ],
   "source": [
    "df"
   ]
  },
  {
   "cell_type": "markdown",
   "id": "d020cb61-0e59-45a4-9f98-b45fe53acfce",
   "metadata": {},
   "source": [
    "### Création script récupération de toutes les offres"
   ]
  },
  {
   "cell_type": "code",
   "execution_count": 29,
   "id": "e0d60b6a-776b-4229-945d-2d46d9394218",
   "metadata": {},
   "outputs": [],
   "source": [
    "def recup_all_data(metier):\n",
    "    metier = metier.lower().replace(\" \",\"+\")\n",
    "    url = f'https://www.welcometothejungle.com/fr/jobs?page=1&groupBy=job&sortBy=mostRecent&query={metier}'\n",
    "    driver = webdriver.Chrome('../Desktop/chromedriver')\n",
    "    driver.get(url)\n",
    "    elem = driver.find_element(By.XPATH,\"//*\") \n",
    "    \n",
    "\n",
    "    nb_offres = int(driver.find_elements(By.CLASS_NAME,'jwenEF')[0].text)\n",
    "    nb_offres_per_pages = int(len(driver.find_elements(By.CLASS_NAME,'dkmXvv')))\n",
    "    loop = (nb_offres // nb_offres_per_pages)+1\n",
    "    df_list = []\n",
    "    liste_data = []\n",
    "    emploi = {}\n",
    "    count_job = 0\n",
    "    for page in range(1,loop+1):\n",
    "        \n",
    "        #time.sleep(5)\n",
    "        try:\n",
    "            cookie = driver.find_element(By.ID, \"axeptio_btn_acceptAll\")\n",
    "            cookie.click()\n",
    "        except:\n",
    "            pass\n",
    "        time.sleep(2)\n",
    "        elem = driver.find_element(By.XPATH,\"//*\") \n",
    "        source_code = elem.get_attribute(\"outerHTML\")\n",
    "        soup = BeautifulSoup(source_code,'html.parser')\n",
    "        text=soup.find_all('header',{'class':'dkmXvv'})\n",
    "        for data in range(len(text)):\n",
    "            fin_link= text[data].find('a',href=True)['href']\n",
    "            link=f\"https://www.welcometothejungle.com{fin_link}\"\n",
    "            job = text[data].find('h3',{'class':'ineDNW'}).text\n",
    "            companies = text[data].find('h4',{'class':'jHFSmB'}).text\n",
    "            type_contrat =text[data].find_all('span',{'class':'kqrath'})[0].text\n",
    "            teleworking = text[data].find_all('span',{'class':'kqrath'})[1].text\n",
    "            try:\n",
    "                duree=text[data].find_all('span',{'class':'kqrath'})[2].text\n",
    "            except:\n",
    "                duree = \"\"\n",
    "            try:\n",
    "                villes =text[data].find('span',{'class':'gxOAwV'}).text\n",
    "            except:\n",
    "                villes = \"\" \n",
    "            emploi.update({count_job:[companies,job,type_contrat,teleworking,duree,villes,link]})\n",
    "            count_job+=1\n",
    "\n",
    "            \n",
    "        try:\n",
    "            element = driver.find_element(By.LINK_TEXT, str(page+1))\n",
    "            element.click()\n",
    "        except:\n",
    "            pass\n",
    "        #liste_data.append(data)\n",
    "        \n",
    "    return emploi\n",
    "\n"
   ]
  },
  {
   "cell_type": "code",
   "execution_count": 30,
   "id": "f0554ade-54fe-431d-83c4-90e2908db057",
   "metadata": {},
   "outputs": [
    {
     "name": "stderr",
     "output_type": "stream",
     "text": [
      "/var/folders/6d/_c9dj9cs3dv7f9hff54z3xl80000gn/T/ipykernel_1129/203379624.py:4: DeprecationWarning: executable_path has been deprecated, please pass in a Service object\n",
      "  driver = webdriver.Chrome('../Desktop/chromedriver')\n"
     ]
    }
   ],
   "source": [
    "metier = 'data analyst'\n",
    "df_complet = (pd.DataFrame.from_dict(recup_all_data(metier),orient='index').reset_index().\n",
    "      rename(columns={0:'companies',1:'job',2:'type_contrat',3:'teleworking',4:'durée',5:'villes',6:'link'})).drop(columns=['index'])"
   ]
  },
  {
   "cell_type": "code",
   "execution_count": 34,
   "id": "48259a7f-f9b6-4286-865e-665c49b3da42",
   "metadata": {},
   "outputs": [],
   "source": [
    "df_complet.to_csv('df_complet.wltj.csv')"
   ]
  },
  {
   "cell_type": "markdown",
   "id": "d66afb74-4823-421d-8199-3180bb638fde",
   "metadata": {},
   "source": [
    "### Récupération des descriptions de toutes les offres"
   ]
  },
  {
   "cell_type": "code",
   "execution_count": 3,
   "id": "6bc2d45c-d6e6-4148-a19f-17483ab2040d",
   "metadata": {},
   "outputs": [],
   "source": [
    "df_complet = pd.read_csv(\"df_complet.wltj.csv\")"
   ]
  },
  {
   "cell_type": "code",
   "execution_count": 4,
   "id": "7378c6c3-17e1-47a6-b374-346607823787",
   "metadata": {},
   "outputs": [
    {
     "data": {
      "text/html": [
       "<div>\n",
       "<style scoped>\n",
       "    .dataframe tbody tr th:only-of-type {\n",
       "        vertical-align: middle;\n",
       "    }\n",
       "\n",
       "    .dataframe tbody tr th {\n",
       "        vertical-align: top;\n",
       "    }\n",
       "\n",
       "    .dataframe thead th {\n",
       "        text-align: right;\n",
       "    }\n",
       "</style>\n",
       "<table border=\"1\" class=\"dataframe\">\n",
       "  <thead>\n",
       "    <tr style=\"text-align: right;\">\n",
       "      <th></th>\n",
       "      <th>Unnamed: 0</th>\n",
       "      <th>companies</th>\n",
       "      <th>job</th>\n",
       "      <th>type_contrat</th>\n",
       "      <th>teleworking</th>\n",
       "      <th>durée</th>\n",
       "      <th>villes</th>\n",
       "      <th>link</th>\n",
       "    </tr>\n",
       "  </thead>\n",
       "  <tbody>\n",
       "    <tr>\n",
       "      <th>0</th>\n",
       "      <td>0</td>\n",
       "      <td>Selency</td>\n",
       "      <td>Data Analyst (stage)</td>\n",
       "      <td>Stage</td>\n",
       "      <td>il y a 11 minutes</td>\n",
       "      <td>NaN</td>\n",
       "      <td>Paris</td>\n",
       "      <td>https://www.welcometothejungle.com/fr/companie...</td>\n",
       "    </tr>\n",
       "    <tr>\n",
       "      <th>1</th>\n",
       "      <td>1</td>\n",
       "      <td>lesfurets</td>\n",
       "      <td>Data Analyst (F/H)</td>\n",
       "      <td>CDI</td>\n",
       "      <td>Télétravail partiel possible</td>\n",
       "      <td>il y a 11 minutes</td>\n",
       "      <td>NaN</td>\n",
       "      <td>https://www.welcometothejungle.com/fr/companie...</td>\n",
       "    </tr>\n",
       "    <tr>\n",
       "      <th>2</th>\n",
       "      <td>2</td>\n",
       "      <td>BRIGAD</td>\n",
       "      <td>Product Data Analyst F/H</td>\n",
       "      <td>CDI</td>\n",
       "      <td>Télétravail partiel possible</td>\n",
       "      <td>il y a 11 minutes</td>\n",
       "      <td>NaN</td>\n",
       "      <td>https://www.welcometothejungle.com/fr/companie...</td>\n",
       "    </tr>\n",
       "    <tr>\n",
       "      <th>3</th>\n",
       "      <td>3</td>\n",
       "      <td>DataBird</td>\n",
       "      <td>Freelance Data Analyst</td>\n",
       "      <td>Freelance</td>\n",
       "      <td>il y a 1 heure</td>\n",
       "      <td>NaN</td>\n",
       "      <td>Paris</td>\n",
       "      <td>https://www.welcometothejungle.com/fr/companie...</td>\n",
       "    </tr>\n",
       "    <tr>\n",
       "      <th>4</th>\n",
       "      <td>4</td>\n",
       "      <td>Sport Heroes</td>\n",
       "      <td>Sales Ops Analyst (h/f) – United Heroes</td>\n",
       "      <td>CDI</td>\n",
       "      <td>il y a 1 heure</td>\n",
       "      <td>NaN</td>\n",
       "      <td>Paris</td>\n",
       "      <td>https://www.welcometothejungle.com/fr/companie...</td>\n",
       "    </tr>\n",
       "    <tr>\n",
       "      <th>...</th>\n",
       "      <td>...</td>\n",
       "      <td>...</td>\n",
       "      <td>...</td>\n",
       "      <td>...</td>\n",
       "      <td>...</td>\n",
       "      <td>...</td>\n",
       "      <td>...</td>\n",
       "      <td>...</td>\n",
       "    </tr>\n",
       "    <tr>\n",
       "      <th>963</th>\n",
       "      <td>963</td>\n",
       "      <td>Veolia</td>\n",
       "      <td>Alternance Data Analyst</td>\n",
       "      <td>Alternance</td>\n",
       "      <td>il y a 2 mois</td>\n",
       "      <td>NaN</td>\n",
       "      <td>Nanterre</td>\n",
       "      <td>https://www.welcometothejungle.com/fr/companie...</td>\n",
       "    </tr>\n",
       "    <tr>\n",
       "      <th>964</th>\n",
       "      <td>964</td>\n",
       "      <td>LineUP7</td>\n",
       "      <td>Consultant Senior Data Scientist</td>\n",
       "      <td>CDI</td>\n",
       "      <td>il y a 2 mois</td>\n",
       "      <td>NaN</td>\n",
       "      <td>Paris</td>\n",
       "      <td>https://www.welcometothejungle.com/fr/companie...</td>\n",
       "    </tr>\n",
       "    <tr>\n",
       "      <th>965</th>\n",
       "      <td>965</td>\n",
       "      <td>Preligens</td>\n",
       "      <td>Business Data Analyst</td>\n",
       "      <td>CDI</td>\n",
       "      <td>il y a 2 mois</td>\n",
       "      <td>NaN</td>\n",
       "      <td>Paris</td>\n",
       "      <td>https://www.welcometothejungle.com/fr/companie...</td>\n",
       "    </tr>\n",
       "    <tr>\n",
       "      <th>966</th>\n",
       "      <td>966</td>\n",
       "      <td>Deloitte</td>\n",
       "      <td>Analyst Crédit Operate (H/F)</td>\n",
       "      <td>CDI</td>\n",
       "      <td>il y a 3 mois</td>\n",
       "      <td>NaN</td>\n",
       "      <td>Puteaux</td>\n",
       "      <td>https://www.welcometothejungle.com/fr/companie...</td>\n",
       "    </tr>\n",
       "    <tr>\n",
       "      <th>967</th>\n",
       "      <td>967</td>\n",
       "      <td>Deloitte</td>\n",
       "      <td>Analyst Crédit Operate (H/F)</td>\n",
       "      <td>CDI</td>\n",
       "      <td>il y a 3 mois</td>\n",
       "      <td>NaN</td>\n",
       "      <td>Puteaux</td>\n",
       "      <td>https://www.welcometothejungle.com/fr/companie...</td>\n",
       "    </tr>\n",
       "  </tbody>\n",
       "</table>\n",
       "<p>968 rows × 8 columns</p>\n",
       "</div>"
      ],
      "text/plain": [
       "     Unnamed: 0      companies                                      job  \\\n",
       "0             0       Selency                      Data Analyst (stage)   \n",
       "1             1     lesfurets                        Data Analyst (F/H)   \n",
       "2             2        BRIGAD                  Product Data Analyst F/H   \n",
       "3             3      DataBird                    Freelance Data Analyst   \n",
       "4             4  Sport Heroes   Sales Ops Analyst (h/f) – United Heroes   \n",
       "..          ...            ...                                      ...   \n",
       "963         963        Veolia                   Alternance Data Analyst   \n",
       "964         964       LineUP7          Consultant Senior Data Scientist   \n",
       "965         965     Preligens                     Business Data Analyst   \n",
       "966         966      Deloitte              Analyst Crédit Operate (H/F)   \n",
       "967         967      Deloitte              Analyst Crédit Operate (H/F)   \n",
       "\n",
       "    type_contrat                   teleworking              durée    villes  \\\n",
       "0          Stage             il y a 11 minutes                NaN     Paris   \n",
       "1            CDI  Télétravail partiel possible  il y a 11 minutes       NaN   \n",
       "2            CDI  Télétravail partiel possible  il y a 11 minutes       NaN   \n",
       "3      Freelance                il y a 1 heure                NaN     Paris   \n",
       "4            CDI                il y a 1 heure                NaN     Paris   \n",
       "..           ...                           ...                ...       ...   \n",
       "963   Alternance                 il y a 2 mois                NaN  Nanterre   \n",
       "964          CDI                 il y a 2 mois                NaN     Paris   \n",
       "965          CDI                 il y a 2 mois                NaN     Paris   \n",
       "966          CDI                 il y a 3 mois                NaN   Puteaux   \n",
       "967          CDI                 il y a 3 mois                NaN   Puteaux   \n",
       "\n",
       "                                                  link  \n",
       "0    https://www.welcometothejungle.com/fr/companie...  \n",
       "1    https://www.welcometothejungle.com/fr/companie...  \n",
       "2    https://www.welcometothejungle.com/fr/companie...  \n",
       "3    https://www.welcometothejungle.com/fr/companie...  \n",
       "4    https://www.welcometothejungle.com/fr/companie...  \n",
       "..                                                 ...  \n",
       "963  https://www.welcometothejungle.com/fr/companie...  \n",
       "964  https://www.welcometothejungle.com/fr/companie...  \n",
       "965  https://www.welcometothejungle.com/fr/companie...  \n",
       "966  https://www.welcometothejungle.com/fr/companie...  \n",
       "967  https://www.welcometothejungle.com/fr/companie...  \n",
       "\n",
       "[968 rows x 8 columns]"
      ]
     },
     "execution_count": 4,
     "metadata": {},
     "output_type": "execute_result"
    }
   ],
   "source": [
    "df_complet"
   ]
  },
  {
   "cell_type": "code",
   "execution_count": 15,
   "id": "4053f117-158b-4d2b-8ce8-d7d4af7cabb6",
   "metadata": {},
   "outputs": [
    {
     "data": {
      "text/html": [
       "<div>\n",
       "<style scoped>\n",
       "    .dataframe tbody tr th:only-of-type {\n",
       "        vertical-align: middle;\n",
       "    }\n",
       "\n",
       "    .dataframe tbody tr th {\n",
       "        vertical-align: top;\n",
       "    }\n",
       "\n",
       "    .dataframe thead th {\n",
       "        text-align: right;\n",
       "    }\n",
       "</style>\n",
       "<table border=\"1\" class=\"dataframe\">\n",
       "  <thead>\n",
       "    <tr style=\"text-align: right;\">\n",
       "      <th></th>\n",
       "      <th>Unnamed: 0</th>\n",
       "      <th>companies</th>\n",
       "      <th>job</th>\n",
       "      <th>type_contrat</th>\n",
       "      <th>teleworking</th>\n",
       "      <th>durée</th>\n",
       "      <th>villes</th>\n",
       "      <th>link</th>\n",
       "    </tr>\n",
       "  </thead>\n",
       "  <tbody>\n",
       "    <tr>\n",
       "      <th>0</th>\n",
       "      <td>0</td>\n",
       "      <td>Selency</td>\n",
       "      <td>Data Analyst (stage)</td>\n",
       "      <td>Stage</td>\n",
       "      <td>il y a 11 minutes</td>\n",
       "      <td>NaN</td>\n",
       "      <td>Paris</td>\n",
       "      <td>https://www.welcometothejungle.com/fr/companie...</td>\n",
       "    </tr>\n",
       "    <tr>\n",
       "      <th>1</th>\n",
       "      <td>1</td>\n",
       "      <td>lesfurets</td>\n",
       "      <td>Data Analyst (F/H)</td>\n",
       "      <td>CDI</td>\n",
       "      <td>Télétravail partiel possible</td>\n",
       "      <td>il y a 11 minutes</td>\n",
       "      <td>NaN</td>\n",
       "      <td>https://www.welcometothejungle.com/fr/companie...</td>\n",
       "    </tr>\n",
       "    <tr>\n",
       "      <th>2</th>\n",
       "      <td>2</td>\n",
       "      <td>BRIGAD</td>\n",
       "      <td>Product Data Analyst F/H</td>\n",
       "      <td>CDI</td>\n",
       "      <td>Télétravail partiel possible</td>\n",
       "      <td>il y a 11 minutes</td>\n",
       "      <td>NaN</td>\n",
       "      <td>https://www.welcometothejungle.com/fr/companie...</td>\n",
       "    </tr>\n",
       "    <tr>\n",
       "      <th>3</th>\n",
       "      <td>3</td>\n",
       "      <td>DataBird</td>\n",
       "      <td>Freelance Data Analyst</td>\n",
       "      <td>Freelance</td>\n",
       "      <td>il y a 1 heure</td>\n",
       "      <td>NaN</td>\n",
       "      <td>Paris</td>\n",
       "      <td>https://www.welcometothejungle.com/fr/companie...</td>\n",
       "    </tr>\n",
       "    <tr>\n",
       "      <th>4</th>\n",
       "      <td>4</td>\n",
       "      <td>Sport Heroes</td>\n",
       "      <td>Sales Ops Analyst (h/f) – United Heroes</td>\n",
       "      <td>CDI</td>\n",
       "      <td>il y a 1 heure</td>\n",
       "      <td>NaN</td>\n",
       "      <td>Paris</td>\n",
       "      <td>https://www.welcometothejungle.com/fr/companie...</td>\n",
       "    </tr>\n",
       "  </tbody>\n",
       "</table>\n",
       "</div>"
      ],
      "text/plain": [
       "   Unnamed: 0      companies                                      job  \\\n",
       "0           0       Selency                      Data Analyst (stage)   \n",
       "1           1     lesfurets                        Data Analyst (F/H)   \n",
       "2           2        BRIGAD                  Product Data Analyst F/H   \n",
       "3           3      DataBird                    Freelance Data Analyst   \n",
       "4           4  Sport Heroes   Sales Ops Analyst (h/f) – United Heroes   \n",
       "\n",
       "  type_contrat                   teleworking              durée villes  \\\n",
       "0        Stage             il y a 11 minutes                NaN  Paris   \n",
       "1          CDI  Télétravail partiel possible  il y a 11 minutes    NaN   \n",
       "2          CDI  Télétravail partiel possible  il y a 11 minutes    NaN   \n",
       "3    Freelance                il y a 1 heure                NaN  Paris   \n",
       "4          CDI                il y a 1 heure                NaN  Paris   \n",
       "\n",
       "                                                link  \n",
       "0  https://www.welcometothejungle.com/fr/companie...  \n",
       "1  https://www.welcometothejungle.com/fr/companie...  \n",
       "2  https://www.welcometothejungle.com/fr/companie...  \n",
       "3  https://www.welcometothejungle.com/fr/companie...  \n",
       "4  https://www.welcometothejungle.com/fr/companie...  "
      ]
     },
     "execution_count": 15,
     "metadata": {},
     "output_type": "execute_result"
    }
   ],
   "source": [
    "df_complet[:5]"
   ]
  },
  {
   "cell_type": "code",
   "execution_count": 20,
   "id": "c2571f9a-b673-44ac-9344-3f01d854c592",
   "metadata": {},
   "outputs": [
    {
     "name": "stderr",
     "output_type": "stream",
     "text": [
      "/var/folders/6d/_c9dj9cs3dv7f9hff54z3xl80000gn/T/ipykernel_1188/3878096938.py:6: DeprecationWarning: executable_path has been deprecated, please pass in a Service object\n",
      "  driver = webdriver.Chrome('../Desktop/chromedriver')\n"
     ]
    }
   ],
   "source": [
    "description={}\n",
    "for i,d in df_complet.iterrows():\n",
    "    id_array = i\n",
    "    url = df_complet.link[i]\n",
    "    companies = d.companies\n",
    "    driver = webdriver.Chrome('../Desktop/chromedriver')\n",
    "    driver.get(url)\n",
    "    time.sleep(2)\n",
    "    elem = driver.find_element(By.XPATH,\"//*\") \n",
    "    source_code = elem.get_attribute(\"outerHTML\")\n",
    "    soup = BeautifulSoup(source_code,'html.parser')\n",
    "    text=soup.find_all('section',{'class':'kWzmfO'})\n",
    "    for i in range(len(text)):\n",
    "        try:\n",
    "            description_entreprise = soup.find_all('div',{'class':'fxANEK'})[1].text\n",
    "        except:\n",
    "            pass\n",
    "        try:\n",
    "            description_post = soup.find_all('div',{'class':'fxANEK'})[2].text\n",
    "        except:\n",
    "            pass\n",
    "        try:\n",
    "            description_profil = soup.find_all('div',{'class':'fxANEK'})[3].text\n",
    "        except:\n",
    "            pass\n",
    "    description.update({id_array:[companies,description_entreprise,description_post,description_profil]})"
   ]
  },
  {
   "cell_type": "code",
   "execution_count": 29,
   "id": "134abb1b-2204-4567-9b67-06e11966fb4b",
   "metadata": {},
   "outputs": [],
   "source": [
    "df_description_welcome = pd.DataFrame.from_dict(description,orient=\"index\").rename(columns={0:'companies',1:'description_entreprise',2:'description_post',3:'description_profil'})"
   ]
  },
  {
   "cell_type": "code",
   "execution_count": 30,
   "id": "26dd8ceb-2666-4b12-b4a8-9084daeb8a1d",
   "metadata": {},
   "outputs": [
    {
     "data": {
      "text/html": [
       "<div>\n",
       "<style scoped>\n",
       "    .dataframe tbody tr th:only-of-type {\n",
       "        vertical-align: middle;\n",
       "    }\n",
       "\n",
       "    .dataframe tbody tr th {\n",
       "        vertical-align: top;\n",
       "    }\n",
       "\n",
       "    .dataframe thead th {\n",
       "        text-align: right;\n",
       "    }\n",
       "</style>\n",
       "<table border=\"1\" class=\"dataframe\">\n",
       "  <thead>\n",
       "    <tr style=\"text-align: right;\">\n",
       "      <th></th>\n",
       "      <th>companies</th>\n",
       "      <th>description_entreprise</th>\n",
       "      <th>description_post</th>\n",
       "      <th>description_profil</th>\n",
       "    </tr>\n",
       "  </thead>\n",
       "  <tbody>\n",
       "    <tr>\n",
       "      <th>0</th>\n",
       "      <td>Selency</td>\n",
       "      <td>Lancé en septembre 2014, Selency est le site p...</td>\n",
       "      <td>En tant que Data Analyst, tu as un rôle centra...</td>\n",
       "      <td>Etudiant.e en école d’Ingénieur ou en grande é...</td>\n",
       "    </tr>\n",
       "    <tr>\n",
       "      <th>1</th>\n",
       "      <td>lesfurets</td>\n",
       "      <td>Eux, c’est lesfurets, leur but dans la vie c’e...</td>\n",
       "      <td>Nous recherchons un.e Data Analyst passionné.e...</td>\n",
       "      <td>•   1-2 ans d’expérience dans des postes liant...</td>\n",
       "    </tr>\n",
       "    <tr>\n",
       "      <th>2</th>\n",
       "      <td>BRIGAD</td>\n",
       "      <td>At the heart of Brigad , there is the idea tha...</td>\n",
       "      <td>→ Your missionIf you join Brigad, you will wor...</td>\n",
       "      <td>If you have…At least 4-5 years of professional...</td>\n",
       "    </tr>\n",
       "    <tr>\n",
       "      <th>3</th>\n",
       "      <td>DataBird</td>\n",
       "      <td>DataBird permet à chacun de se former à la dat...</td>\n",
       "      <td>Description du poste 🚀Dans le cadre du déroule...</td>\n",
       "      <td>Profil recherché 👈Tu recherches une mission da...</td>\n",
       "    </tr>\n",
       "    <tr>\n",
       "      <th>4</th>\n",
       "      <td>Sport Heroes</td>\n",
       "      <td>La mission de Sport Heroes : donner à chacun l...</td>\n",
       "      <td>Dans le cadre d’une création de poste au sein ...</td>\n",
       "      <td>Ton profil 🔎Tu ne te reconnais pas à 100% dans...</td>\n",
       "    </tr>\n",
       "    <tr>\n",
       "      <th>...</th>\n",
       "      <td>...</td>\n",
       "      <td>...</td>\n",
       "      <td>...</td>\n",
       "      <td>...</td>\n",
       "    </tr>\n",
       "    <tr>\n",
       "      <th>963</th>\n",
       "      <td>Veolia</td>\n",
       "      <td>Vous voulez donner du sens à votre activité pr...</td>\n",
       "      <td>Vous intégrerez la cellule de performance, HUB...</td>\n",
       "      <td>Savoir-faire professionnels / opérationnelsUti...</td>\n",
       "    </tr>\n",
       "    <tr>\n",
       "      <th>964</th>\n",
       "      <td>LineUP7</td>\n",
       "      <td>Bienvenue dans l’agence de data marketing qui ...</td>\n",
       "      <td>LineUP7 aborde les enjeux du marketing avec un...</td>\n",
       "      <td>De formation minimum Bac+5 type école d'ingéni...</td>\n",
       "    </tr>\n",
       "    <tr>\n",
       "      <th>965</th>\n",
       "      <td>Preligens</td>\n",
       "      <td>Preligens a été créée en 2016 (sous le nom d’E...</td>\n",
       "      <td>🌍 Qui sommes-nous ?Preligens a été créée en 20...</td>\n",
       "      <td>De formation minimum Bac+5 type école d'ingéni...</td>\n",
       "    </tr>\n",
       "    <tr>\n",
       "      <th>966</th>\n",
       "      <td>Deloitte</td>\n",
       "      <td>Deloitte est l’un des principaux cabinets mond...</td>\n",
       "      <td>Vous serez rattaché(e) au département Risk Adv...</td>\n",
       "      <td>Vous êtes diplômé(e) d’école de commerce ou d’...</td>\n",
       "    </tr>\n",
       "    <tr>\n",
       "      <th>967</th>\n",
       "      <td>Deloitte</td>\n",
       "      <td>Deloitte est l’un des principaux cabinets mond...</td>\n",
       "      <td>Vous serez rattaché(e) au département Risk Adv...</td>\n",
       "      <td>Vous êtes diplômé(e) d’école de commerce ou d’...</td>\n",
       "    </tr>\n",
       "  </tbody>\n",
       "</table>\n",
       "<p>968 rows × 4 columns</p>\n",
       "</div>"
      ],
      "text/plain": [
       "         companies                             description_entreprise  \\\n",
       "0         Selency   Lancé en septembre 2014, Selency est le site p...   \n",
       "1       lesfurets   Eux, c’est lesfurets, leur but dans la vie c’e...   \n",
       "2          BRIGAD   At the heart of Brigad , there is the idea tha...   \n",
       "3        DataBird   DataBird permet à chacun de se former à la dat...   \n",
       "4    Sport Heroes   La mission de Sport Heroes : donner à chacun l...   \n",
       "..             ...                                                ...   \n",
       "963        Veolia   Vous voulez donner du sens à votre activité pr...   \n",
       "964       LineUP7   Bienvenue dans l’agence de data marketing qui ...   \n",
       "965     Preligens   Preligens a été créée en 2016 (sous le nom d’E...   \n",
       "966      Deloitte   Deloitte est l’un des principaux cabinets mond...   \n",
       "967      Deloitte   Deloitte est l’un des principaux cabinets mond...   \n",
       "\n",
       "                                      description_post  \\\n",
       "0    En tant que Data Analyst, tu as un rôle centra...   \n",
       "1    Nous recherchons un.e Data Analyst passionné.e...   \n",
       "2    → Your missionIf you join Brigad, you will wor...   \n",
       "3    Description du poste 🚀Dans le cadre du déroule...   \n",
       "4    Dans le cadre d’une création de poste au sein ...   \n",
       "..                                                 ...   \n",
       "963  Vous intégrerez la cellule de performance, HUB...   \n",
       "964  LineUP7 aborde les enjeux du marketing avec un...   \n",
       "965  🌍 Qui sommes-nous ?Preligens a été créée en 20...   \n",
       "966  Vous serez rattaché(e) au département Risk Adv...   \n",
       "967  Vous serez rattaché(e) au département Risk Adv...   \n",
       "\n",
       "                                    description_profil  \n",
       "0    Etudiant.e en école d’Ingénieur ou en grande é...  \n",
       "1    •   1-2 ans d’expérience dans des postes liant...  \n",
       "2    If you have…At least 4-5 years of professional...  \n",
       "3    Profil recherché 👈Tu recherches une mission da...  \n",
       "4    Ton profil 🔎Tu ne te reconnais pas à 100% dans...  \n",
       "..                                                 ...  \n",
       "963  Savoir-faire professionnels / opérationnelsUti...  \n",
       "964  De formation minimum Bac+5 type école d'ingéni...  \n",
       "965  De formation minimum Bac+5 type école d'ingéni...  \n",
       "966  Vous êtes diplômé(e) d’école de commerce ou d’...  \n",
       "967  Vous êtes diplômé(e) d’école de commerce ou d’...  \n",
       "\n",
       "[968 rows x 4 columns]"
      ]
     },
     "execution_count": 30,
     "metadata": {},
     "output_type": "execute_result"
    }
   ],
   "source": [
    "df_description_welcome"
   ]
  },
  {
   "cell_type": "code",
   "execution_count": 31,
   "id": "50d0faa9-2bc5-4a5f-bb81-79275e00d44f",
   "metadata": {},
   "outputs": [],
   "source": [
    "df_complet_offre_welcome = df_complet.merge(df_description_welcome,how=\"inner\",left_index=True,right_index=True)"
   ]
  },
  {
   "cell_type": "code",
   "execution_count": 32,
   "id": "ba2156a9-6210-4787-8909-55888b436bca",
   "metadata": {},
   "outputs": [],
   "source": [
    "df_complet_offre_welcome.to_csv('df_complet_offre_welcome.csv')"
   ]
  },
  {
   "cell_type": "markdown",
   "id": "020065ab-86d0-4739-955b-435cdf7c420b",
   "metadata": {
    "tags": []
   },
   "source": [
    "### Récupération géolocalisation"
   ]
  },
  {
   "cell_type": "code",
   "execution_count": null,
   "id": "2e9f7e65-cf76-454c-8978-caac4d8cfd9a",
   "metadata": {},
   "outputs": [],
   "source": [
    "df_villes = df_complet_offre_welcome[df_complet_offre_welcome.villes !='']"
   ]
  },
  {
   "cell_type": "code",
   "execution_count": 155,
   "id": "2b8a6912-dfd7-4367-bc4c-29a292ad4892",
   "metadata": {},
   "outputs": [
    {
     "data": {
      "text/plain": [
       "'https://nominatim.openstreetmap.org/?q=Paris&format=json&limit=1'"
      ]
     },
     "execution_count": 155,
     "metadata": {},
     "output_type": "execute_result"
    }
   ],
   "source": [
    "#city=<city>\n",
    "#https://nominatim.openstreetmap.org/?q=Bordeaux+France&format=json&limit=1\n",
    "city=\"Paris\"\n",
    "link_main = f'https://nominatim.openstreetmap.org/?q={city}&format=json&limit=1'\n",
    "link_main"
   ]
  },
  {
   "cell_type": "code",
   "execution_count": 173,
   "id": "0b0a3cd8-2e72-4a89-ab4c-e48fda96fda1",
   "metadata": {},
   "outputs": [],
   "source": [
    "def create_url(city):\n",
    "    url = f'https://nominatim.openstreetmap.org/?q={city}&format=json&limit=1'\n",
    "    return url\n",
    "\n",
    "def findCoordinates(url):\n",
    "    req=requests.get(url).json()\n",
    "    try:\n",
    "        coordinates=[float(req[0]['lat']),float(req[0]['lon'])]\n",
    "    except:\n",
    "        coordinates = \"NaN\"\n",
    "    return coordinates"
   ]
  },
  {
   "cell_type": "code",
   "execution_count": 157,
   "id": "fc925950-eeb6-4a37-9f8d-7d9c87d3c9df",
   "metadata": {},
   "outputs": [
    {
     "data": {
      "text/plain": [
       "[48.8588897, 2.3200410217200766]"
      ]
     },
     "execution_count": 157,
     "metadata": {},
     "output_type": "execute_result"
    }
   ],
   "source": [
    "findCoordinates(link_main)"
   ]
  },
  {
   "cell_type": "code",
   "execution_count": 174,
   "id": "000c5af5-0fa9-46d2-9fc2-cf8e87e4226d",
   "metadata": {},
   "outputs": [
    {
     "name": "stderr",
     "output_type": "stream",
     "text": [
      "/var/folders/6d/_c9dj9cs3dv7f9hff54z3xl80000gn/T/ipykernel_2158/3129662807.py:1: SettingWithCopyWarning:\n",
      "\n",
      "\n",
      "A value is trying to be set on a copy of a slice from a DataFrame.\n",
      "Try using .loc[row_indexer,col_indexer] = value instead\n",
      "\n",
      "See the caveats in the documentation: https://pandas.pydata.org/pandas-docs/stable/user_guide/indexing.html#returning-a-view-versus-a-copy\n",
      "\n"
     ]
    }
   ],
   "source": [
    "df_villes['localisation']= df_villes.villes.apply(lambda x:(findCoordinates(create_url(x))))"
   ]
  },
  {
   "cell_type": "code",
   "execution_count": 199,
   "id": "4825d4d1-a4c3-4ee0-af6b-352d2cd46d0d",
   "metadata": {},
   "outputs": [],
   "source": [
    "df_villes=df_villes.merge(df_villes.villes.value_counts().reset_index().rename(columns={'index':'city','villes':'count'}),how=\"left\",left_on=\"villes\",right_on=\"city\")"
   ]
  },
  {
   "cell_type": "code",
   "execution_count": 248,
   "id": "0e5bd939-0b1e-4117-a370-a37ce104a0c5",
   "metadata": {},
   "outputs": [],
   "source": [
    "df_villes['lat'] = df_villes[\"localisation\"].apply(lambda x:x[0])\n",
    "df_villes['lon'] = df_villes[\"localisation\"].apply(lambda x:x[1])"
   ]
  },
  {
   "cell_type": "code",
   "execution_count": 605,
   "id": "271798fd-2c65-4aaf-a45e-00f76c10682c",
   "metadata": {},
   "outputs": [
    {
     "data": {
      "text/html": [
       "<div>\n",
       "<style scoped>\n",
       "    .dataframe tbody tr th:only-of-type {\n",
       "        vertical-align: middle;\n",
       "    }\n",
       "\n",
       "    .dataframe tbody tr th {\n",
       "        vertical-align: top;\n",
       "    }\n",
       "\n",
       "    .dataframe thead th {\n",
       "        text-align: right;\n",
       "    }\n",
       "</style>\n",
       "<table border=\"1\" class=\"dataframe\">\n",
       "  <thead>\n",
       "    <tr style=\"text-align: right;\">\n",
       "      <th></th>\n",
       "      <th>companies</th>\n",
       "      <th>job</th>\n",
       "      <th>type_contrat</th>\n",
       "      <th>teleworking</th>\n",
       "      <th>durée</th>\n",
       "      <th>villes</th>\n",
       "      <th>link</th>\n",
       "      <th>localisation</th>\n",
       "      <th>city</th>\n",
       "      <th>count</th>\n",
       "      <th>lat</th>\n",
       "      <th>lon</th>\n",
       "    </tr>\n",
       "  </thead>\n",
       "  <tbody>\n",
       "    <tr>\n",
       "      <th>0</th>\n",
       "      <td>STAFFMATCH</td>\n",
       "      <td>Data Analyst junior H/F</td>\n",
       "      <td>Alternance</td>\n",
       "      <td>il y a 4 heures</td>\n",
       "      <td></td>\n",
       "      <td>Levallois-Perret</td>\n",
       "      <td>https://www.welcometothejungle.com/fr/companie...</td>\n",
       "      <td>[48.892956, 2.2881683]</td>\n",
       "      <td>Levallois-Perret</td>\n",
       "      <td>17</td>\n",
       "      <td>48.892956</td>\n",
       "      <td>2.288168</td>\n",
       "    </tr>\n",
       "    <tr>\n",
       "      <th>1</th>\n",
       "      <td>Orange</td>\n",
       "      <td>Stage-Analyse par machine learning de l'impact...</td>\n",
       "      <td>Stage</td>\n",
       "      <td>il y a 4 heures</td>\n",
       "      <td></td>\n",
       "      <td>Lannion</td>\n",
       "      <td>https://www.welcometothejungle.com/fr/companie...</td>\n",
       "      <td>[48.7322183, -3.4587994]</td>\n",
       "      <td>Lannion</td>\n",
       "      <td>2</td>\n",
       "      <td>48.732218</td>\n",
       "      <td>-3.458799</td>\n",
       "    </tr>\n",
       "    <tr>\n",
       "      <th>2</th>\n",
       "      <td>Mawenzi Partners</td>\n",
       "      <td>Analyste</td>\n",
       "      <td>CDI</td>\n",
       "      <td>il y a 4 heures</td>\n",
       "      <td></td>\n",
       "      <td>Paris</td>\n",
       "      <td>https://www.welcometothejungle.com/fr/companie...</td>\n",
       "      <td>[48.8588897, 2.3200410217200766]</td>\n",
       "      <td>Paris</td>\n",
       "      <td>263</td>\n",
       "      <td>48.85889</td>\n",
       "      <td>2.320041</td>\n",
       "    </tr>\n",
       "    <tr>\n",
       "      <th>3</th>\n",
       "      <td>Orange</td>\n",
       "      <td>Consultant-e data scientist  sénior Sofrecom F/H</td>\n",
       "      <td>CDI</td>\n",
       "      <td>il y a 9 heures</td>\n",
       "      <td></td>\n",
       "      <td>Vincennes</td>\n",
       "      <td>https://www.welcometothejungle.com/fr/companie...</td>\n",
       "      <td>[48.8474508, 2.4396714]</td>\n",
       "      <td>Vincennes</td>\n",
       "      <td>2</td>\n",
       "      <td>48.847451</td>\n",
       "      <td>2.439671</td>\n",
       "    </tr>\n",
       "    <tr>\n",
       "      <th>4</th>\n",
       "      <td>Monoprix</td>\n",
       "      <td>Alternant Business Analsyt TML F/H</td>\n",
       "      <td>CDD / Temporaire</td>\n",
       "      <td>il y a 9 heures</td>\n",
       "      <td></td>\n",
       "      <td>Clichy</td>\n",
       "      <td>https://www.welcometothejungle.com/fr/companie...</td>\n",
       "      <td>[48.9026, 2.30551]</td>\n",
       "      <td>Clichy</td>\n",
       "      <td>19</td>\n",
       "      <td>48.9026</td>\n",
       "      <td>2.30551</td>\n",
       "    </tr>\n",
       "    <tr>\n",
       "      <th>...</th>\n",
       "      <td>...</td>\n",
       "      <td>...</td>\n",
       "      <td>...</td>\n",
       "      <td>...</td>\n",
       "      <td>...</td>\n",
       "      <td>...</td>\n",
       "      <td>...</td>\n",
       "      <td>...</td>\n",
       "      <td>...</td>\n",
       "      <td>...</td>\n",
       "      <td>...</td>\n",
       "      <td>...</td>\n",
       "    </tr>\n",
       "    <tr>\n",
       "      <th>659</th>\n",
       "      <td>Services IT des Finances publiques</td>\n",
       "      <td>Urbaniste SI - H/F</td>\n",
       "      <td>CDD / Temporaire</td>\n",
       "      <td>il y a 2 mois</td>\n",
       "      <td></td>\n",
       "      <td>Noisy-Le-Grand</td>\n",
       "      <td>https://www.welcometothejungle.com/fr/companie...</td>\n",
       "      <td>[48.8493972, 2.5519571]</td>\n",
       "      <td>Noisy-Le-Grand</td>\n",
       "      <td>4</td>\n",
       "      <td>48.849397</td>\n",
       "      <td>2.551957</td>\n",
       "    </tr>\n",
       "    <tr>\n",
       "      <th>660</th>\n",
       "      <td>Services IT des Finances publiques</td>\n",
       "      <td>Analyste modernisation - H/F</td>\n",
       "      <td>Autres</td>\n",
       "      <td>il y a 2 mois</td>\n",
       "      <td></td>\n",
       "      <td>Noisy-Le-Grand</td>\n",
       "      <td>https://www.welcometothejungle.com/fr/companie...</td>\n",
       "      <td>[48.8493972, 2.5519571]</td>\n",
       "      <td>Noisy-Le-Grand</td>\n",
       "      <td>4</td>\n",
       "      <td>48.849397</td>\n",
       "      <td>2.551957</td>\n",
       "    </tr>\n",
       "    <tr>\n",
       "      <th>661</th>\n",
       "      <td>Preligens</td>\n",
       "      <td>Business Data Analyst</td>\n",
       "      <td>CDI</td>\n",
       "      <td>il y a 2 mois</td>\n",
       "      <td></td>\n",
       "      <td>Paris</td>\n",
       "      <td>https://www.welcometothejungle.com/fr/companie...</td>\n",
       "      <td>[48.8588897, 2.3200410217200766]</td>\n",
       "      <td>Paris</td>\n",
       "      <td>263</td>\n",
       "      <td>48.85889</td>\n",
       "      <td>2.320041</td>\n",
       "    </tr>\n",
       "    <tr>\n",
       "      <th>662</th>\n",
       "      <td>Deloitte</td>\n",
       "      <td>Analyst Crédit Operate (H/F)</td>\n",
       "      <td>CDI</td>\n",
       "      <td>il y a 3 mois</td>\n",
       "      <td></td>\n",
       "      <td>Puteaux</td>\n",
       "      <td>https://www.welcometothejungle.com/fr/companie...</td>\n",
       "      <td>[48.8841522, 2.2368863]</td>\n",
       "      <td>Puteaux</td>\n",
       "      <td>10</td>\n",
       "      <td>48.884152</td>\n",
       "      <td>2.236886</td>\n",
       "    </tr>\n",
       "    <tr>\n",
       "      <th>663</th>\n",
       "      <td>Deloitte</td>\n",
       "      <td>Analyst Crédit Operate (H/F)</td>\n",
       "      <td>CDI</td>\n",
       "      <td>il y a 3 mois</td>\n",
       "      <td></td>\n",
       "      <td>Puteaux</td>\n",
       "      <td>https://www.welcometothejungle.com/fr/companie...</td>\n",
       "      <td>[48.8841522, 2.2368863]</td>\n",
       "      <td>Puteaux</td>\n",
       "      <td>10</td>\n",
       "      <td>48.884152</td>\n",
       "      <td>2.236886</td>\n",
       "    </tr>\n",
       "  </tbody>\n",
       "</table>\n",
       "<p>664 rows × 12 columns</p>\n",
       "</div>"
      ],
      "text/plain": [
       "                                companies  \\\n",
       "0                             STAFFMATCH    \n",
       "1                                 Orange    \n",
       "2                       Mawenzi Partners    \n",
       "3                                 Orange    \n",
       "4                               Monoprix    \n",
       "..                                    ...   \n",
       "659  Services IT des Finances publiques     \n",
       "660  Services IT des Finances publiques     \n",
       "661                            Preligens    \n",
       "662                             Deloitte    \n",
       "663                             Deloitte    \n",
       "\n",
       "                                                   job      type_contrat  \\\n",
       "0                             Data Analyst junior H/F         Alternance   \n",
       "1    Stage-Analyse par machine learning de l'impact...             Stage   \n",
       "2                                             Analyste               CDI   \n",
       "3     Consultant-e data scientist  sénior Sofrecom F/H               CDI   \n",
       "4                   Alternant Business Analsyt TML F/H  CDD / Temporaire   \n",
       "..                                                 ...               ...   \n",
       "659                                 Urbaniste SI - H/F  CDD / Temporaire   \n",
       "660                       Analyste modernisation - H/F            Autres   \n",
       "661                              Business Data Analyst               CDI   \n",
       "662                       Analyst Crédit Operate (H/F)               CDI   \n",
       "663                       Analyst Crédit Operate (H/F)               CDI   \n",
       "\n",
       "         teleworking durée            villes  \\\n",
       "0    il y a 4 heures        Levallois-Perret   \n",
       "1    il y a 4 heures                 Lannion   \n",
       "2    il y a 4 heures                   Paris   \n",
       "3    il y a 9 heures               Vincennes   \n",
       "4    il y a 9 heures                  Clichy   \n",
       "..               ...   ...               ...   \n",
       "659    il y a 2 mois          Noisy-Le-Grand   \n",
       "660    il y a 2 mois          Noisy-Le-Grand   \n",
       "661    il y a 2 mois                   Paris   \n",
       "662    il y a 3 mois                 Puteaux   \n",
       "663    il y a 3 mois                 Puteaux   \n",
       "\n",
       "                                                  link  \\\n",
       "0    https://www.welcometothejungle.com/fr/companie...   \n",
       "1    https://www.welcometothejungle.com/fr/companie...   \n",
       "2    https://www.welcometothejungle.com/fr/companie...   \n",
       "3    https://www.welcometothejungle.com/fr/companie...   \n",
       "4    https://www.welcometothejungle.com/fr/companie...   \n",
       "..                                                 ...   \n",
       "659  https://www.welcometothejungle.com/fr/companie...   \n",
       "660  https://www.welcometothejungle.com/fr/companie...   \n",
       "661  https://www.welcometothejungle.com/fr/companie...   \n",
       "662  https://www.welcometothejungle.com/fr/companie...   \n",
       "663  https://www.welcometothejungle.com/fr/companie...   \n",
       "\n",
       "                         localisation              city  count        lat  \\\n",
       "0              [48.892956, 2.2881683]  Levallois-Perret     17  48.892956   \n",
       "1            [48.7322183, -3.4587994]           Lannion      2  48.732218   \n",
       "2    [48.8588897, 2.3200410217200766]             Paris    263   48.85889   \n",
       "3             [48.8474508, 2.4396714]         Vincennes      2  48.847451   \n",
       "4                  [48.9026, 2.30551]            Clichy     19    48.9026   \n",
       "..                                ...               ...    ...        ...   \n",
       "659           [48.8493972, 2.5519571]    Noisy-Le-Grand      4  48.849397   \n",
       "660           [48.8493972, 2.5519571]    Noisy-Le-Grand      4  48.849397   \n",
       "661  [48.8588897, 2.3200410217200766]             Paris    263   48.85889   \n",
       "662           [48.8841522, 2.2368863]           Puteaux     10  48.884152   \n",
       "663           [48.8841522, 2.2368863]           Puteaux     10  48.884152   \n",
       "\n",
       "          lon  \n",
       "0    2.288168  \n",
       "1   -3.458799  \n",
       "2    2.320041  \n",
       "3    2.439671  \n",
       "4     2.30551  \n",
       "..        ...  \n",
       "659  2.551957  \n",
       "660  2.551957  \n",
       "661  2.320041  \n",
       "662  2.236886  \n",
       "663  2.236886  \n",
       "\n",
       "[664 rows x 12 columns]"
      ]
     },
     "execution_count": 605,
     "metadata": {},
     "output_type": "execute_result"
    }
   ],
   "source": [
    "df_villes"
   ]
  },
  {
   "cell_type": "code",
   "execution_count": 284,
   "id": "7a347c0b-3efe-492d-af08-3d0ca12084ac",
   "metadata": {},
   "outputs": [
    {
     "data": {
      "application/vnd.plotly.v1+json": {
       "config": {
        "plotlyServerURL": "https://plot.ly"
       },
       "data": [
        {
         "coloraxis": "coloraxis",
         "hovertemplate": "count=%{z}<br>lat=%{lat}<br>lon=%{lon}<extra></extra>",
         "lat": [
          48.892956,
          48.7322183,
          48.8588897,
          48.8474508,
          48.9026,
          48.8588897,
          48.8588897,
          48.8588897,
          48.8588897,
          48.8588897,
          48.892956,
          48.892956,
          48.9026,
          45.7578137,
          48.8588897,
          48.892956,
          48.7322183,
          48.8588897,
          48.8474508,
          48.9026,
          48.8588897,
          48.8588897,
          48.8588897,
          48.8588897,
          48.8588897,
          48.892956,
          48.892956,
          48.9026,
          45.7578137,
          48.8588897,
          45.1875602,
          48.8588897,
          48.8588897,
          48.8323973,
          48.8323973,
          45.7578137,
          48.8198479,
          48.8588897,
          45.7578137,
          48.8588897,
          48.8774799,
          48.8774799,
          48.8588897,
          47.4460674,
          48.8588897,
          48.1113387,
          48.8588897,
          43.6195225,
          48.8588897,
          45.1875602,
          48.8588897,
          43.5298424,
          48.8588897,
          44.841225,
          48.8588897,
          48.8356649,
          48.8588897,
          48.8588897,
          48.8841522,
          48.8588897,
          44.841225,
          48.8588897,
          47.3900474,
          48.8588897,
          48.8588897,
          48.8588897,
          48.8588897,
          48.8388954,
          44.805615,
          47.2186371,
          48.8588897,
          48.8588897,
          48.8588897,
          48.8588897,
          43.5292828,
          50.6365654,
          48.8588897,
          48.891008,
          48.8356649,
          46.6591772,
          45.7578137,
          44.1963467,
          48.8588897,
          48.1113387,
          48.0073849,
          48.0073849,
          46.6591772,
          48.8250508,
          48.8588897,
          48.1197799,
          48.8588897,
          48.935773,
          48.8356649,
          48.891008,
          48.11724035,
          43.5298424,
          45.7578137,
          47.2186371,
          48.8588897,
          48.7995951,
          48.891008,
          48.8588897,
          44.841225,
          45.1875602,
          43.6112422,
          44.6616428,
          48.8588897,
          48.8588897,
          48.8588897,
          48.8588897,
          48.8490721,
          48.8588897,
          48.8588897,
          48.8588897,
          45.7578137,
          48.8588897,
          48.8588897,
          48.8356649,
          46.3241132,
          49.4938975,
          48.8588897,
          48.8588897,
          48.891008,
          47.2186371,
          48.8588897,
          48.8588897,
          50.6767018,
          48.8588897,
          49.6902106,
          48.8588897,
          48.8588897,
          48.8588897,
          45.7512575,
          48.7809496,
          48.8588897,
          48.8588897,
          48.8588897,
          48.1113387,
          48.8841522,
          47.3900474,
          48.8425689,
          48.8425689,
          48.6937223,
          43.617146149999996,
          48.8425689,
          48.8425689,
          48.8425689,
          48.8425689,
          47.3900474,
          43.2961743,
          48.8425689,
          45.7578137,
          48.8425689,
          48.584614,
          48.8425689,
          45.1875602,
          48.8425689,
          48.8425689,
          44.841225,
          45.7578137,
          47.2186371,
          48.8425689,
          50.6365654,
          48.584614,
          43.6112422,
          48.8425689,
          48.8425689,
          48.8425689,
          48.8425689,
          49.4404591,
          47.3900474,
          48.9863555,
          48.8588897,
          48.8588897,
          48.8064996,
          48.8064996,
          44.8842379,
          48.8588897,
          48.891008,
          45.7422756,
          48.8588897,
          47.2186371,
          48.8588897,
          47.2186371,
          46.6591772,
          48.8588897,
          48.8588897,
          48.8356649,
          48.9118584,
          48.8012045,
          48.8588897,
          48.8356649,
          49.044765,
          48.892956,
          48.9118584,
          46.3241132,
          48.8588897,
          48.8588897,
          48.8588897,
          48.8588897,
          48.8588897,
          48.8588897,
          43.5298424,
          49.8941708,
          48.8924273,
          46.6591772,
          43.5298424,
          45.7733573,
          49.1196964,
          48.8035403,
          48.8588897,
          48.8198479,
          48.7818613,
          48.8588897,
          43.8374249,
          48.8588897,
          48.8588897,
          48.8035403,
          48.8035403,
          48.8035403,
          48.8588897,
          48.8198479,
          48.8588897,
          43.6112422,
          48.7876528,
          48.8198479,
          45.7733573,
          43.6044622,
          45.7733573,
          45.7733573,
          45.7733573,
          48.9250016,
          48.8588897,
          37.8319425,
          48.8588897,
          48.8588897,
          48.8588897,
          48.8588897,
          48.6320379,
          48.8588897,
          48.8588897,
          43.6044622,
          48.8588897,
          47.2186371,
          48.8356649,
          48.8064996,
          48.8588897,
          48.8198479,
          48.753554,
          45.7578137,
          50.6365654,
          48.884683,
          48.8588897,
          44.841225,
          48.8588897,
          49.0823913,
          48.8588897,
          47.3900474,
          48.8588897,
          48.8588897,
          48.8588897,
          48.884683,
          48.8198479,
          48.8953328,
          48.8924273,
          48.8588897,
          48.892956,
          48.11724035,
          48.8198479,
          45.7578137,
          48.8588897,
          48.884683,
          48.8588897,
          48.8588897,
          48.884683,
          48.8588897,
          48.8588897,
          48.8588897,
          50.6802124,
          48.584614,
          45.7578137,
          48.8953328,
          48.8953328,
          48.8588897,
          48.891008,
          48.8588897,
          43.6044622,
          48.8588897,
          48.8588897,
          48.8588897,
          48.8588897,
          47.2186371,
          48.8588897,
          48.8588897,
          48.8588897,
          48.8588897,
          48.8588897,
          48.9863555,
          48.935773,
          48.8588897,
          48.8588897,
          48.9863555,
          48.8588897,
          48.8588897,
          48.8588897,
          50.6802124,
          45.7578137,
          48.8588897,
          48.8924273,
          44.841225,
          48.4438601,
          47.3900474,
          49.1196964,
          "N",
          48.892956,
          48.892956,
          45.2264498,
          48.892956,
          "N",
          49.1196964,
          "N",
          48.1113387,
          45.7733573,
          48.892956,
          47.0811658,
          49.1196964,
          48.6047148,
          45.7733573,
          45.7733573,
          48.8588897,
          48.8588897,
          45.7578137,
          45.7578137,
          48.8356649,
          48.9863555,
          43.2961722,
          48.9863555,
          48.9863555,
          48.8588897,
          48.8588897,
          48.8588897,
          43.6044622,
          45.1875602,
          48.8588897,
          43.6044622,
          48.8588897,
          48.8588897,
          48.8588897,
          44.841225,
          45.7733573,
          45.7733573,
          47.2186371,
          47.2186371,
          48.8953328,
          48.884683,
          48.8588897,
          45.7578137,
          37.8319425,
          48.8588897,
          48.9461437,
          48.8588897,
          48.8588897,
          48.8588897,
          48.8588897,
          48.8709053,
          48.8709053,
          48.8924273,
          48.9250016,
          48.8588897,
          48.8588897,
          48.8588897,
          48.8588897,
          48.8924273,
          43.7009358,
          48.8588897,
          48.9026,
          48.8841522,
          49.0823913,
          43.6044622,
          48.8356649,
          48.891008,
          48.8588897,
          48.8126688,
          43.5298424,
          48.8588897,
          48.8588897,
          48.8588897,
          48.9026,
          45.1875602,
          48.8588897,
          48.1113387,
          48.9026,
          48.8588897,
          48.8588897,
          48.8493972,
          48.8588897,
          48.8493972,
          48.8588897,
          48.8588897,
          50.1759602,
          48.8588897,
          48.8588897,
          48.8588897,
          48.8588897,
          48.8953328,
          48.892956,
          48.7809496,
          48.8588897,
          48.8588897,
          48.4438601,
          48.8126688,
          48.8588897,
          48.8588897,
          48.8953328,
          48.8841522,
          45.1875602,
          48.8588897,
          48.8588897,
          48.8588897,
          48.9863555,
          48.8588897,
          48.884683,
          48.8588897,
          48.8588897,
          46.6591772,
          48.8588897,
          48.8588897,
          43.5298424,
          48.9863555,
          48.8588897,
          49.6902106,
          48.8198479,
          46.6591772,
          48.9026,
          48.9026,
          48.8588897,
          50.6365654,
          48.8588897,
          50.4638918,
          48.8126688,
          48.8588897,
          48.8588897,
          48.8588897,
          48.9026,
          48.9026,
          48.896312,
          47.9027336,
          49.6902106,
          49.1771038,
          49.8941708,
          48.8953328,
          50.6365654,
          48.9026,
          48.8588897,
          48.8588897,
          48.8588897,
          48.8198479,
          48.8588897,
          48.8588897,
          48.8250508,
          48.8250508,
          48.8588897,
          48.8064996,
          48.8588897,
          48.8588897,
          50.03683,
          48.8953328,
          48.8588897,
          48.8588897,
          48.892956,
          48.8588897,
          48.8588897,
          48.8588897,
          48.8588897,
          48.8588897,
          48.8588897,
          47.2186371,
          48.8588897,
          49.0032865,
          48.1113387,
          48.8588897,
          48.8588897,
          48.8588897,
          48.8250508,
          47.2186371,
          48.8841522,
          "N",
          48.9026,
          48.9026,
          48.9026,
          50.4638918,
          48.8588897,
          48.8588897,
          48.8588897,
          47.6586772,
          48.9026,
          45.7578137,
          48.1113387,
          48.1113387,
          48.911729,
          48.8588897,
          43.6112422,
          48.892956,
          48.8250508,
          48.9058999,
          48.8588897,
          48.9254221,
          48.9026,
          48.8588897,
          48.9026,
          47.6586772,
          48.892956,
          43.6112422,
          48.8588897,
          48.8425689,
          48.8588897,
          48.9026,
          48.8588897,
          48.8588897,
          48.8588897,
          48.8588897,
          48.8588897,
          48.8588897,
          48.8588897,
          48.8588897,
          48.8588897,
          48.584614,
          43.2957547,
          47.2186371,
          49.8941708,
          48.1113387,
          43.6044622,
          50.6193174,
          50.6193174,
          47.6586772,
          50.6193174,
          48.8122302,
          48.1113387,
          48.8250508,
          48.8588897,
          48.8588897,
          48.8250508,
          48.8588897,
          48.8588897,
          48.8250508,
          44.3513062,
          48.8588897,
          47.6586772,
          48.8126688,
          48.8588897,
          48.8588897,
          44.841225,
          48.584614,
          48.8709053,
          48.8953328,
          47.2186371,
          48.8588897,
          48.8588897,
          47.6586772,
          47.2186371,
          47.2186371,
          47.2186371,
          48.8588897,
          48.8198479,
          47.6586772,
          48.8588897,
          48.8588897,
          48.8588897,
          48.8198479,
          50.6802124,
          48.8588897,
          48.8588897,
          45.7578137,
          48.8965023,
          48.8250508,
          48.8588897,
          45.7578137,
          48.8588897,
          48.8588897,
          46.6505634,
          47.3900474,
          48.935773,
          48.8588897,
          44.841225,
          48.7811049,
          48.8588897,
          48.8588897,
          48.8588897,
          48.8588897,
          47.7467233,
          48.8588897,
          48.8588897,
          45.7578137,
          48.8588897,
          48.8588897,
          49.9205556,
          48.8588897,
          43.6044622,
          48.8425689,
          48.8588897,
          45.7578137,
          48.8588897,
          48.884683,
          48.892956,
          48.8588897,
          48.584614,
          43.5298424,
          48.8588897,
          48.6560723,
          50.6365654,
          48.8588897,
          48.8588897,
          47.6586772,
          47.6586772,
          48.8588897,
          44.841225,
          44.841225,
          48.8425689,
          47.9027336,
          48.8841522,
          48.8588897,
          48.8841522,
          48.272548,
          49.8941708,
          48.8356649,
          50.6365654,
          48.8588897,
          48.8709053,
          48.8709053,
          48.8709053,
          48.8924273,
          48.8588897,
          48.8588897,
          48.884683,
          48.8198479,
          48.8588897,
          48.8588897,
          43.2961743,
          48.8588897,
          48.8588897,
          48.8588897,
          48.8588897,
          48.8841522,
          48.8153656,
          48.8588897,
          47.1685211,
          48.8198479,
          48.8588897,
          48.8924273,
          48.8588897,
          48.8924273,
          48.8588897,
          "N",
          46.8180047,
          48.7809496,
          43.6044622,
          48.8924273,
          48.8588897,
          48.8588897,
          48.8493972,
          48.8493972,
          48.8588897,
          48.8841522,
          48.8841522
         ],
         "lon": [
          2.2881683,
          -3.4587994,
          2.3200410217200766,
          2.4396714,
          2.30551,
          2.3200410217200766,
          2.3200410217200766,
          2.3200410217200766,
          2.3200410217200766,
          2.3200410217200766,
          2.2881683,
          2.2881683,
          2.30551,
          4.8320114,
          2.3200410217200766,
          2.2881683,
          -3.4587994,
          2.3200410217200766,
          2.4396714,
          2.30551,
          2.3200410217200766,
          2.3200410217200766,
          2.3200410217200766,
          2.3200410217200766,
          2.3200410217200766,
          2.2881683,
          2.2881683,
          2.30551,
          4.8320114,
          2.3200410217200766,
          5.7357819,
          2.3200410217200766,
          2.3200410217200766,
          2.3555829,
          2.3555829,
          4.8320114,
          2.4159508,
          2.3200410217200766,
          4.8320114,
          2.3200410217200766,
          2.31765,
          2.31765,
          2.3200410217200766,
          -0.4652452,
          2.3200410217200766,
          -1.6800198,
          2.3200410217200766,
          7.0518158,
          2.3200410217200766,
          5.7357819,
          2.3200410217200766,
          5.4474738,
          2.3200410217200766,
          -0.5800364,
          2.3200410217200766,
          2.240206,
          2.3200410217200766,
          2.3200410217200766,
          2.2368863,
          2.3200410217200766,
          -0.5800364,
          2.3200410217200766,
          0.6889268,
          2.3200410217200766,
          2.3200410217200766,
          2.3200410217200766,
          2.3200410217200766,
          2.3717228,
          -0.6308396,
          -1.5541362,
          2.3200410217200766,
          2.3200410217200766,
          2.3200410217200766,
          2.3200410217200766,
          1.5299721,
          3.0635282,
          2.3200410217200766,
          2.2412078,
          2.240206,
          5.7302769,
          4.8320114,
          5.9443791,
          2.3200410217200766,
          -1.6800198,
          0.1967849,
          0.1967849,
          5.7302769,
          2.273457,
          2.3200410217200766,
          -1.6038829,
          2.3200410217200766,
          2.3580232,
          2.240206,
          2.2412078,
          -1.6333223088329278,
          5.4474738,
          4.8320114,
          -1.5541362,
          2.3200410217200766,
          2.1730571,
          2.2412078,
          2.3200410217200766,
          -0.5800364,
          5.7357819,
          3.8767337,
          -1.1700018,
          2.3200410217200766,
          2.3200410217200766,
          2.3200410217200766,
          2.3200410217200766,
          2.4749347,
          2.3200410217200766,
          2.3200410217200766,
          2.3200410217200766,
          4.8320114,
          2.3200410217200766,
          2.3200410217200766,
          2.240206,
          -0.4649403,
          0.1079732,
          2.3200410217200766,
          2.3200410217200766,
          2.2412078,
          -1.5541362,
          2.3200410217200766,
          2.3200410217200766,
          3.1043032,
          2.3200410217200766,
          1.399492,
          2.3200410217200766,
          2.3200410217200766,
          2.3200410217200766,
          3.1144195,
          2.1900052,
          2.3200410217200766,
          2.3200410217200766,
          2.3200410217200766,
          -1.6800198,
          2.2368863,
          0.6889268,
          2.4360689,
          2.4360689,
          6.1834097,
          7.064236630143813,
          2.4360689,
          2.4360689,
          2.4360689,
          2.4360689,
          0.6889268,
          5.3699525,
          2.4360689,
          4.8320114,
          2.4360689,
          7.7507127,
          2.4360689,
          5.7357819,
          2.4360689,
          2.4360689,
          -0.5800364,
          4.8320114,
          -1.5541362,
          2.4360689,
          3.0635282,
          7.7507127,
          3.8767337,
          2.4360689,
          2.4360689,
          2.4360689,
          2.4360689,
          1.0939658,
          0.6889268,
          2.4500537,
          2.3200410217200766,
          2.3200410217200766,
          2.3366502,
          2.3366502,
          -0.6111474,
          2.3200410217200766,
          2.2412078,
          4.9681796,
          2.3200410217200766,
          -1.5541362,
          2.3200410217200766,
          -1.5541362,
          5.7302769,
          2.3200410217200766,
          2.3200410217200766,
          2.240206,
          2.3658756,
          2.4309703,
          2.3200410217200766,
          2.240206,
          2.1059841,
          2.2881683,
          2.3658756,
          -0.4649403,
          2.3200410217200766,
          2.3200410217200766,
          2.3200410217200766,
          2.3200410217200766,
          2.3200410217200766,
          2.3200410217200766,
          5.4474738,
          2.2956951,
          2.2071267,
          5.7302769,
          5.4474738,
          4.8868454,
          6.1763552,
          2.1266886,
          2.3200410217200766,
          2.4159508,
          2.015952118728746,
          2.3200410217200766,
          4.3600687,
          2.3200410217200766,
          2.3200410217200766,
          2.1266886,
          2.1266886,
          2.1266886,
          2.3200410217200766,
          2.4159508,
          2.3200410217200766,
          3.8767337,
          2.2281028,
          2.4159508,
          4.8868454,
          1.4442469,
          4.8868454,
          4.8868454,
          4.8868454,
          2.2105491,
          2.3200410217200766,
          -122.25558103646526,
          2.3200410217200766,
          2.3200410217200766,
          2.3200410217200766,
          2.3200410217200766,
          -2.0580178,
          2.3200410217200766,
          2.3200410217200766,
          1.4442469,
          2.3200410217200766,
          -1.5541362,
          2.240206,
          2.3366502,
          2.3200410217200766,
          2.4159508,
          2.2959423,
          4.8320114,
          3.0635282,
          2.2695658,
          2.3200410217200766,
          -0.5800364,
          2.3200410217200766,
          2.5034402,
          2.3200410217200766,
          0.6889268,
          2.3200410217200766,
          2.3200410217200766,
          2.3200410217200766,
          2.2695658,
          2.4159508,
          2.2561602,
          2.2071267,
          2.3200410217200766,
          2.2881683,
          -1.6333223088329278,
          2.4159508,
          4.8320114,
          2.3200410217200766,
          2.2695658,
          2.3200410217200766,
          2.3200410217200766,
          2.2695658,
          2.3200410217200766,
          2.3200410217200766,
          2.3200410217200766,
          3.1564365,
          7.7507127,
          4.8320114,
          2.2561602,
          2.2561602,
          2.3200410217200766,
          2.2412078,
          2.3200410217200766,
          1.4442469,
          2.3200410217200766,
          2.3200410217200766,
          2.3200410217200766,
          2.3200410217200766,
          -1.5541362,
          2.3200410217200766,
          2.3200410217200766,
          2.3200410217200766,
          2.3200410217200766,
          2.3200410217200766,
          2.4500537,
          2.3580232,
          2.3200410217200766,
          2.3200410217200766,
          2.4500537,
          2.3200410217200766,
          2.3200410217200766,
          2.3200410217200766,
          3.1564365,
          4.8320114,
          2.3200410217200766,
          2.2071267,
          -0.5800364,
          1.4881434,
          0.6889268,
          6.1763552,
          "a",
          2.2881683,
          2.2881683,
          5.80266,
          2.2881683,
          "a",
          6.1763552,
          "a",
          -1.6800198,
          4.8868454,
          2.2881683,
          2.399125,
          6.1763552,
          7.7484488,
          4.8868454,
          4.8868454,
          2.3200410217200766,
          2.3200410217200766,
          4.8320114,
          4.8320114,
          2.240206,
          2.4500537,
          5.6295178,
          2.4500537,
          2.4500537,
          2.3200410217200766,
          2.3200410217200766,
          2.3200410217200766,
          1.4442469,
          5.7357819,
          2.3200410217200766,
          1.4442469,
          2.3200410217200766,
          2.3200410217200766,
          2.3200410217200766,
          -0.5800364,
          4.8868454,
          4.8868454,
          -1.5541362,
          -1.5541362,
          2.2561602,
          2.2695658,
          2.3200410217200766,
          4.8320114,
          -122.25558103646526,
          2.3200410217200766,
          2.1450951,
          2.3200410217200766,
          2.3200410217200766,
          2.3200410217200766,
          2.3200410217200766,
          2.2255727,
          2.2255727,
          2.2071267,
          2.2105491,
          2.3200410217200766,
          2.3200410217200766,
          2.3200410217200766,
          2.3200410217200766,
          2.2071267,
          7.2683912,
          2.3200410217200766,
          2.30551,
          2.2368863,
          2.5034402,
          1.4442469,
          2.240206,
          2.2412078,
          2.3200410217200766,
          2.2385432,
          5.4474738,
          2.3200410217200766,
          2.3200410217200766,
          2.3200410217200766,
          2.30551,
          5.7357819,
          2.3200410217200766,
          -1.6800198,
          2.30551,
          2.3200410217200766,
          2.3200410217200766,
          2.5519571,
          2.3200410217200766,
          2.5519571,
          2.3200410217200766,
          2.3200410217200766,
          3.2356613,
          2.3200410217200766,
          2.3200410217200766,
          2.3200410217200766,
          2.3200410217200766,
          2.2561602,
          2.2881683,
          2.1900052,
          2.3200410217200766,
          2.3200410217200766,
          1.4881434,
          2.2385432,
          2.3200410217200766,
          2.3200410217200766,
          2.2561602,
          2.2368863,
          5.7357819,
          2.3200410217200766,
          2.3200410217200766,
          2.3200410217200766,
          2.4500537,
          2.3200410217200766,
          2.2695658,
          2.3200410217200766,
          2.3200410217200766,
          5.7302769,
          2.3200410217200766,
          2.3200410217200766,
          5.4474738,
          2.4500537,
          2.3200410217200766,
          1.399492,
          2.4159508,
          5.7302769,
          2.30551,
          2.30551,
          2.3200410217200766,
          3.0635282,
          2.3200410217200766,
          1.7631125,
          2.2385432,
          2.3200410217200766,
          2.3200410217200766,
          2.3200410217200766,
          2.30551,
          2.30551,
          2.3086972,
          1.9086066,
          1.399492,
          -0.3202231,
          2.2956951,
          2.2561602,
          3.0635282,
          2.30551,
          2.3200410217200766,
          2.3200410217200766,
          2.3200410217200766,
          2.4159508,
          2.3200410217200766,
          2.3200410217200766,
          2.273457,
          2.273457,
          2.3200410217200766,
          2.3366502,
          2.3200410217200766,
          2.3200410217200766,
          2.1223737,
          2.2561602,
          2.3200410217200766,
          2.3200410217200766,
          2.2881683,
          2.3200410217200766,
          2.3200410217200766,
          2.3200410217200766,
          2.3200410217200766,
          2.3200410217200766,
          2.3200410217200766,
          -1.5541362,
          2.3200410217200766,
          2.5176985,
          -1.6800198,
          2.3200410217200766,
          2.3200410217200766,
          2.3200410217200766,
          2.273457,
          -1.5541362,
          2.2368863,
          "a",
          2.30551,
          2.30551,
          2.30551,
          1.7631125,
          2.3200410217200766,
          2.3200410217200766,
          2.3200410217200766,
          -2.7599079,
          2.30551,
          4.8320114,
          -1.6800198,
          -1.6800198,
          2.334267,
          2.3200410217200766,
          3.8767337,
          2.2881683,
          2.273457,
          2.0396454,
          2.3200410217200766,
          2.2940122,
          2.30551,
          2.3200410217200766,
          2.30551,
          -2.7599079,
          2.2881683,
          3.8767337,
          2.3200410217200766,
          2.4360689,
          2.3200410217200766,
          2.30551,
          2.3200410217200766,
          2.3200410217200766,
          2.3200410217200766,
          2.3200410217200766,
          2.3200410217200766,
          2.3200410217200766,
          2.3200410217200766,
          2.3200410217200766,
          2.3200410217200766,
          7.7507127,
          -0.3685668,
          -1.5541362,
          2.2956951,
          -1.6800198,
          1.4442469,
          3.1314002,
          3.1314002,
          -2.7599079,
          3.1314002,
          2.3872525,
          -1.6800198,
          2.273457,
          2.3200410217200766,
          2.3200410217200766,
          2.273457,
          2.3200410217200766,
          2.3200410217200766,
          2.273457,
          2.5727883,
          2.3200410217200766,
          -2.7599079,
          2.2385432,
          2.3200410217200766,
          2.3200410217200766,
          -0.5800364,
          7.7507127,
          2.2255727,
          2.2561602,
          -1.5541362,
          2.3200410217200766,
          2.3200410217200766,
          -2.7599079,
          -1.5541362,
          -1.5541362,
          -1.5541362,
          2.3200410217200766,
          2.4159508,
          -2.7599079,
          2.3200410217200766,
          2.3200410217200766,
          2.3200410217200766,
          2.4159508,
          3.1564365,
          2.3200410217200766,
          2.3200410217200766,
          4.8320114,
          2.4019804,
          2.273457,
          2.3200410217200766,
          4.8320114,
          2.3200410217200766,
          2.3200410217200766,
          0.3748389,
          0.6889268,
          2.3580232,
          2.3200410217200766,
          -0.5800364,
          2.2619632,
          2.3200410217200766,
          2.3200410217200766,
          2.3200410217200766,
          2.3200410217200766,
          7.3389937,
          2.3200410217200766,
          2.3200410217200766,
          4.8320114,
          2.3200410217200766,
          2.3200410217200766,
          3.2805556,
          2.3200410217200766,
          1.4442469,
          2.4360689,
          2.3200410217200766,
          4.8320114,
          2.3200410217200766,
          2.2695658,
          2.2881683,
          2.3200410217200766,
          7.7507127,
          5.4474738,
          2.3200410217200766,
          2.6362499,
          3.0635282,
          2.3200410217200766,
          2.3200410217200766,
          -2.7599079,
          -2.7599079,
          2.3200410217200766,
          -0.5800364,
          -0.5800364,
          2.4360689,
          1.9086066,
          2.2368863,
          2.3200410217200766,
          2.2368863,
          7.4013652,
          2.2956951,
          2.240206,
          3.0635282,
          2.3200410217200766,
          2.2255727,
          2.2255727,
          2.2255727,
          2.2071267,
          2.3200410217200766,
          2.3200410217200766,
          2.2695658,
          2.4159508,
          2.3200410217200766,
          2.3200410217200766,
          5.3699525,
          2.3200410217200766,
          2.3200410217200766,
          2.3200410217200766,
          2.3200410217200766,
          2.2368863,
          2.3483549,
          2.3200410217200766,
          -1.4722242,
          2.4159508,
          2.3200410217200766,
          2.2071267,
          2.3200410217200766,
          2.2071267,
          2.3200410217200766,
          "a",
          0.545812,
          2.1900052,
          1.4442469,
          2.2071267,
          2.3200410217200766,
          2.3200410217200766,
          2.5519571,
          2.5519571,
          2.3200410217200766,
          2.2368863,
          2.2368863
         ],
         "name": "",
         "radius": 13,
         "subplot": "mapbox",
         "type": "densitymapbox",
         "z": [
          17,
          2,
          263,
          2,
          19,
          263,
          263,
          263,
          263,
          263,
          17,
          17,
          19,
          21,
          263,
          17,
          2,
          263,
          2,
          19,
          263,
          263,
          263,
          263,
          263,
          17,
          17,
          19,
          21,
          263,
          7,
          263,
          263,
          2,
          2,
          21,
          13,
          263,
          21,
          263,
          2,
          2,
          263,
          1,
          263,
          10,
          263,
          1,
          263,
          7,
          263,
          6,
          263,
          11,
          263,
          7,
          263,
          263,
          10,
          263,
          11,
          263,
          7,
          263,
          263,
          263,
          263,
          1,
          1,
          17,
          263,
          263,
          263,
          263,
          1,
          7,
          263,
          7,
          2,
          4,
          21,
          1,
          263,
          10,
          2,
          2,
          4,
          2,
          263,
          1,
          263,
          3,
          7,
          7,
          2,
          6,
          21,
          17,
          263,
          1,
          7,
          263,
          11,
          7,
          5,
          1,
          263,
          263,
          263,
          263,
          1,
          263,
          263,
          263,
          21,
          263,
          263,
          7,
          2,
          1,
          263,
          263,
          7,
          17,
          263,
          263,
          1,
          263,
          3,
          263,
          263,
          263,
          1,
          3,
          263,
          263,
          263,
          10,
          10,
          7,
          19,
          19,
          1,
          1,
          19,
          19,
          19,
          19,
          7,
          2,
          19,
          21,
          19,
          6,
          19,
          7,
          19,
          19,
          11,
          21,
          17,
          19,
          7,
          6,
          5,
          19,
          19,
          19,
          19,
          1,
          7,
          8,
          263,
          263,
          4,
          4,
          1,
          263,
          7,
          1,
          263,
          17,
          263,
          17,
          2,
          263,
          263,
          7,
          1,
          1,
          263,
          7,
          1,
          17,
          1,
          2,
          263,
          263,
          263,
          263,
          263,
          263,
          6,
          4,
          9,
          4,
          6,
          10,
          4,
          4,
          263,
          13,
          1,
          263,
          1,
          263,
          263,
          4,
          4,
          4,
          263,
          13,
          263,
          5,
          1,
          13,
          10,
          9,
          10,
          10,
          10,
          2,
          263,
          2,
          263,
          263,
          263,
          263,
          1,
          263,
          263,
          9,
          263,
          17,
          7,
          4,
          263,
          13,
          1,
          21,
          7,
          7,
          263,
          11,
          263,
          2,
          263,
          7,
          263,
          263,
          263,
          7,
          13,
          9,
          9,
          263,
          17,
          2,
          13,
          21,
          263,
          7,
          263,
          263,
          7,
          263,
          263,
          263,
          3,
          6,
          21,
          9,
          9,
          263,
          7,
          263,
          9,
          263,
          263,
          263,
          263,
          17,
          263,
          263,
          263,
          263,
          263,
          8,
          3,
          263,
          263,
          8,
          263,
          263,
          263,
          3,
          21,
          263,
          9,
          11,
          2,
          7,
          4,
          3,
          17,
          17,
          1,
          17,
          3,
          4,
          3,
          10,
          10,
          17,
          1,
          4,
          1,
          10,
          10,
          263,
          263,
          21,
          21,
          7,
          8,
          1,
          8,
          8,
          263,
          263,
          263,
          9,
          7,
          263,
          9,
          263,
          263,
          263,
          11,
          10,
          10,
          17,
          17,
          9,
          7,
          263,
          21,
          2,
          263,
          1,
          263,
          263,
          263,
          263,
          6,
          6,
          9,
          2,
          263,
          263,
          263,
          263,
          9,
          1,
          263,
          19,
          10,
          2,
          9,
          2,
          7,
          263,
          4,
          1,
          263,
          263,
          263,
          19,
          7,
          263,
          10,
          19,
          263,
          263,
          4,
          263,
          4,
          263,
          263,
          1,
          263,
          263,
          263,
          263,
          9,
          17,
          3,
          263,
          263,
          2,
          4,
          263,
          263,
          9,
          10,
          7,
          263,
          263,
          263,
          8,
          263,
          1,
          263,
          263,
          2,
          263,
          263,
          6,
          8,
          263,
          3,
          13,
          4,
          19,
          19,
          263,
          7,
          263,
          2,
          4,
          263,
          263,
          263,
          19,
          19,
          1,
          2,
          3,
          1,
          4,
          9,
          7,
          19,
          263,
          263,
          263,
          13,
          263,
          263,
          7,
          7,
          263,
          4,
          263,
          263,
          1,
          9,
          263,
          263,
          17,
          263,
          263,
          263,
          263,
          263,
          263,
          17,
          263,
          1,
          10,
          263,
          263,
          263,
          7,
          17,
          10,
          1,
          19,
          19,
          19,
          2,
          263,
          263,
          263,
          8,
          19,
          21,
          10,
          10,
          1,
          263,
          5,
          17,
          7,
          1,
          263,
          1,
          19,
          263,
          19,
          8,
          17,
          5,
          263,
          19,
          263,
          19,
          263,
          263,
          263,
          263,
          263,
          263,
          263,
          263,
          263,
          6,
          1,
          17,
          4,
          10,
          9,
          3,
          3,
          8,
          3,
          1,
          10,
          7,
          263,
          263,
          7,
          263,
          263,
          2,
          1,
          263,
          8,
          4,
          263,
          263,
          11,
          6,
          6,
          9,
          17,
          263,
          263,
          8,
          17,
          17,
          17,
          263,
          13,
          8,
          263,
          263,
          263,
          13,
          3,
          263,
          263,
          21,
          1,
          7,
          263,
          21,
          263,
          263,
          1,
          7,
          3,
          263,
          11,
          1,
          263,
          263,
          263,
          263,
          1,
          263,
          263,
          21,
          263,
          263,
          1,
          263,
          9,
          19,
          263,
          21,
          263,
          7,
          17,
          263,
          6,
          6,
          263,
          1,
          7,
          263,
          263,
          8,
          8,
          263,
          11,
          11,
          19,
          2,
          10,
          263,
          10,
          1,
          4,
          1,
          7,
          263,
          6,
          6,
          6,
          9,
          263,
          263,
          7,
          13,
          263,
          263,
          2,
          263,
          263,
          263,
          263,
          10,
          1,
          263,
          1,
          13,
          263,
          9,
          263,
          9,
          263,
          1,
          1,
          3,
          9,
          9,
          263,
          263,
          4,
          4,
          263,
          10,
          10
         ]
        }
       ],
       "layout": {
        "coloraxis": {
         "colorbar": {
          "title": {
           "text": "count"
          }
         },
         "colorscale": [
          [
           0,
           "#0d0887"
          ],
          [
           0.1111111111111111,
           "#46039f"
          ],
          [
           0.2222222222222222,
           "#7201a8"
          ],
          [
           0.3333333333333333,
           "#9c179e"
          ],
          [
           0.4444444444444444,
           "#bd3786"
          ],
          [
           0.5555555555555556,
           "#d8576b"
          ],
          [
           0.6666666666666666,
           "#ed7953"
          ],
          [
           0.7777777777777778,
           "#fb9f3a"
          ],
          [
           0.8888888888888888,
           "#fdca26"
          ],
          [
           1,
           "#f0f921"
          ]
         ]
        },
        "height": 1000,
        "legend": {
         "tracegroupgap": 0
        },
        "mapbox": {
         "bearing": 0,
         "center": {
          "lat": -72.70777533471885,
          "lon": 46.95849864917693
         },
         "domain": {
          "x": [
           0,
           1
          ],
          "y": [
           0,
           1
          ]
         },
         "pitch": 0,
         "style": "open-street-map",
         "zoom": 13.919056296499775
        },
        "margin": {
         "t": 60
        },
        "template": {
         "data": {
          "bar": [
           {
            "error_x": {
             "color": "#2a3f5f"
            },
            "error_y": {
             "color": "#2a3f5f"
            },
            "marker": {
             "line": {
              "color": "#E5ECF6",
              "width": 0.5
             },
             "pattern": {
              "fillmode": "overlay",
              "size": 10,
              "solidity": 0.2
             }
            },
            "type": "bar"
           }
          ],
          "barpolar": [
           {
            "marker": {
             "line": {
              "color": "#E5ECF6",
              "width": 0.5
             },
             "pattern": {
              "fillmode": "overlay",
              "size": 10,
              "solidity": 0.2
             }
            },
            "type": "barpolar"
           }
          ],
          "carpet": [
           {
            "aaxis": {
             "endlinecolor": "#2a3f5f",
             "gridcolor": "white",
             "linecolor": "white",
             "minorgridcolor": "white",
             "startlinecolor": "#2a3f5f"
            },
            "baxis": {
             "endlinecolor": "#2a3f5f",
             "gridcolor": "white",
             "linecolor": "white",
             "minorgridcolor": "white",
             "startlinecolor": "#2a3f5f"
            },
            "type": "carpet"
           }
          ],
          "choropleth": [
           {
            "colorbar": {
             "outlinewidth": 0,
             "ticks": ""
            },
            "type": "choropleth"
           }
          ],
          "contour": [
           {
            "colorbar": {
             "outlinewidth": 0,
             "ticks": ""
            },
            "colorscale": [
             [
              0,
              "#0d0887"
             ],
             [
              0.1111111111111111,
              "#46039f"
             ],
             [
              0.2222222222222222,
              "#7201a8"
             ],
             [
              0.3333333333333333,
              "#9c179e"
             ],
             [
              0.4444444444444444,
              "#bd3786"
             ],
             [
              0.5555555555555556,
              "#d8576b"
             ],
             [
              0.6666666666666666,
              "#ed7953"
             ],
             [
              0.7777777777777778,
              "#fb9f3a"
             ],
             [
              0.8888888888888888,
              "#fdca26"
             ],
             [
              1,
              "#f0f921"
             ]
            ],
            "type": "contour"
           }
          ],
          "contourcarpet": [
           {
            "colorbar": {
             "outlinewidth": 0,
             "ticks": ""
            },
            "type": "contourcarpet"
           }
          ],
          "heatmap": [
           {
            "colorbar": {
             "outlinewidth": 0,
             "ticks": ""
            },
            "colorscale": [
             [
              0,
              "#0d0887"
             ],
             [
              0.1111111111111111,
              "#46039f"
             ],
             [
              0.2222222222222222,
              "#7201a8"
             ],
             [
              0.3333333333333333,
              "#9c179e"
             ],
             [
              0.4444444444444444,
              "#bd3786"
             ],
             [
              0.5555555555555556,
              "#d8576b"
             ],
             [
              0.6666666666666666,
              "#ed7953"
             ],
             [
              0.7777777777777778,
              "#fb9f3a"
             ],
             [
              0.8888888888888888,
              "#fdca26"
             ],
             [
              1,
              "#f0f921"
             ]
            ],
            "type": "heatmap"
           }
          ],
          "heatmapgl": [
           {
            "colorbar": {
             "outlinewidth": 0,
             "ticks": ""
            },
            "colorscale": [
             [
              0,
              "#0d0887"
             ],
             [
              0.1111111111111111,
              "#46039f"
             ],
             [
              0.2222222222222222,
              "#7201a8"
             ],
             [
              0.3333333333333333,
              "#9c179e"
             ],
             [
              0.4444444444444444,
              "#bd3786"
             ],
             [
              0.5555555555555556,
              "#d8576b"
             ],
             [
              0.6666666666666666,
              "#ed7953"
             ],
             [
              0.7777777777777778,
              "#fb9f3a"
             ],
             [
              0.8888888888888888,
              "#fdca26"
             ],
             [
              1,
              "#f0f921"
             ]
            ],
            "type": "heatmapgl"
           }
          ],
          "histogram": [
           {
            "marker": {
             "pattern": {
              "fillmode": "overlay",
              "size": 10,
              "solidity": 0.2
             }
            },
            "type": "histogram"
           }
          ],
          "histogram2d": [
           {
            "colorbar": {
             "outlinewidth": 0,
             "ticks": ""
            },
            "colorscale": [
             [
              0,
              "#0d0887"
             ],
             [
              0.1111111111111111,
              "#46039f"
             ],
             [
              0.2222222222222222,
              "#7201a8"
             ],
             [
              0.3333333333333333,
              "#9c179e"
             ],
             [
              0.4444444444444444,
              "#bd3786"
             ],
             [
              0.5555555555555556,
              "#d8576b"
             ],
             [
              0.6666666666666666,
              "#ed7953"
             ],
             [
              0.7777777777777778,
              "#fb9f3a"
             ],
             [
              0.8888888888888888,
              "#fdca26"
             ],
             [
              1,
              "#f0f921"
             ]
            ],
            "type": "histogram2d"
           }
          ],
          "histogram2dcontour": [
           {
            "colorbar": {
             "outlinewidth": 0,
             "ticks": ""
            },
            "colorscale": [
             [
              0,
              "#0d0887"
             ],
             [
              0.1111111111111111,
              "#46039f"
             ],
             [
              0.2222222222222222,
              "#7201a8"
             ],
             [
              0.3333333333333333,
              "#9c179e"
             ],
             [
              0.4444444444444444,
              "#bd3786"
             ],
             [
              0.5555555555555556,
              "#d8576b"
             ],
             [
              0.6666666666666666,
              "#ed7953"
             ],
             [
              0.7777777777777778,
              "#fb9f3a"
             ],
             [
              0.8888888888888888,
              "#fdca26"
             ],
             [
              1,
              "#f0f921"
             ]
            ],
            "type": "histogram2dcontour"
           }
          ],
          "mesh3d": [
           {
            "colorbar": {
             "outlinewidth": 0,
             "ticks": ""
            },
            "type": "mesh3d"
           }
          ],
          "parcoords": [
           {
            "line": {
             "colorbar": {
              "outlinewidth": 0,
              "ticks": ""
             }
            },
            "type": "parcoords"
           }
          ],
          "pie": [
           {
            "automargin": true,
            "type": "pie"
           }
          ],
          "scatter": [
           {
            "fillpattern": {
             "fillmode": "overlay",
             "size": 10,
             "solidity": 0.2
            },
            "type": "scatter"
           }
          ],
          "scatter3d": [
           {
            "line": {
             "colorbar": {
              "outlinewidth": 0,
              "ticks": ""
             }
            },
            "marker": {
             "colorbar": {
              "outlinewidth": 0,
              "ticks": ""
             }
            },
            "type": "scatter3d"
           }
          ],
          "scattercarpet": [
           {
            "marker": {
             "colorbar": {
              "outlinewidth": 0,
              "ticks": ""
             }
            },
            "type": "scattercarpet"
           }
          ],
          "scattergeo": [
           {
            "marker": {
             "colorbar": {
              "outlinewidth": 0,
              "ticks": ""
             }
            },
            "type": "scattergeo"
           }
          ],
          "scattergl": [
           {
            "marker": {
             "colorbar": {
              "outlinewidth": 0,
              "ticks": ""
             }
            },
            "type": "scattergl"
           }
          ],
          "scattermapbox": [
           {
            "marker": {
             "colorbar": {
              "outlinewidth": 0,
              "ticks": ""
             }
            },
            "type": "scattermapbox"
           }
          ],
          "scatterpolar": [
           {
            "marker": {
             "colorbar": {
              "outlinewidth": 0,
              "ticks": ""
             }
            },
            "type": "scatterpolar"
           }
          ],
          "scatterpolargl": [
           {
            "marker": {
             "colorbar": {
              "outlinewidth": 0,
              "ticks": ""
             }
            },
            "type": "scatterpolargl"
           }
          ],
          "scatterternary": [
           {
            "marker": {
             "colorbar": {
              "outlinewidth": 0,
              "ticks": ""
             }
            },
            "type": "scatterternary"
           }
          ],
          "surface": [
           {
            "colorbar": {
             "outlinewidth": 0,
             "ticks": ""
            },
            "colorscale": [
             [
              0,
              "#0d0887"
             ],
             [
              0.1111111111111111,
              "#46039f"
             ],
             [
              0.2222222222222222,
              "#7201a8"
             ],
             [
              0.3333333333333333,
              "#9c179e"
             ],
             [
              0.4444444444444444,
              "#bd3786"
             ],
             [
              0.5555555555555556,
              "#d8576b"
             ],
             [
              0.6666666666666666,
              "#ed7953"
             ],
             [
              0.7777777777777778,
              "#fb9f3a"
             ],
             [
              0.8888888888888888,
              "#fdca26"
             ],
             [
              1,
              "#f0f921"
             ]
            ],
            "type": "surface"
           }
          ],
          "table": [
           {
            "cells": {
             "fill": {
              "color": "#EBF0F8"
             },
             "line": {
              "color": "white"
             }
            },
            "header": {
             "fill": {
              "color": "#C8D4E3"
             },
             "line": {
              "color": "white"
             }
            },
            "type": "table"
           }
          ]
         },
         "layout": {
          "annotationdefaults": {
           "arrowcolor": "#2a3f5f",
           "arrowhead": 0,
           "arrowwidth": 1
          },
          "autotypenumbers": "strict",
          "coloraxis": {
           "colorbar": {
            "outlinewidth": 0,
            "ticks": ""
           }
          },
          "colorscale": {
           "diverging": [
            [
             0,
             "#8e0152"
            ],
            [
             0.1,
             "#c51b7d"
            ],
            [
             0.2,
             "#de77ae"
            ],
            [
             0.3,
             "#f1b6da"
            ],
            [
             0.4,
             "#fde0ef"
            ],
            [
             0.5,
             "#f7f7f7"
            ],
            [
             0.6,
             "#e6f5d0"
            ],
            [
             0.7,
             "#b8e186"
            ],
            [
             0.8,
             "#7fbc41"
            ],
            [
             0.9,
             "#4d9221"
            ],
            [
             1,
             "#276419"
            ]
           ],
           "sequential": [
            [
             0,
             "#0d0887"
            ],
            [
             0.1111111111111111,
             "#46039f"
            ],
            [
             0.2222222222222222,
             "#7201a8"
            ],
            [
             0.3333333333333333,
             "#9c179e"
            ],
            [
             0.4444444444444444,
             "#bd3786"
            ],
            [
             0.5555555555555556,
             "#d8576b"
            ],
            [
             0.6666666666666666,
             "#ed7953"
            ],
            [
             0.7777777777777778,
             "#fb9f3a"
            ],
            [
             0.8888888888888888,
             "#fdca26"
            ],
            [
             1,
             "#f0f921"
            ]
           ],
           "sequentialminus": [
            [
             0,
             "#0d0887"
            ],
            [
             0.1111111111111111,
             "#46039f"
            ],
            [
             0.2222222222222222,
             "#7201a8"
            ],
            [
             0.3333333333333333,
             "#9c179e"
            ],
            [
             0.4444444444444444,
             "#bd3786"
            ],
            [
             0.5555555555555556,
             "#d8576b"
            ],
            [
             0.6666666666666666,
             "#ed7953"
            ],
            [
             0.7777777777777778,
             "#fb9f3a"
            ],
            [
             0.8888888888888888,
             "#fdca26"
            ],
            [
             1,
             "#f0f921"
            ]
           ]
          },
          "colorway": [
           "#636efa",
           "#EF553B",
           "#00cc96",
           "#ab63fa",
           "#FFA15A",
           "#19d3f3",
           "#FF6692",
           "#B6E880",
           "#FF97FF",
           "#FECB52"
          ],
          "font": {
           "color": "#2a3f5f"
          },
          "geo": {
           "bgcolor": "white",
           "lakecolor": "white",
           "landcolor": "#E5ECF6",
           "showlakes": true,
           "showland": true,
           "subunitcolor": "white"
          },
          "hoverlabel": {
           "align": "left"
          },
          "hovermode": "closest",
          "mapbox": {
           "style": "light"
          },
          "paper_bgcolor": "white",
          "plot_bgcolor": "#E5ECF6",
          "polar": {
           "angularaxis": {
            "gridcolor": "white",
            "linecolor": "white",
            "ticks": ""
           },
           "bgcolor": "#E5ECF6",
           "radialaxis": {
            "gridcolor": "white",
            "linecolor": "white",
            "ticks": ""
           }
          },
          "scene": {
           "xaxis": {
            "backgroundcolor": "#E5ECF6",
            "gridcolor": "white",
            "gridwidth": 2,
            "linecolor": "white",
            "showbackground": true,
            "ticks": "",
            "zerolinecolor": "white"
           },
           "yaxis": {
            "backgroundcolor": "#E5ECF6",
            "gridcolor": "white",
            "gridwidth": 2,
            "linecolor": "white",
            "showbackground": true,
            "ticks": "",
            "zerolinecolor": "white"
           },
           "zaxis": {
            "backgroundcolor": "#E5ECF6",
            "gridcolor": "white",
            "gridwidth": 2,
            "linecolor": "white",
            "showbackground": true,
            "ticks": "",
            "zerolinecolor": "white"
           }
          },
          "shapedefaults": {
           "line": {
            "color": "#2a3f5f"
           }
          },
          "ternary": {
           "aaxis": {
            "gridcolor": "white",
            "linecolor": "white",
            "ticks": ""
           },
           "baxis": {
            "gridcolor": "white",
            "linecolor": "white",
            "ticks": ""
           },
           "bgcolor": "#E5ECF6",
           "caxis": {
            "gridcolor": "white",
            "linecolor": "white",
            "ticks": ""
           }
          },
          "title": {
           "x": 0.05
          },
          "xaxis": {
           "automargin": true,
           "gridcolor": "white",
           "linecolor": "white",
           "ticks": "",
           "title": {
            "standoff": 15
           },
           "zerolinecolor": "white",
           "zerolinewidth": 2
          },
          "yaxis": {
           "automargin": true,
           "gridcolor": "white",
           "linecolor": "white",
           "ticks": "",
           "title": {
            "standoff": 15
           },
           "zerolinecolor": "white",
           "zerolinewidth": 2
          }
         }
        },
        "width": 1200
       }
      },
      "image/png": "[encoded data removed]",
      "text/html": [
       "<div>                            <div id=\"6c867775-dcd5-496a-ad5b-c587e39a7248\" class=\"plotly-graph-div\" style=\"height:1000px; width:1200px;\"></div>            <script type=\"text/javascript\">                require([\"plotly\"], function(Plotly) {                    window.PLOTLYENV=window.PLOTLYENV || {};                                    if (document.getElementById(\"6c867775-dcd5-496a-ad5b-c587e39a7248\")) {                    Plotly.newPlot(                        \"6c867775-dcd5-496a-ad5b-c587e39a7248\",                        [{\"coloraxis\":\"coloraxis\",\"hovertemplate\":\"count=%{z}<br>lat=%{lat}<br>lon=%{lon}<extra></extra>\",\"lat\":[48.892956,48.7322183,48.8588897,48.8474508,48.9026,48.8588897,48.8588897,48.8588897,48.8588897,48.8588897,48.892956,48.892956,48.9026,45.7578137,48.8588897,48.892956,48.7322183,48.8588897,48.8474508,48.9026,48.8588897,48.8588897,48.8588897,48.8588897,48.8588897,48.892956,48.892956,48.9026,45.7578137,48.8588897,45.1875602,48.8588897,48.8588897,48.8323973,48.8323973,45.7578137,48.8198479,48.8588897,45.7578137,48.8588897,48.8774799,48.8774799,48.8588897,47.4460674,48.8588897,48.1113387,48.8588897,43.6195225,48.8588897,45.1875602,48.8588897,43.5298424,48.8588897,44.841225,48.8588897,48.8356649,48.8588897,48.8588897,48.8841522,48.8588897,44.841225,48.8588897,47.3900474,48.8588897,48.8588897,48.8588897,48.8588897,48.8388954,44.805615,47.2186371,48.8588897,48.8588897,48.8588897,48.8588897,43.5292828,50.6365654,48.8588897,48.891008,48.8356649,46.6591772,45.7578137,44.1963467,48.8588897,48.1113387,48.0073849,48.0073849,46.6591772,48.8250508,48.8588897,48.1197799,48.8588897,48.935773,48.8356649,48.891008,48.11724035,43.5298424,45.7578137,47.2186371,48.8588897,48.7995951,48.891008,48.8588897,44.841225,45.1875602,43.6112422,44.6616428,48.8588897,48.8588897,48.8588897,48.8588897,48.8490721,48.8588897,48.8588897,48.8588897,45.7578137,48.8588897,48.8588897,48.8356649,46.3241132,49.4938975,48.8588897,48.8588897,48.891008,47.2186371,48.8588897,48.8588897,50.6767018,48.8588897,49.6902106,48.8588897,48.8588897,48.8588897,45.7512575,48.7809496,48.8588897,48.8588897,48.8588897,48.1113387,48.8841522,47.3900474,48.8425689,48.8425689,48.6937223,43.617146149999996,48.8425689,48.8425689,48.8425689,48.8425689,47.3900474,43.2961743,48.8425689,45.7578137,48.8425689,48.584614,48.8425689,45.1875602,48.8425689,48.8425689,44.841225,45.7578137,47.2186371,48.8425689,50.6365654,48.584614,43.6112422,48.8425689,48.8425689,48.8425689,48.8425689,49.4404591,47.3900474,48.9863555,48.8588897,48.8588897,48.8064996,48.8064996,44.8842379,48.8588897,48.891008,45.7422756,48.8588897,47.2186371,48.8588897,47.2186371,46.6591772,48.8588897,48.8588897,48.8356649,48.9118584,48.8012045,48.8588897,48.8356649,49.044765,48.892956,48.9118584,46.3241132,48.8588897,48.8588897,48.8588897,48.8588897,48.8588897,48.8588897,43.5298424,49.8941708,48.8924273,46.6591772,43.5298424,45.7733573,49.1196964,48.8035403,48.8588897,48.8198479,48.7818613,48.8588897,43.8374249,48.8588897,48.8588897,48.8035403,48.8035403,48.8035403,48.8588897,48.8198479,48.8588897,43.6112422,48.7876528,48.8198479,45.7733573,43.6044622,45.7733573,45.7733573,45.7733573,48.9250016,48.8588897,37.8319425,48.8588897,48.8588897,48.8588897,48.8588897,48.6320379,48.8588897,48.8588897,43.6044622,48.8588897,47.2186371,48.8356649,48.8064996,48.8588897,48.8198479,48.753554,45.7578137,50.6365654,48.884683,48.8588897,44.841225,48.8588897,49.0823913,48.8588897,47.3900474,48.8588897,48.8588897,48.8588897,48.884683,48.8198479,48.8953328,48.8924273,48.8588897,48.892956,48.11724035,48.8198479,45.7578137,48.8588897,48.884683,48.8588897,48.8588897,48.884683,48.8588897,48.8588897,48.8588897,50.6802124,48.584614,45.7578137,48.8953328,48.8953328,48.8588897,48.891008,48.8588897,43.6044622,48.8588897,48.8588897,48.8588897,48.8588897,47.2186371,48.8588897,48.8588897,48.8588897,48.8588897,48.8588897,48.9863555,48.935773,48.8588897,48.8588897,48.9863555,48.8588897,48.8588897,48.8588897,50.6802124,45.7578137,48.8588897,48.8924273,44.841225,48.4438601,47.3900474,49.1196964,\"N\",48.892956,48.892956,45.2264498,48.892956,\"N\",49.1196964,\"N\",48.1113387,45.7733573,48.892956,47.0811658,49.1196964,48.6047148,45.7733573,45.7733573,48.8588897,48.8588897,45.7578137,45.7578137,48.8356649,48.9863555,43.2961722,48.9863555,48.9863555,48.8588897,48.8588897,48.8588897,43.6044622,45.1875602,48.8588897,43.6044622,48.8588897,48.8588897,48.8588897,44.841225,45.7733573,45.7733573,47.2186371,47.2186371,48.8953328,48.884683,48.8588897,45.7578137,37.8319425,48.8588897,48.9461437,48.8588897,48.8588897,48.8588897,48.8588897,48.8709053,48.8709053,48.8924273,48.9250016,48.8588897,48.8588897,48.8588897,48.8588897,48.8924273,43.7009358,48.8588897,48.9026,48.8841522,49.0823913,43.6044622,48.8356649,48.891008,48.8588897,48.8126688,43.5298424,48.8588897,48.8588897,48.8588897,48.9026,45.1875602,48.8588897,48.1113387,48.9026,48.8588897,48.8588897,48.8493972,48.8588897,48.8493972,48.8588897,48.8588897,50.1759602,48.8588897,48.8588897,48.8588897,48.8588897,48.8953328,48.892956,48.7809496,48.8588897,48.8588897,48.4438601,48.8126688,48.8588897,48.8588897,48.8953328,48.8841522,45.1875602,48.8588897,48.8588897,48.8588897,48.9863555,48.8588897,48.884683,48.8588897,48.8588897,46.6591772,48.8588897,48.8588897,43.5298424,48.9863555,48.8588897,49.6902106,48.8198479,46.6591772,48.9026,48.9026,48.8588897,50.6365654,48.8588897,50.4638918,48.8126688,48.8588897,48.8588897,48.8588897,48.9026,48.9026,48.896312,47.9027336,49.6902106,49.1771038,49.8941708,48.8953328,50.6365654,48.9026,48.8588897,48.8588897,48.8588897,48.8198479,48.8588897,48.8588897,48.8250508,48.8250508,48.8588897,48.8064996,48.8588897,48.8588897,50.03683,48.8953328,48.8588897,48.8588897,48.892956,48.8588897,48.8588897,48.8588897,48.8588897,48.8588897,48.8588897,47.2186371,48.8588897,49.0032865,48.1113387,48.8588897,48.8588897,48.8588897,48.8250508,47.2186371,48.8841522,\"N\",48.9026,48.9026,48.9026,50.4638918,48.8588897,48.8588897,48.8588897,47.6586772,48.9026,45.7578137,48.1113387,48.1113387,48.911729,48.8588897,43.6112422,48.892956,48.8250508,48.9058999,48.8588897,48.9254221,48.9026,48.8588897,48.9026,47.6586772,48.892956,43.6112422,48.8588897,48.8425689,48.8588897,48.9026,48.8588897,48.8588897,48.8588897,48.8588897,48.8588897,48.8588897,48.8588897,48.8588897,48.8588897,48.584614,43.2957547,47.2186371,49.8941708,48.1113387,43.6044622,50.6193174,50.6193174,47.6586772,50.6193174,48.8122302,48.1113387,48.8250508,48.8588897,48.8588897,48.8250508,48.8588897,48.8588897,48.8250508,44.3513062,48.8588897,47.6586772,48.8126688,48.8588897,48.8588897,44.841225,48.584614,48.8709053,48.8953328,47.2186371,48.8588897,48.8588897,47.6586772,47.2186371,47.2186371,47.2186371,48.8588897,48.8198479,47.6586772,48.8588897,48.8588897,48.8588897,48.8198479,50.6802124,48.8588897,48.8588897,45.7578137,48.8965023,48.8250508,48.8588897,45.7578137,48.8588897,48.8588897,46.6505634,47.3900474,48.935773,48.8588897,44.841225,48.7811049,48.8588897,48.8588897,48.8588897,48.8588897,47.7467233,48.8588897,48.8588897,45.7578137,48.8588897,48.8588897,49.9205556,48.8588897,43.6044622,48.8425689,48.8588897,45.7578137,48.8588897,48.884683,48.892956,48.8588897,48.584614,43.5298424,48.8588897,48.6560723,50.6365654,48.8588897,48.8588897,47.6586772,47.6586772,48.8588897,44.841225,44.841225,48.8425689,47.9027336,48.8841522,48.8588897,48.8841522,48.272548,49.8941708,48.8356649,50.6365654,48.8588897,48.8709053,48.8709053,48.8709053,48.8924273,48.8588897,48.8588897,48.884683,48.8198479,48.8588897,48.8588897,43.2961743,48.8588897,48.8588897,48.8588897,48.8588897,48.8841522,48.8153656,48.8588897,47.1685211,48.8198479,48.8588897,48.8924273,48.8588897,48.8924273,48.8588897,\"N\",46.8180047,48.7809496,43.6044622,48.8924273,48.8588897,48.8588897,48.8493972,48.8493972,48.8588897,48.8841522,48.8841522],\"lon\":[2.2881683,-3.4587994,2.3200410217200766,2.4396714,2.30551,2.3200410217200766,2.3200410217200766,2.3200410217200766,2.3200410217200766,2.3200410217200766,2.2881683,2.2881683,2.30551,4.8320114,2.3200410217200766,2.2881683,-3.4587994,2.3200410217200766,2.4396714,2.30551,2.3200410217200766,2.3200410217200766,2.3200410217200766,2.3200410217200766,2.3200410217200766,2.2881683,2.2881683,2.30551,4.8320114,2.3200410217200766,5.7357819,2.3200410217200766,2.3200410217200766,2.3555829,2.3555829,4.8320114,2.4159508,2.3200410217200766,4.8320114,2.3200410217200766,2.31765,2.31765,2.3200410217200766,-0.4652452,2.3200410217200766,-1.6800198,2.3200410217200766,7.0518158,2.3200410217200766,5.7357819,2.3200410217200766,5.4474738,2.3200410217200766,-0.5800364,2.3200410217200766,2.240206,2.3200410217200766,2.3200410217200766,2.2368863,2.3200410217200766,-0.5800364,2.3200410217200766,0.6889268,2.3200410217200766,2.3200410217200766,2.3200410217200766,2.3200410217200766,2.3717228,-0.6308396,-1.5541362,2.3200410217200766,2.3200410217200766,2.3200410217200766,2.3200410217200766,1.5299721,3.0635282,2.3200410217200766,2.2412078,2.240206,5.7302769,4.8320114,5.9443791,2.3200410217200766,-1.6800198,0.1967849,0.1967849,5.7302769,2.273457,2.3200410217200766,-1.6038829,2.3200410217200766,2.3580232,2.240206,2.2412078,-1.6333223088329278,5.4474738,4.8320114,-1.5541362,2.3200410217200766,2.1730571,2.2412078,2.3200410217200766,-0.5800364,5.7357819,3.8767337,-1.1700018,2.3200410217200766,2.3200410217200766,2.3200410217200766,2.3200410217200766,2.4749347,2.3200410217200766,2.3200410217200766,2.3200410217200766,4.8320114,2.3200410217200766,2.3200410217200766,2.240206,-0.4649403,0.1079732,2.3200410217200766,2.3200410217200766,2.2412078,-1.5541362,2.3200410217200766,2.3200410217200766,3.1043032,2.3200410217200766,1.399492,2.3200410217200766,2.3200410217200766,2.3200410217200766,3.1144195,2.1900052,2.3200410217200766,2.3200410217200766,2.3200410217200766,-1.6800198,2.2368863,0.6889268,2.4360689,2.4360689,6.1834097,7.064236630143813,2.4360689,2.4360689,2.4360689,2.4360689,0.6889268,5.3699525,2.4360689,4.8320114,2.4360689,7.7507127,2.4360689,5.7357819,2.4360689,2.4360689,-0.5800364,4.8320114,-1.5541362,2.4360689,3.0635282,7.7507127,3.8767337,2.4360689,2.4360689,2.4360689,2.4360689,1.0939658,0.6889268,2.4500537,2.3200410217200766,2.3200410217200766,2.3366502,2.3366502,-0.6111474,2.3200410217200766,2.2412078,4.9681796,2.3200410217200766,-1.5541362,2.3200410217200766,-1.5541362,5.7302769,2.3200410217200766,2.3200410217200766,2.240206,2.3658756,2.4309703,2.3200410217200766,2.240206,2.1059841,2.2881683,2.3658756,-0.4649403,2.3200410217200766,2.3200410217200766,2.3200410217200766,2.3200410217200766,2.3200410217200766,2.3200410217200766,5.4474738,2.2956951,2.2071267,5.7302769,5.4474738,4.8868454,6.1763552,2.1266886,2.3200410217200766,2.4159508,2.015952118728746,2.3200410217200766,4.3600687,2.3200410217200766,2.3200410217200766,2.1266886,2.1266886,2.1266886,2.3200410217200766,2.4159508,2.3200410217200766,3.8767337,2.2281028,2.4159508,4.8868454,1.4442469,4.8868454,4.8868454,4.8868454,2.2105491,2.3200410217200766,-122.25558103646526,2.3200410217200766,2.3200410217200766,2.3200410217200766,2.3200410217200766,-2.0580178,2.3200410217200766,2.3200410217200766,1.4442469,2.3200410217200766,-1.5541362,2.240206,2.3366502,2.3200410217200766,2.4159508,2.2959423,4.8320114,3.0635282,2.2695658,2.3200410217200766,-0.5800364,2.3200410217200766,2.5034402,2.3200410217200766,0.6889268,2.3200410217200766,2.3200410217200766,2.3200410217200766,2.2695658,2.4159508,2.2561602,2.2071267,2.3200410217200766,2.2881683,-1.6333223088329278,2.4159508,4.8320114,2.3200410217200766,2.2695658,2.3200410217200766,2.3200410217200766,2.2695658,2.3200410217200766,2.3200410217200766,2.3200410217200766,3.1564365,7.7507127,4.8320114,2.2561602,2.2561602,2.3200410217200766,2.2412078,2.3200410217200766,1.4442469,2.3200410217200766,2.3200410217200766,2.3200410217200766,2.3200410217200766,-1.5541362,2.3200410217200766,2.3200410217200766,2.3200410217200766,2.3200410217200766,2.3200410217200766,2.4500537,2.3580232,2.3200410217200766,2.3200410217200766,2.4500537,2.3200410217200766,2.3200410217200766,2.3200410217200766,3.1564365,4.8320114,2.3200410217200766,2.2071267,-0.5800364,1.4881434,0.6889268,6.1763552,\"a\",2.2881683,2.2881683,5.80266,2.2881683,\"a\",6.1763552,\"a\",-1.6800198,4.8868454,2.2881683,2.399125,6.1763552,7.7484488,4.8868454,4.8868454,2.3200410217200766,2.3200410217200766,4.8320114,4.8320114,2.240206,2.4500537,5.6295178,2.4500537,2.4500537,2.3200410217200766,2.3200410217200766,2.3200410217200766,1.4442469,5.7357819,2.3200410217200766,1.4442469,2.3200410217200766,2.3200410217200766,2.3200410217200766,-0.5800364,4.8868454,4.8868454,-1.5541362,-1.5541362,2.2561602,2.2695658,2.3200410217200766,4.8320114,-122.25558103646526,2.3200410217200766,2.1450951,2.3200410217200766,2.3200410217200766,2.3200410217200766,2.3200410217200766,2.2255727,2.2255727,2.2071267,2.2105491,2.3200410217200766,2.3200410217200766,2.3200410217200766,2.3200410217200766,2.2071267,7.2683912,2.3200410217200766,2.30551,2.2368863,2.5034402,1.4442469,2.240206,2.2412078,2.3200410217200766,2.2385432,5.4474738,2.3200410217200766,2.3200410217200766,2.3200410217200766,2.30551,5.7357819,2.3200410217200766,-1.6800198,2.30551,2.3200410217200766,2.3200410217200766,2.5519571,2.3200410217200766,2.5519571,2.3200410217200766,2.3200410217200766,3.2356613,2.3200410217200766,2.3200410217200766,2.3200410217200766,2.3200410217200766,2.2561602,2.2881683,2.1900052,2.3200410217200766,2.3200410217200766,1.4881434,2.2385432,2.3200410217200766,2.3200410217200766,2.2561602,2.2368863,5.7357819,2.3200410217200766,2.3200410217200766,2.3200410217200766,2.4500537,2.3200410217200766,2.2695658,2.3200410217200766,2.3200410217200766,5.7302769,2.3200410217200766,2.3200410217200766,5.4474738,2.4500537,2.3200410217200766,1.399492,2.4159508,5.7302769,2.30551,2.30551,2.3200410217200766,3.0635282,2.3200410217200766,1.7631125,2.2385432,2.3200410217200766,2.3200410217200766,2.3200410217200766,2.30551,2.30551,2.3086972,1.9086066,1.399492,-0.3202231,2.2956951,2.2561602,3.0635282,2.30551,2.3200410217200766,2.3200410217200766,2.3200410217200766,2.4159508,2.3200410217200766,2.3200410217200766,2.273457,2.273457,2.3200410217200766,2.3366502,2.3200410217200766,2.3200410217200766,2.1223737,2.2561602,2.3200410217200766,2.3200410217200766,2.2881683,2.3200410217200766,2.3200410217200766,2.3200410217200766,2.3200410217200766,2.3200410217200766,2.3200410217200766,-1.5541362,2.3200410217200766,2.5176985,-1.6800198,2.3200410217200766,2.3200410217200766,2.3200410217200766,2.273457,-1.5541362,2.2368863,\"a\",2.30551,2.30551,2.30551,1.7631125,2.3200410217200766,2.3200410217200766,2.3200410217200766,-2.7599079,2.30551,4.8320114,-1.6800198,-1.6800198,2.334267,2.3200410217200766,3.8767337,2.2881683,2.273457,2.0396454,2.3200410217200766,2.2940122,2.30551,2.3200410217200766,2.30551,-2.7599079,2.2881683,3.8767337,2.3200410217200766,2.4360689,2.3200410217200766,2.30551,2.3200410217200766,2.3200410217200766,2.3200410217200766,2.3200410217200766,2.3200410217200766,2.3200410217200766,2.3200410217200766,2.3200410217200766,2.3200410217200766,7.7507127,-0.3685668,-1.5541362,2.2956951,-1.6800198,1.4442469,3.1314002,3.1314002,-2.7599079,3.1314002,2.3872525,-1.6800198,2.273457,2.3200410217200766,2.3200410217200766,2.273457,2.3200410217200766,2.3200410217200766,2.273457,2.5727883,2.3200410217200766,-2.7599079,2.2385432,2.3200410217200766,2.3200410217200766,-0.5800364,7.7507127,2.2255727,2.2561602,-1.5541362,2.3200410217200766,2.3200410217200766,-2.7599079,-1.5541362,-1.5541362,-1.5541362,2.3200410217200766,2.4159508,-2.7599079,2.3200410217200766,2.3200410217200766,2.3200410217200766,2.4159508,3.1564365,2.3200410217200766,2.3200410217200766,4.8320114,2.4019804,2.273457,2.3200410217200766,4.8320114,2.3200410217200766,2.3200410217200766,0.3748389,0.6889268,2.3580232,2.3200410217200766,-0.5800364,2.2619632,2.3200410217200766,2.3200410217200766,2.3200410217200766,2.3200410217200766,7.3389937,2.3200410217200766,2.3200410217200766,4.8320114,2.3200410217200766,2.3200410217200766,3.2805556,2.3200410217200766,1.4442469,2.4360689,2.3200410217200766,4.8320114,2.3200410217200766,2.2695658,2.2881683,2.3200410217200766,7.7507127,5.4474738,2.3200410217200766,2.6362499,3.0635282,2.3200410217200766,2.3200410217200766,-2.7599079,-2.7599079,2.3200410217200766,-0.5800364,-0.5800364,2.4360689,1.9086066,2.2368863,2.3200410217200766,2.2368863,7.4013652,2.2956951,2.240206,3.0635282,2.3200410217200766,2.2255727,2.2255727,2.2255727,2.2071267,2.3200410217200766,2.3200410217200766,2.2695658,2.4159508,2.3200410217200766,2.3200410217200766,5.3699525,2.3200410217200766,2.3200410217200766,2.3200410217200766,2.3200410217200766,2.2368863,2.3483549,2.3200410217200766,-1.4722242,2.4159508,2.3200410217200766,2.2071267,2.3200410217200766,2.2071267,2.3200410217200766,\"a\",0.545812,2.1900052,1.4442469,2.2071267,2.3200410217200766,2.3200410217200766,2.5519571,2.5519571,2.3200410217200766,2.2368863,2.2368863],\"name\":\"\",\"radius\":13,\"subplot\":\"mapbox\",\"z\":[17,2,263,2,19,263,263,263,263,263,17,17,19,21,263,17,2,263,2,19,263,263,263,263,263,17,17,19,21,263,7,263,263,2,2,21,13,263,21,263,2,2,263,1,263,10,263,1,263,7,263,6,263,11,263,7,263,263,10,263,11,263,7,263,263,263,263,1,1,17,263,263,263,263,1,7,263,7,2,4,21,1,263,10,2,2,4,2,263,1,263,3,7,7,2,6,21,17,263,1,7,263,11,7,5,1,263,263,263,263,1,263,263,263,21,263,263,7,2,1,263,263,7,17,263,263,1,263,3,263,263,263,1,3,263,263,263,10,10,7,19,19,1,1,19,19,19,19,7,2,19,21,19,6,19,7,19,19,11,21,17,19,7,6,5,19,19,19,19,1,7,8,263,263,4,4,1,263,7,1,263,17,263,17,2,263,263,7,1,1,263,7,1,17,1,2,263,263,263,263,263,263,6,4,9,4,6,10,4,4,263,13,1,263,1,263,263,4,4,4,263,13,263,5,1,13,10,9,10,10,10,2,263,2,263,263,263,263,1,263,263,9,263,17,7,4,263,13,1,21,7,7,263,11,263,2,263,7,263,263,263,7,13,9,9,263,17,2,13,21,263,7,263,263,7,263,263,263,3,6,21,9,9,263,7,263,9,263,263,263,263,17,263,263,263,263,263,8,3,263,263,8,263,263,263,3,21,263,9,11,2,7,4,3,17,17,1,17,3,4,3,10,10,17,1,4,1,10,10,263,263,21,21,7,8,1,8,8,263,263,263,9,7,263,9,263,263,263,11,10,10,17,17,9,7,263,21,2,263,1,263,263,263,263,6,6,9,2,263,263,263,263,9,1,263,19,10,2,9,2,7,263,4,1,263,263,263,19,7,263,10,19,263,263,4,263,4,263,263,1,263,263,263,263,9,17,3,263,263,2,4,263,263,9,10,7,263,263,263,8,263,1,263,263,2,263,263,6,8,263,3,13,4,19,19,263,7,263,2,4,263,263,263,19,19,1,2,3,1,4,9,7,19,263,263,263,13,263,263,7,7,263,4,263,263,1,9,263,263,17,263,263,263,263,263,263,17,263,1,10,263,263,263,7,17,10,1,19,19,19,2,263,263,263,8,19,21,10,10,1,263,5,17,7,1,263,1,19,263,19,8,17,5,263,19,263,19,263,263,263,263,263,263,263,263,263,6,1,17,4,10,9,3,3,8,3,1,10,7,263,263,7,263,263,2,1,263,8,4,263,263,11,6,6,9,17,263,263,8,17,17,17,263,13,8,263,263,263,13,3,263,263,21,1,7,263,21,263,263,1,7,3,263,11,1,263,263,263,263,1,263,263,21,263,263,1,263,9,19,263,21,263,7,17,263,6,6,263,1,7,263,263,8,8,263,11,11,19,2,10,263,10,1,4,1,7,263,6,6,6,9,263,263,7,13,263,263,2,263,263,263,263,10,1,263,1,13,263,9,263,9,263,1,1,3,9,9,263,263,4,4,263,10,10],\"type\":\"densitymapbox\"}],                        {\"template\":{\"data\":{\"histogram2dcontour\":[{\"type\":\"histogram2dcontour\",\"colorbar\":{\"outlinewidth\":0,\"ticks\":\"\"},\"colorscale\":[[0.0,\"#0d0887\"],[0.1111111111111111,\"#46039f\"],[0.2222222222222222,\"#7201a8\"],[0.3333333333333333,\"#9c179e\"],[0.4444444444444444,\"#bd3786\"],[0.5555555555555556,\"#d8576b\"],[0.6666666666666666,\"#ed7953\"],[0.7777777777777778,\"#fb9f3a\"],[0.8888888888888888,\"#fdca26\"],[1.0,\"#f0f921\"]]}],\"choropleth\":[{\"type\":\"choropleth\",\"colorbar\":{\"outlinewidth\":0,\"ticks\":\"\"}}],\"histogram2d\":[{\"type\":\"histogram2d\",\"colorbar\":{\"outlinewidth\":0,\"ticks\":\"\"},\"colorscale\":[[0.0,\"#0d0887\"],[0.1111111111111111,\"#46039f\"],[0.2222222222222222,\"#7201a8\"],[0.3333333333333333,\"#9c179e\"],[0.4444444444444444,\"#bd3786\"],[0.5555555555555556,\"#d8576b\"],[0.6666666666666666,\"#ed7953\"],[0.7777777777777778,\"#fb9f3a\"],[0.8888888888888888,\"#fdca26\"],[1.0,\"#f0f921\"]]}],\"heatmap\":[{\"type\":\"heatmap\",\"colorbar\":{\"outlinewidth\":0,\"ticks\":\"\"},\"colorscale\":[[0.0,\"#0d0887\"],[0.1111111111111111,\"#46039f\"],[0.2222222222222222,\"#7201a8\"],[0.3333333333333333,\"#9c179e\"],[0.4444444444444444,\"#bd3786\"],[0.5555555555555556,\"#d8576b\"],[0.6666666666666666,\"#ed7953\"],[0.7777777777777778,\"#fb9f3a\"],[0.8888888888888888,\"#fdca26\"],[1.0,\"#f0f921\"]]}],\"heatmapgl\":[{\"type\":\"heatmapgl\",\"colorbar\":{\"outlinewidth\":0,\"ticks\":\"\"},\"colorscale\":[[0.0,\"#0d0887\"],[0.1111111111111111,\"#46039f\"],[0.2222222222222222,\"#7201a8\"],[0.3333333333333333,\"#9c179e\"],[0.4444444444444444,\"#bd3786\"],[0.5555555555555556,\"#d8576b\"],[0.6666666666666666,\"#ed7953\"],[0.7777777777777778,\"#fb9f3a\"],[0.8888888888888888,\"#fdca26\"],[1.0,\"#f0f921\"]]}],\"contourcarpet\":[{\"type\":\"contourcarpet\",\"colorbar\":{\"outlinewidth\":0,\"ticks\":\"\"}}],\"contour\":[{\"type\":\"contour\",\"colorbar\":{\"outlinewidth\":0,\"ticks\":\"\"},\"colorscale\":[[0.0,\"#0d0887\"],[0.1111111111111111,\"#46039f\"],[0.2222222222222222,\"#7201a8\"],[0.3333333333333333,\"#9c179e\"],[0.4444444444444444,\"#bd3786\"],[0.5555555555555556,\"#d8576b\"],[0.6666666666666666,\"#ed7953\"],[0.7777777777777778,\"#fb9f3a\"],[0.8888888888888888,\"#fdca26\"],[1.0,\"#f0f921\"]]}],\"surface\":[{\"type\":\"surface\",\"colorbar\":{\"outlinewidth\":0,\"ticks\":\"\"},\"colorscale\":[[0.0,\"#0d0887\"],[0.1111111111111111,\"#46039f\"],[0.2222222222222222,\"#7201a8\"],[0.3333333333333333,\"#9c179e\"],[0.4444444444444444,\"#bd3786\"],[0.5555555555555556,\"#d8576b\"],[0.6666666666666666,\"#ed7953\"],[0.7777777777777778,\"#fb9f3a\"],[0.8888888888888888,\"#fdca26\"],[1.0,\"#f0f921\"]]}],\"mesh3d\":[{\"type\":\"mesh3d\",\"colorbar\":{\"outlinewidth\":0,\"ticks\":\"\"}}],\"scatter\":[{\"fillpattern\":{\"fillmode\":\"overlay\",\"size\":10,\"solidity\":0.2},\"type\":\"scatter\"}],\"parcoords\":[{\"type\":\"parcoords\",\"line\":{\"colorbar\":{\"outlinewidth\":0,\"ticks\":\"\"}}}],\"scatterpolargl\":[{\"type\":\"scatterpolargl\",\"marker\":{\"colorbar\":{\"outlinewidth\":0,\"ticks\":\"\"}}}],\"bar\":[{\"error_x\":{\"color\":\"#2a3f5f\"},\"error_y\":{\"color\":\"#2a3f5f\"},\"marker\":{\"line\":{\"color\":\"#E5ECF6\",\"width\":0.5},\"pattern\":{\"fillmode\":\"overlay\",\"size\":10,\"solidity\":0.2}},\"type\":\"bar\"}],\"scattergeo\":[{\"type\":\"scattergeo\",\"marker\":{\"colorbar\":{\"outlinewidth\":0,\"ticks\":\"\"}}}],\"scatterpolar\":[{\"type\":\"scatterpolar\",\"marker\":{\"colorbar\":{\"outlinewidth\":0,\"ticks\":\"\"}}}],\"histogram\":[{\"marker\":{\"pattern\":{\"fillmode\":\"overlay\",\"size\":10,\"solidity\":0.2}},\"type\":\"histogram\"}],\"scattergl\":[{\"type\":\"scattergl\",\"marker\":{\"colorbar\":{\"outlinewidth\":0,\"ticks\":\"\"}}}],\"scatter3d\":[{\"type\":\"scatter3d\",\"line\":{\"colorbar\":{\"outlinewidth\":0,\"ticks\":\"\"}},\"marker\":{\"colorbar\":{\"outlinewidth\":0,\"ticks\":\"\"}}}],\"scattermapbox\":[{\"type\":\"scattermapbox\",\"marker\":{\"colorbar\":{\"outlinewidth\":0,\"ticks\":\"\"}}}],\"scatterternary\":[{\"type\":\"scatterternary\",\"marker\":{\"colorbar\":{\"outlinewidth\":0,\"ticks\":\"\"}}}],\"scattercarpet\":[{\"type\":\"scattercarpet\",\"marker\":{\"colorbar\":{\"outlinewidth\":0,\"ticks\":\"\"}}}],\"carpet\":[{\"aaxis\":{\"endlinecolor\":\"#2a3f5f\",\"gridcolor\":\"white\",\"linecolor\":\"white\",\"minorgridcolor\":\"white\",\"startlinecolor\":\"#2a3f5f\"},\"baxis\":{\"endlinecolor\":\"#2a3f5f\",\"gridcolor\":\"white\",\"linecolor\":\"white\",\"minorgridcolor\":\"white\",\"startlinecolor\":\"#2a3f5f\"},\"type\":\"carpet\"}],\"table\":[{\"cells\":{\"fill\":{\"color\":\"#EBF0F8\"},\"line\":{\"color\":\"white\"}},\"header\":{\"fill\":{\"color\":\"#C8D4E3\"},\"line\":{\"color\":\"white\"}},\"type\":\"table\"}],\"barpolar\":[{\"marker\":{\"line\":{\"color\":\"#E5ECF6\",\"width\":0.5},\"pattern\":{\"fillmode\":\"overlay\",\"size\":10,\"solidity\":0.2}},\"type\":\"barpolar\"}],\"pie\":[{\"automargin\":true,\"type\":\"pie\"}]},\"layout\":{\"autotypenumbers\":\"strict\",\"colorway\":[\"#636efa\",\"#EF553B\",\"#00cc96\",\"#ab63fa\",\"#FFA15A\",\"#19d3f3\",\"#FF6692\",\"#B6E880\",\"#FF97FF\",\"#FECB52\"],\"font\":{\"color\":\"#2a3f5f\"},\"hovermode\":\"closest\",\"hoverlabel\":{\"align\":\"left\"},\"paper_bgcolor\":\"white\",\"plot_bgcolor\":\"#E5ECF6\",\"polar\":{\"bgcolor\":\"#E5ECF6\",\"angularaxis\":{\"gridcolor\":\"white\",\"linecolor\":\"white\",\"ticks\":\"\"},\"radialaxis\":{\"gridcolor\":\"white\",\"linecolor\":\"white\",\"ticks\":\"\"}},\"ternary\":{\"bgcolor\":\"#E5ECF6\",\"aaxis\":{\"gridcolor\":\"white\",\"linecolor\":\"white\",\"ticks\":\"\"},\"baxis\":{\"gridcolor\":\"white\",\"linecolor\":\"white\",\"ticks\":\"\"},\"caxis\":{\"gridcolor\":\"white\",\"linecolor\":\"white\",\"ticks\":\"\"}},\"coloraxis\":{\"colorbar\":{\"outlinewidth\":0,\"ticks\":\"\"}},\"colorscale\":{\"sequential\":[[0.0,\"#0d0887\"],[0.1111111111111111,\"#46039f\"],[0.2222222222222222,\"#7201a8\"],[0.3333333333333333,\"#9c179e\"],[0.4444444444444444,\"#bd3786\"],[0.5555555555555556,\"#d8576b\"],[0.6666666666666666,\"#ed7953\"],[0.7777777777777778,\"#fb9f3a\"],[0.8888888888888888,\"#fdca26\"],[1.0,\"#f0f921\"]],\"sequentialminus\":[[0.0,\"#0d0887\"],[0.1111111111111111,\"#46039f\"],[0.2222222222222222,\"#7201a8\"],[0.3333333333333333,\"#9c179e\"],[0.4444444444444444,\"#bd3786\"],[0.5555555555555556,\"#d8576b\"],[0.6666666666666666,\"#ed7953\"],[0.7777777777777778,\"#fb9f3a\"],[0.8888888888888888,\"#fdca26\"],[1.0,\"#f0f921\"]],\"diverging\":[[0,\"#8e0152\"],[0.1,\"#c51b7d\"],[0.2,\"#de77ae\"],[0.3,\"#f1b6da\"],[0.4,\"#fde0ef\"],[0.5,\"#f7f7f7\"],[0.6,\"#e6f5d0\"],[0.7,\"#b8e186\"],[0.8,\"#7fbc41\"],[0.9,\"#4d9221\"],[1,\"#276419\"]]},\"xaxis\":{\"gridcolor\":\"white\",\"linecolor\":\"white\",\"ticks\":\"\",\"title\":{\"standoff\":15},\"zerolinecolor\":\"white\",\"automargin\":true,\"zerolinewidth\":2},\"yaxis\":{\"gridcolor\":\"white\",\"linecolor\":\"white\",\"ticks\":\"\",\"title\":{\"standoff\":15},\"zerolinecolor\":\"white\",\"automargin\":true,\"zerolinewidth\":2},\"scene\":{\"xaxis\":{\"backgroundcolor\":\"#E5ECF6\",\"gridcolor\":\"white\",\"linecolor\":\"white\",\"showbackground\":true,\"ticks\":\"\",\"zerolinecolor\":\"white\",\"gridwidth\":2},\"yaxis\":{\"backgroundcolor\":\"#E5ECF6\",\"gridcolor\":\"white\",\"linecolor\":\"white\",\"showbackground\":true,\"ticks\":\"\",\"zerolinecolor\":\"white\",\"gridwidth\":2},\"zaxis\":{\"backgroundcolor\":\"#E5ECF6\",\"gridcolor\":\"white\",\"linecolor\":\"white\",\"showbackground\":true,\"ticks\":\"\",\"zerolinecolor\":\"white\",\"gridwidth\":2}},\"shapedefaults\":{\"line\":{\"color\":\"#2a3f5f\"}},\"annotationdefaults\":{\"arrowcolor\":\"#2a3f5f\",\"arrowhead\":0,\"arrowwidth\":1},\"geo\":{\"bgcolor\":\"white\",\"landcolor\":\"#E5ECF6\",\"subunitcolor\":\"white\",\"showland\":true,\"showlakes\":true,\"lakecolor\":\"white\"},\"title\":{\"x\":0.05},\"mapbox\":{\"style\":\"light\"}}},\"mapbox\":{\"domain\":{\"x\":[0.0,1.0],\"y\":[0.0,1.0]},\"center\":{\"lat\":48.892956,\"lon\":2.2881683},\"zoom\":5,\"style\":\"open-street-map\"},\"coloraxis\":{\"colorbar\":{\"title\":{\"text\":\"count\"}},\"colorscale\":[[0.0,\"#0d0887\"],[0.1111111111111111,\"#46039f\"],[0.2222222222222222,\"#7201a8\"],[0.3333333333333333,\"#9c179e\"],[0.4444444444444444,\"#bd3786\"],[0.5555555555555556,\"#d8576b\"],[0.6666666666666666,\"#ed7953\"],[0.7777777777777778,\"#fb9f3a\"],[0.8888888888888888,\"#fdca26\"],[1.0,\"#f0f921\"]]},\"legend\":{\"tracegroupgap\":0},\"margin\":{\"t\":60},\"height\":1000,\"width\":1200},                        {\"responsive\": true}                    ).then(function(){\n",
       "                            \n",
       "var gd = document.getElementById('6c867775-dcd5-496a-ad5b-c587e39a7248');\n",
       "var x = new MutationObserver(function (mutations, observer) {{\n",
       "        var display = window.getComputedStyle(gd).display;\n",
       "        if (!display || display === 'none') {{\n",
       "            console.log([gd, 'removed!']);\n",
       "            Plotly.purge(gd);\n",
       "            observer.disconnect();\n",
       "        }}\n",
       "}});\n",
       "\n",
       "// Listen for the removal of the full notebook cells\n",
       "var notebookContainer = gd.closest('#notebook-container');\n",
       "if (notebookContainer) {{\n",
       "    x.observe(notebookContainer, {childList: true});\n",
       "}}\n",
       "\n",
       "// Listen for the clearing of the current output cell\n",
       "var outputEl = gd.closest('.output');\n",
       "if (outputEl) {{\n",
       "    x.observe(outputEl, {childList: true});\n",
       "}}\n",
       "\n",
       "                        })                };                });            </script>        </div>"
      ]
     },
     "metadata": {},
     "output_type": "display_data"
    }
   ],
   "source": [
    "fig = px.density_mapbox(df_villes, lat='lat', lon='lon', z='count', radius=13,\n",
    "                        center=dict(lat=df_villes.lat[0], lon=df_villes.lon[0]), zoom=5,\n",
    "                        mapbox_style=\"open-street-map\",width=1200,height=1000)\n",
    "fig.show()"
   ]
  },
  {
   "cell_type": "markdown",
   "id": "36b70f92-fe25-47a1-912b-daf8b4790123",
   "metadata": {
    "tags": []
   },
   "source": [
    "# APEC"
   ]
  },
  {
   "cell_type": "code",
   "execution_count": 2,
   "id": "bad7cbe2-e266-499a-bda6-542d5e1536ef",
   "metadata": {},
   "outputs": [],
   "source": [
    "url = \"https://www.apec.fr/candidat/recherche-emploi.html/emploi?motsCles=data%20analyst\""
   ]
  },
  {
   "cell_type": "markdown",
   "id": "a6bf2181-7ea0-49be-a66c-336dbce86611",
   "metadata": {},
   "source": [
    "## Selenium"
   ]
  },
  {
   "cell_type": "markdown",
   "id": "86bd0717-ecf0-4a11-859b-74d787360752",
   "metadata": {},
   "source": [
    "### Analyse de la page"
   ]
  },
  {
   "cell_type": "code",
   "execution_count": 3,
   "id": "875ba49c-b4d7-4bdd-a17b-81b2706d59fa",
   "metadata": {},
   "outputs": [
    {
     "name": "stderr",
     "output_type": "stream",
     "text": [
      "/var/folders/6d/_c9dj9cs3dv7f9hff54z3xl80000gn/T/ipykernel_1100/3494243697.py:1: DeprecationWarning: executable_path has been deprecated, please pass in a Service object\n",
      "  driver = webdriver.Chrome('../Desktop/chromedriver')\n"
     ]
    }
   ],
   "source": [
    "driver = webdriver.Chrome('../Desktop/chromedriver')\n",
    "driver.get(url)\n",
    "data = driver.find_elements(By.CLASS_NAME,'card-offer__text')"
   ]
  },
  {
   "cell_type": "code",
   "execution_count": 7,
   "id": "eda0b99a-1088-49d6-b068-1a803884609f",
   "metadata": {},
   "outputs": [
    {
     "data": {
      "text/plain": [
       "'DATA ANALYST F/H\\nMETEOJOB\\nA négocier\\nNotre client spécialisé dans les systèmes de fixation dans le domaine de la construction, recherche un(e) Data Analyst en CDI. Vos missions: - Recueil et extraction de données ; - Nettoyage, retraitement, exploitation voire stockage des données ; - Création de dashboards,...\\nCDI\\nValence - 26\\n28/09/2022'"
      ]
     },
     "execution_count": 7,
     "metadata": {},
     "output_type": "execute_result"
    }
   ],
   "source": [
    "data[0].text"
   ]
  },
  {
   "cell_type": "code",
   "execution_count": 4,
   "id": "3a25d17c-3cad-4bfa-a94c-18622f60685b",
   "metadata": {},
   "outputs": [
    {
     "data": {
      "text/plain": [
       "896"
      ]
     },
     "execution_count": 4,
     "metadata": {},
     "output_type": "execute_result"
    }
   ],
   "source": [
    "int(re.findall('([\\d]*)',driver.find_element(By.CLASS_NAME,'number-candidat').text)[0])"
   ]
  },
  {
   "cell_type": "code",
   "execution_count": 13,
   "id": "17834a89-8830-43d0-b699-75a88562fc5f",
   "metadata": {},
   "outputs": [
    {
     "data": {
      "text/plain": [
       "['DATA ANALYST F/HMeteojobA négocier Notre client spécialisé dans les systèmes de fixation dans le domaine de la construction, recherche un(e) Data Analyst en CDI.   Vos missions:   - Recueil et extraction de données ; - Nettoyage, retraitement, exploitation voire stockage des données ; - Création de dashboards,...CDI Valence - 26 28/09/2022 ']"
      ]
     },
     "execution_count": 13,
     "metadata": {},
     "output_type": "execute_result"
    }
   ],
   "source": [
    "essaie = text[0].text\n",
    "essaie.split(\"\\n\")"
   ]
  },
  {
   "cell_type": "code",
   "execution_count": 268,
   "id": "2c102d21-95ea-4a39-8049-a5e90d8d5ce1",
   "metadata": {},
   "outputs": [],
   "source": [
    "liste = driver.find_elements(By.CLASS_NAME,'important-list')"
   ]
  },
  {
   "cell_type": "code",
   "execution_count": 269,
   "id": "749c59eb-0787-47be-b40f-77832ff0298c",
   "metadata": {},
   "outputs": [
    {
     "data": {
      "text/plain": [
       "'CDI\\nValence - 26\\n28/09/2022'"
      ]
     },
     "execution_count": 269,
     "metadata": {},
     "output_type": "execute_result"
    }
   ],
   "source": [
    "liste[0].text"
   ]
  },
  {
   "cell_type": "code",
   "execution_count": 52,
   "id": "e2519aeb-6420-406b-bf57-979df065b3e3",
   "metadata": {},
   "outputs": [
    {
     "data": {
      "text/plain": [
       "25"
      ]
     },
     "execution_count": 52,
     "metadata": {},
     "output_type": "execute_result"
    }
   ],
   "source": [
    "a = driver.find_elements(By.XPATH,\"//div/div/div/a[@href]\")\n",
    "a[0].get_attribute(\"href\")\n",
    "len(a)"
   ]
  },
  {
   "cell_type": "code",
   "execution_count": 261,
   "id": "a4d363fc-2db3-4f32-8401-34738f5df24e",
   "metadata": {},
   "outputs": [
    {
     "name": "stderr",
     "output_type": "stream",
     "text": [
      "/var/folders/6d/_c9dj9cs3dv7f9hff54z3xl80000gn/T/ipykernel_1100/2837679978.py:3: DeprecationWarning: executable_path has been deprecated, please pass in a Service object\n",
      "  driver = webdriver.Chrome('../Desktop/chromedriver')\n"
     ]
    }
   ],
   "source": [
    "apec_dicto = {}\n",
    "url = \"https://www.apec.fr/candidat/recherche-emploi.html/emploi?motsCles=data%20analyst\"\n",
    "driver = webdriver.Chrome('../Desktop/chromedriver')\n",
    "driver.get(url)\n",
    "data = driver.find_elements(By.CLASS_NAME,'card-offer__text')\n",
    "\n",
    "a = driver.find_elements(By.XPATH,\"//div/div/div/a[@href]\")\n",
    "for i in range(len(data)):\n",
    "    apec_dicto.update({i:[data[i].text,a[i].get_attribute(\"href\")]})"
   ]
  },
  {
   "cell_type": "code",
   "execution_count": 263,
   "id": "7bb2243f-1acb-426c-8c5f-6b6a5ef6f253",
   "metadata": {},
   "outputs": [
    {
     "data": {
      "text/html": [
       "<div>\n",
       "<style scoped>\n",
       "    .dataframe tbody tr th:only-of-type {\n",
       "        vertical-align: middle;\n",
       "    }\n",
       "\n",
       "    .dataframe tbody tr th {\n",
       "        vertical-align: top;\n",
       "    }\n",
       "\n",
       "    .dataframe thead th {\n",
       "        text-align: right;\n",
       "    }\n",
       "</style>\n",
       "<table border=\"1\" class=\"dataframe\">\n",
       "  <thead>\n",
       "    <tr style=\"text-align: right;\">\n",
       "      <th></th>\n",
       "      <th>bloc_text</th>\n",
       "      <th>link</th>\n",
       "    </tr>\n",
       "  </thead>\n",
       "  <tbody>\n",
       "    <tr>\n",
       "      <th>0</th>\n",
       "      <td>DATA ANALYST F/H\\nMETEOJOB\\nA négocier\\nNotre ...</td>\n",
       "      <td>https://www.apec.fr/candidat/recherche-emploi....</td>\n",
       "    </tr>\n",
       "    <tr>\n",
       "      <th>1</th>\n",
       "      <td>Data Analyst F/H\\nSPRING\\nA partir de 30 k€ br...</td>\n",
       "      <td>https://www.apec.fr/candidat/recherche-emploi....</td>\n",
       "    </tr>\n",
       "    <tr>\n",
       "      <th>2</th>\n",
       "      <td>DATA ANALYST F/H\\nKELLY SERVICES\\nA négocier\\n...</td>\n",
       "      <td>https://www.apec.fr/candidat/recherche-emploi....</td>\n",
       "    </tr>\n",
       "    <tr>\n",
       "      <th>3</th>\n",
       "      <td>Data Analyst F/H\\nAID\\nA négocier\\nAI&amp;Data rec...</td>\n",
       "      <td>https://www.apec.fr/candidat/recherche-emploi....</td>\n",
       "    </tr>\n",
       "    <tr>\n",
       "      <th>4</th>\n",
       "      <td>Data Analyst F/H\\nGROUPAGORA\\n38 - 45 k€ brut ...</td>\n",
       "      <td>https://www.apec.fr/candidat/recherche-emploi....</td>\n",
       "    </tr>\n",
       "  </tbody>\n",
       "</table>\n",
       "</div>"
      ],
      "text/plain": [
       "                                           bloc_text  \\\n",
       "0  DATA ANALYST F/H\\nMETEOJOB\\nA négocier\\nNotre ...   \n",
       "1  Data Analyst F/H\\nSPRING\\nA partir de 30 k€ br...   \n",
       "2  DATA ANALYST F/H\\nKELLY SERVICES\\nA négocier\\n...   \n",
       "3  Data Analyst F/H\\nAID\\nA négocier\\nAI&Data rec...   \n",
       "4  Data Analyst F/H\\nGROUPAGORA\\n38 - 45 k€ brut ...   \n",
       "\n",
       "                                                link  \n",
       "0  https://www.apec.fr/candidat/recherche-emploi....  \n",
       "1  https://www.apec.fr/candidat/recherche-emploi....  \n",
       "2  https://www.apec.fr/candidat/recherche-emploi....  \n",
       "3  https://www.apec.fr/candidat/recherche-emploi....  \n",
       "4  https://www.apec.fr/candidat/recherche-emploi....  "
      ]
     },
     "execution_count": 263,
     "metadata": {},
     "output_type": "execute_result"
    }
   ],
   "source": [
    "df_apec_selenium = pd.DataFrame.from_dict(apec_dicto,orient=\"index\")\n",
    "df_apec_selenium=df_apec_selenium.rename(columns={0:'bloc_text',1:'link'})\n",
    "df_apec_selenium.head()"
   ]
  },
  {
   "cell_type": "code",
   "execution_count": 264,
   "id": "802b4e1b-8af1-4237-b546-b44347fc6332",
   "metadata": {},
   "outputs": [],
   "source": [
    "df_apec_selenium= (df_apec_selenium.merge(df_apec_selenium['bloc_text'].str.split(\"\\n\",expand=True),left_index=True,right_index=True).\n",
    "                   drop(columns=['bloc_text',3])\n",
    "                   .rename(columns={0:'job',1:'companies',2:'salaires',4:'type_contrat',5:'villes',6:'date_publication'})\n",
    "                  )"
   ]
  },
  {
   "cell_type": "code",
   "execution_count": 267,
   "id": "a717d30b-a9f0-45d4-9cf8-6850beed03ac",
   "metadata": {},
   "outputs": [
    {
     "data": {
      "text/html": [
       "<div>\n",
       "<style scoped>\n",
       "    .dataframe tbody tr th:only-of-type {\n",
       "        vertical-align: middle;\n",
       "    }\n",
       "\n",
       "    .dataframe tbody tr th {\n",
       "        vertical-align: top;\n",
       "    }\n",
       "\n",
       "    .dataframe thead th {\n",
       "        text-align: right;\n",
       "    }\n",
       "</style>\n",
       "<table border=\"1\" class=\"dataframe\">\n",
       "  <thead>\n",
       "    <tr style=\"text-align: right;\">\n",
       "      <th></th>\n",
       "      <th>link</th>\n",
       "      <th>job</th>\n",
       "      <th>companies</th>\n",
       "      <th>salaires</th>\n",
       "      <th>type_contrat</th>\n",
       "      <th>villes</th>\n",
       "      <th>date_publication</th>\n",
       "    </tr>\n",
       "  </thead>\n",
       "  <tbody>\n",
       "    <tr>\n",
       "      <th>0</th>\n",
       "      <td>https://www.apec.fr/candidat/recherche-emploi....</td>\n",
       "      <td>DATA ANALYST F/H</td>\n",
       "      <td>METEOJOB</td>\n",
       "      <td>A négocier</td>\n",
       "      <td>CDI</td>\n",
       "      <td>Valence - 26</td>\n",
       "      <td>28/09/2022</td>\n",
       "    </tr>\n",
       "    <tr>\n",
       "      <th>1</th>\n",
       "      <td>https://www.apec.fr/candidat/recherche-emploi....</td>\n",
       "      <td>Data Analyst F/H</td>\n",
       "      <td>SPRING</td>\n",
       "      <td>A partir de 30 k€ brut annuel</td>\n",
       "      <td>CDI</td>\n",
       "      <td>Tours - 37</td>\n",
       "      <td>10/10/2022</td>\n",
       "    </tr>\n",
       "    <tr>\n",
       "      <th>2</th>\n",
       "      <td>https://www.apec.fr/candidat/recherche-emploi....</td>\n",
       "      <td>DATA ANALYST F/H</td>\n",
       "      <td>KELLY SERVICES</td>\n",
       "      <td>A négocier</td>\n",
       "      <td>Mission d'intérim</td>\n",
       "      <td>Marcy-l'Étoile - 69</td>\n",
       "      <td>03/10/2022</td>\n",
       "    </tr>\n",
       "    <tr>\n",
       "      <th>3</th>\n",
       "      <td>https://www.apec.fr/candidat/recherche-emploi....</td>\n",
       "      <td>Data Analyst F/H</td>\n",
       "      <td>AID</td>\n",
       "      <td>A négocier</td>\n",
       "      <td>CDI</td>\n",
       "      <td>Paris 14 - 75</td>\n",
       "      <td>15/09/2022</td>\n",
       "    </tr>\n",
       "    <tr>\n",
       "      <th>4</th>\n",
       "      <td>https://www.apec.fr/candidat/recherche-emploi....</td>\n",
       "      <td>Data Analyst F/H</td>\n",
       "      <td>GROUPAGORA</td>\n",
       "      <td>38 - 45 k€ brut annuel</td>\n",
       "      <td>CDI</td>\n",
       "      <td>Meyzieu - 69</td>\n",
       "      <td>23/09/2022</td>\n",
       "    </tr>\n",
       "  </tbody>\n",
       "</table>\n",
       "</div>"
      ],
      "text/plain": [
       "                                                link               job  \\\n",
       "0  https://www.apec.fr/candidat/recherche-emploi....  DATA ANALYST F/H   \n",
       "1  https://www.apec.fr/candidat/recherche-emploi....  Data Analyst F/H   \n",
       "2  https://www.apec.fr/candidat/recherche-emploi....  DATA ANALYST F/H   \n",
       "3  https://www.apec.fr/candidat/recherche-emploi....  Data Analyst F/H   \n",
       "4  https://www.apec.fr/candidat/recherche-emploi....  Data Analyst F/H   \n",
       "\n",
       "        companies                       salaires       type_contrat  \\\n",
       "0        METEOJOB                     A négocier                CDI   \n",
       "1          SPRING  A partir de 30 k€ brut annuel                CDI   \n",
       "2  KELLY SERVICES                     A négocier  Mission d'intérim   \n",
       "3             AID                     A négocier                CDI   \n",
       "4      GROUPAGORA         38 - 45 k€ brut annuel                CDI   \n",
       "\n",
       "                villes date_publication  \n",
       "0         Valence - 26       28/09/2022  \n",
       "1           Tours - 37       10/10/2022  \n",
       "2  Marcy-l'Étoile - 69       03/10/2022  \n",
       "3        Paris 14 - 75       15/09/2022  \n",
       "4         Meyzieu - 69       23/09/2022  "
      ]
     },
     "execution_count": 267,
     "metadata": {},
     "output_type": "execute_result"
    }
   ],
   "source": [
    "df_apec_selenium.head()"
   ]
  },
  {
   "cell_type": "markdown",
   "id": "f68bc7d5-50ce-42a2-ac63-c7349e7139ea",
   "metadata": {
    "jp-MarkdownHeadingCollapsed": true,
    "tags": []
   },
   "source": [
    "### Scrapping MultiPages"
   ]
  },
  {
   "cell_type": "code",
   "execution_count": null,
   "id": "b2b0cb18-63ef-4a1a-b28b-035ebc83a4b3",
   "metadata": {},
   "outputs": [],
   "source": [
    "elem = driver.find_element(By.XPATH,\"//*\") \n",
    "source_code = elem.get_attribute(\"outerHTML\")\n",
    "soup = BeautifulSoup(source_code,'html.parser')\n",
    "data = driver.find_elements(By.CLASS_NAME,'card-offer__text')"
   ]
  },
  {
   "cell_type": "code",
   "execution_count": 137,
   "id": "6af9bb76-b455-4553-a2cc-c6bab8ff2184",
   "metadata": {},
   "outputs": [
    {
     "data": {
      "text/plain": [
       "871"
      ]
     },
     "execution_count": 137,
     "metadata": {},
     "output_type": "execute_result"
    }
   ],
   "source": [
    "number_offre = int(driver.find_element(By.CLASS_NAME,'number-candidat').find_element(By.TAG_NAME,'span').text)\n",
    "number_offre"
   ]
  },
  {
   "cell_type": "code",
   "execution_count": 95,
   "id": "7b353c26-7f0c-45c1-9783-41d9202f18a5",
   "metadata": {},
   "outputs": [
    {
     "data": {
      "text/plain": [
       "20"
      ]
     },
     "execution_count": 95,
     "metadata": {},
     "output_type": "execute_result"
    }
   ],
   "source": [
    "len(data)"
   ]
  },
  {
   "cell_type": "code",
   "execution_count": 103,
   "id": "8ea10194-9b17-4fc0-a66a-06a0052c7cb6",
   "metadata": {},
   "outputs": [
    {
     "name": "stdout",
     "output_type": "stream",
     "text": [
      "43\n",
      "860\n"
     ]
    }
   ],
   "source": [
    "print(number_offre//len(data))\n",
    "print((number_offre//len(data))*len(data))"
   ]
  },
  {
   "cell_type": "code",
   "execution_count": 380,
   "id": "3a84fc9c-f900-4e24-aca6-8ad8b02ef328",
   "metadata": {},
   "outputs": [],
   "source": [
    "metier = \"Data analyst\"\n",
    "def collecte_all_page(metier):\n",
    "    metier = metier.lower().replace(\" \",\"%20\")\n",
    "    url = f\"https://www.apec.fr/candidat/recherche-emploi.html/emploi?motsCles={metier}\"\n",
    "    #ouverture du webdriver \n",
    "    driver = webdriver.Chrome('../Desktop/chromedriver')\n",
    "    driver.get(url)\n",
    "    #gestion du bouton des cookies \n",
    "    button=driver.find_element(By.ID,\"onetrust-accept-btn-handler\")\n",
    "    button.click()\n",
    "    time.sleep(0.5)\n",
    "    # détermination du nombre de boucle \n",
    "    number_offre = int(driver.find_element(By.CLASS_NAME,'number-candidat').find_element(By.TAG_NAME,'span').text)\n",
    "    number_offre_page = len(driver.find_elements(By.CLASS_NAME,'card-offer__text'))\n",
    "    apec_dicto_multi = {}\n",
    "    loop = number_offre // number_offre_page\n",
    "    \n",
    "    index_dict = 0 # rappel la clé est unique dans un dictionnaire\n",
    "    for page in range(loop+1):\n",
    "        data = driver.find_elements(By.CLASS_NAME,'card-offer__text')\n",
    "        a = driver.find_elements(By.XPATH,\"//div/div/div/a[@href]\")\n",
    "        for i in range(len(data)):\n",
    "            apec_dicto_multi.update({index_dict:[data[i].text,a[i].get_attribute(\"href\")]})\n",
    "            index_dict+=1\n",
    "        try:\n",
    "            element = driver.find_element(By.LINK_TEXT, str(page+1)) #click lien de page \n",
    "            element.click()\n",
    "\n",
    "        except:\n",
    "            pass\n",
    "    return apec_dicto_multi"
   ]
  },
  {
   "cell_type": "code",
   "execution_count": 381,
   "id": "e7e54e1e-f9cf-4095-b78d-93e6e3a6d146",
   "metadata": {},
   "outputs": [
    {
     "name": "stderr",
     "output_type": "stream",
     "text": [
      "/var/folders/6d/_c9dj9cs3dv7f9hff54z3xl80000gn/T/ipykernel_1100/1760655501.py:6: DeprecationWarning: executable_path has been deprecated, please pass in a Service object\n",
      "  driver = webdriver.Chrome('../Desktop/chromedriver')\n"
     ]
    }
   ],
   "source": [
    "\n",
    "df_apec_selenium_mulit_page = pd.DataFrame.from_dict(collecte_all_page(\"data_analyst\"),orient=\"index\")\n",
    "df_apec_selenium_mulit_page=df_apec_selenium_mulit_page.rename(columns={0:'bloc_text',1:'link'})\n",
    "df_apec_selenium_mulit_page= (df_apec_selenium_mulit_page.merge(df_apec_selenium_mulit_page['bloc_text'].str.split(\"\\n\",expand=True),left_index=True,right_index=True).\n",
    "                   drop(columns=['bloc_text',3])\n",
    "                   .rename(columns={0:'job',1:'companies',2:'salaires',4:'type_contrat',5:'villes',6:'date_publication'})\n",
    "                  )\n"
   ]
  },
  {
   "cell_type": "code",
   "execution_count": 382,
   "id": "a03a58fd-8ad8-45c7-96ea-2e3b26de19cd",
   "metadata": {},
   "outputs": [
    {
     "data": {
      "text/html": [
       "<div>\n",
       "<style scoped>\n",
       "    .dataframe tbody tr th:only-of-type {\n",
       "        vertical-align: middle;\n",
       "    }\n",
       "\n",
       "    .dataframe tbody tr th {\n",
       "        vertical-align: top;\n",
       "    }\n",
       "\n",
       "    .dataframe thead th {\n",
       "        text-align: right;\n",
       "    }\n",
       "</style>\n",
       "<table border=\"1\" class=\"dataframe\">\n",
       "  <thead>\n",
       "    <tr style=\"text-align: right;\">\n",
       "      <th></th>\n",
       "      <th>link</th>\n",
       "      <th>job</th>\n",
       "      <th>companies</th>\n",
       "      <th>salaires</th>\n",
       "      <th>type_contrat</th>\n",
       "      <th>villes</th>\n",
       "      <th>date_publication</th>\n",
       "    </tr>\n",
       "  </thead>\n",
       "  <tbody>\n",
       "    <tr>\n",
       "      <th>0</th>\n",
       "      <td>https://www.apec.fr/candidat/recherche-emploi....</td>\n",
       "      <td>DATA ANALYST F/H</td>\n",
       "      <td>METEOJOB</td>\n",
       "      <td>A négocier</td>\n",
       "      <td>CDI</td>\n",
       "      <td>Valence - 26</td>\n",
       "      <td>28/09/2022</td>\n",
       "    </tr>\n",
       "    <tr>\n",
       "      <th>1</th>\n",
       "      <td>https://www.apec.fr/candidat/recherche-emploi....</td>\n",
       "      <td>Data Analyst F/H</td>\n",
       "      <td>SPRING</td>\n",
       "      <td>A partir de 30 k€ brut annuel</td>\n",
       "      <td>CDI</td>\n",
       "      <td>Tours - 37</td>\n",
       "      <td>10/10/2022</td>\n",
       "    </tr>\n",
       "    <tr>\n",
       "      <th>2</th>\n",
       "      <td>https://www.apec.fr/candidat/recherche-emploi....</td>\n",
       "      <td>DATA ANALYST F/H</td>\n",
       "      <td>KELLY SERVICES</td>\n",
       "      <td>A négocier</td>\n",
       "      <td>Mission d'intérim</td>\n",
       "      <td>Marcy-l'Étoile - 69</td>\n",
       "      <td>03/10/2022</td>\n",
       "    </tr>\n",
       "    <tr>\n",
       "      <th>3</th>\n",
       "      <td>https://www.apec.fr/candidat/recherche-emploi....</td>\n",
       "      <td>Data Analyst F/H</td>\n",
       "      <td>AID</td>\n",
       "      <td>A négocier</td>\n",
       "      <td>CDI</td>\n",
       "      <td>Paris 14 - 75</td>\n",
       "      <td>15/09/2022</td>\n",
       "    </tr>\n",
       "    <tr>\n",
       "      <th>4</th>\n",
       "      <td>https://www.apec.fr/candidat/recherche-emploi....</td>\n",
       "      <td>Data Analyst F/H</td>\n",
       "      <td>GROUPAGORA</td>\n",
       "      <td>38 - 45 k€ brut annuel</td>\n",
       "      <td>CDI</td>\n",
       "      <td>Meyzieu - 69</td>\n",
       "      <td>23/09/2022</td>\n",
       "    </tr>\n",
       "  </tbody>\n",
       "</table>\n",
       "</div>"
      ],
      "text/plain": [
       "                                                link               job  \\\n",
       "0  https://www.apec.fr/candidat/recherche-emploi....  DATA ANALYST F/H   \n",
       "1  https://www.apec.fr/candidat/recherche-emploi....  Data Analyst F/H   \n",
       "2  https://www.apec.fr/candidat/recherche-emploi....  DATA ANALYST F/H   \n",
       "3  https://www.apec.fr/candidat/recherche-emploi....  Data Analyst F/H   \n",
       "4  https://www.apec.fr/candidat/recherche-emploi....  Data Analyst F/H   \n",
       "\n",
       "        companies                       salaires       type_contrat  \\\n",
       "0        METEOJOB                     A négocier                CDI   \n",
       "1          SPRING  A partir de 30 k€ brut annuel                CDI   \n",
       "2  KELLY SERVICES                     A négocier  Mission d'intérim   \n",
       "3             AID                     A négocier                CDI   \n",
       "4      GROUPAGORA         38 - 45 k€ brut annuel                CDI   \n",
       "\n",
       "                villes date_publication  \n",
       "0         Valence - 26       28/09/2022  \n",
       "1           Tours - 37       10/10/2022  \n",
       "2  Marcy-l'Étoile - 69       03/10/2022  \n",
       "3        Paris 14 - 75       15/09/2022  \n",
       "4         Meyzieu - 69       23/09/2022  "
      ]
     },
     "execution_count": 382,
     "metadata": {},
     "output_type": "execute_result"
    }
   ],
   "source": [
    "df_apec_selenium_mulit_page.head()"
   ]
  },
  {
   "cell_type": "markdown",
   "id": "0d0af353-7740-4ac5-87d3-334c8baa1748",
   "metadata": {
    "tags": []
   },
   "source": [
    "### récupération des descriptions"
   ]
  },
  {
   "cell_type": "code",
   "execution_count": 388,
   "id": "c238472f-ca2f-442e-a6b1-8a3d10a29e5a",
   "metadata": {},
   "outputs": [],
   "source": [
    "def request_web_driver(url):\n",
    "    \n",
    "    driver.get(url)\n",
    "    #acceptation des cookies \n",
    "    try:\n",
    "        button=driver.find_element(By.ID,\"onetrust-accept-btn-handler\")\n",
    "        button.click()\n",
    "        time.sleep(0.3)\n",
    "    except:\n",
    "        pass\n",
    "\n",
    "    # label -> voir plus -> renvoie d'autres éléments de compétences\n",
    "    label = driver.find_elements(By.XPATH, \"//p/label/span\")\n",
    "    if len(label)>1:\n",
    "        label[0].click()\n",
    "\n",
    "        time.sleep(0.3)\n",
    "        label[1].click()\n",
    "        time.sleep(0.3)\n",
    "    else:\n",
    "        if len(label)>0:\n",
    "            label = driver.find_element(By.XPATH, \"//p/label/span\")\n",
    "            label.click()\n",
    "        else:\n",
    "            pass\n",
    "    return driver\n",
    "\n"
   ]
  },
  {
   "cell_type": "code",
   "execution_count": null,
   "id": "fe448d07-0f9e-4c98-874d-1a0705639491",
   "metadata": {},
   "outputs": [],
   "source": [
    "url = df_apec.link[0]\n",
    "driver = webdriver.Chrome('../Desktop/chromedriver')\n",
    "driver = request_web_driver(url)"
   ]
  },
  {
   "cell_type": "code",
   "execution_count": 369,
   "id": "a4e32f5e-57d9-4c39-bdff-d83ab3a9bf6a",
   "metadata": {},
   "outputs": [],
   "source": [
    "data = driver.find_elements(By.CLASS_NAME,'details-post')"
   ]
  },
  {
   "cell_type": "code",
   "execution_count": 7,
   "id": "b4375e65-042f-4aa0-bea0-d88a8212e7c1",
   "metadata": {},
   "outputs": [],
   "source": [
    "skills =driver.find_elements(By.CLASS_NAME,'added-skills-language')"
   ]
  },
  {
   "cell_type": "code",
   "execution_count": 380,
   "id": "4c2613bf-f2fc-43d7-8bca-bd921a2420ee",
   "metadata": {},
   "outputs": [
    {
     "name": "stdout",
     "output_type": "stream",
     "text": [
      "Expérience\n",
      "Minimum 3 ans\n"
     ]
    }
   ],
   "source": [
    "print(data[2].find_elements(By.TAG_NAME,'h4')[0].text)\n",
    "print(data[2].find_elements(By.TAG_NAME,'span')[0].text)"
   ]
  },
  {
   "cell_type": "code",
   "execution_count": 381,
   "id": "95c654e8-61dd-4561-91aa-a34b8e30654c",
   "metadata": {},
   "outputs": [
    {
     "name": "stdout",
     "output_type": "stream",
     "text": [
      "Descriptif du poste\n",
      "Notre client spécialisé dans les systèmes de fixation dans le domaine de la construction, recherche un(e) Data Analyst en CDI.\n",
      "\n",
      "Vos missions:\n",
      "\n",
      "- Recueil et extraction de données ;\n",
      "- Nettoyage, retraitement, exploitation voire stockage des données ;\n",
      "- Création de dashboards, mise en place de KPIs et reporting des performances;\n",
      "- Mise en place de process/requêtes et automatisations.\n"
     ]
    }
   ],
   "source": [
    "print(data[7].find_elements(By.TAG_NAME,'h4')[0].text)\n",
    "print(data[7].find_elements(By.TAG_NAME,'p')[0].text)"
   ]
  },
  {
   "cell_type": "code",
   "execution_count": 382,
   "id": "1c193d77-35b4-42b3-9b5d-1aac7aa12afd",
   "metadata": {},
   "outputs": [
    {
     "name": "stdout",
     "output_type": "stream",
     "text": [
      "Profil recherché\n",
      "Vous maitrisez divers outils de traitement et d'analyse de données :\n",
      "outils de data management + bases de données + data visualisation + langages de programmation (POWER BI [incontournable], SAS, SPSS, SAP, Python, R, VBA, Excel, Access etc.)\n",
      "\n",
      "Vous êtes passionné(e) pour les chiffres avec des compétences statistiques et une orientation business.\n",
      "\n",
      "Vous êtes rigoureux, organisé, réactif et d'esprit analytique, curieux et force de proposition\n",
      "Vous possédez un anglais courant.\n",
      "\n",
      "Ce poste est le votre ! N'attendez plus et postulez !\n"
     ]
    }
   ],
   "source": [
    "print(data[7].find_elements(By.TAG_NAME,'h4')[1].text)\n",
    "print(data[7].find_elements(By.TAG_NAME,'p')[1].text)"
   ]
  },
  {
   "cell_type": "code",
   "execution_count": 389,
   "id": "4e9970f7-95a1-49fa-9dcd-a546e088a6d5",
   "metadata": {},
   "outputs": [
    {
     "name": "stdout",
     "output_type": "stream",
     "text": [
      "SAVOIR-ÊTRE\n",
      "Capacité d'analyse\n",
      "Curiosité\n",
      "Force de proposition\n",
      "Proactivité\n",
      "Rigueur\n",
      "Sens de l'organisation\n",
      "Voir moins\n",
      "\n",
      "SAVOIR-FAIRE\n",
      "Analyse de données\n",
      "Traitement des données\n",
      "Automatisme\n",
      "Base de données\n",
      "Dashboard\n",
      "Informatique décisionnelle\n",
      "Langage de programmation\n",
      "Langage R\n",
      "Microsoft Access\n",
      "Microsoft Excel\n",
      "Nettoyage et propreté\n",
      "Python\n",
      "Reporting\n",
      "SAP\n",
      "SAS\n",
      "SPSS\n",
      "Statistiques\n",
      "Stockage de produits\n",
      "Visual Basic for Applications\n",
      "Voir moins\n",
      "\n",
      "\n"
     ]
    }
   ],
   "source": [
    "print(data[7].find_elements(By.CLASS_NAME,'added-skills-container')[1].text)\n",
    "print()\n",
    "print(data[7].find_elements(By.CLASS_NAME,'added-skills-container')[2].text)\n",
    "print()\n",
    "print(data[7].find_elements(By.CLASS_NAME,'added-skills-container')[2].find_elements(By.CLASS_NAME,'detail_skills')[0].text) # n'affiche rien avec Sélénium\n"
   ]
  },
  {
   "cell_type": "code",
   "execution_count": 168,
   "id": "65400ac4-094e-46ca-bbe1-b9ac73563ec0",
   "metadata": {},
   "outputs": [
    {
     "data": {
      "text/plain": [
       "'Offre suivante'"
      ]
     },
     "execution_count": 168,
     "metadata": {},
     "output_type": "execute_result"
    }
   ],
   "source": [
    "next_page = driver.find_elements(By.CLASS_NAME,\"nextpage\")\n",
    "next_page[0].text"
   ]
  },
  {
   "cell_type": "code",
   "execution_count": 265,
   "id": "d5247e8d-8a10-4287-add9-73a8e78cd043",
   "metadata": {},
   "outputs": [
    {
     "data": {
      "text/plain": [
       "8"
      ]
     },
     "execution_count": 265,
     "metadata": {},
     "output_type": "execute_result"
    }
   ],
   "source": [
    "dicto_apec_description = {}\n",
    "data = driver.find_elements(By.CLASS_NAME,'details-post')\n",
    "len(data)"
   ]
  },
  {
   "cell_type": "code",
   "execution_count": 278,
   "id": "9bdfeb83-a404-40cf-a28e-6d8060a0b016",
   "metadata": {},
   "outputs": [
    {
     "data": {
      "text/plain": [
       "'Expérience'"
      ]
     },
     "execution_count": 278,
     "metadata": {},
     "output_type": "execute_result"
    }
   ],
   "source": [
    "data[2].find_elements(By.TAG_NAME,'h4')[0].text"
   ]
  },
  {
   "cell_type": "code",
   "execution_count": 358,
   "id": "a48d4c56-85b6-4cbf-9554-30a2c07bdba6",
   "metadata": {},
   "outputs": [],
   "source": [
    "\n",
    "index = 0\n",
    "colonne = []\n",
    "texte = []\n",
    "for i in range(len(data)):\n",
    "    colonne.append(data[i].find_elements(By.TAG_NAME,'h4')[0].text)\n",
    "    texte.append(data[i].find_elements(By.TAG_NAME,'span')[0].text)\n",
    "    \n",
    "    if i >= 7:\n",
    "        colonne.append(data[7].find_elements(By.TAG_NAME,'h4')[i-7].text)\n",
    "        texte.append(data[7].find_elements(By.TAG_NAME,'p')[i-7].text)"
   ]
  },
  {
   "cell_type": "code",
   "execution_count": 359,
   "id": "124322ad-a204-47db-8a97-64531bb5627d",
   "metadata": {},
   "outputs": [
    {
     "data": {
      "text/plain": [
       "['Salaire',\n",
       " 'Prise de poste',\n",
       " 'Expérience',\n",
       " 'Métier',\n",
       " 'Statut du poste',\n",
       " 'Zone de déplacement',\n",
       " 'Secteur d’activité du poste',\n",
       " 'Descriptif du poste',\n",
       " 'Descriptif du poste']"
      ]
     },
     "execution_count": 359,
     "metadata": {},
     "output_type": "execute_result"
    }
   ],
   "source": [
    "colonne"
   ]
  },
  {
   "cell_type": "code",
   "execution_count": 360,
   "id": "2ce46873-907b-4441-b77e-d13855f130e3",
   "metadata": {},
   "outputs": [
    {
     "data": {
      "text/plain": [
       "['A négocier',\n",
       " 'Dès que possible',\n",
       " 'Minimum 3 ans',\n",
       " 'Data analyst',\n",
       " 'Cadre du secteur privé',\n",
       " 'Pas de déplacement',\n",
       " 'CONSEIL POUR LES AFFAIRES ET AUTRES CONSEILS DE GESTION',\n",
       " 'LANGUES\\nAnglais',\n",
       " 'Notre client spécialisé dans les systèmes de fixation dans le domaine de la construction, recherche un(e) Data Analyst en CDI.\\n\\nVos missions:\\n\\n- Recueil et extraction de données ;\\n- Nettoyage, retraitement, exploitation voire stockage des données ;\\n- Création de dashboards, mise en place de KPIs et reporting des performances;\\n- Mise en place de process/requêtes et automatisations.']"
      ]
     },
     "execution_count": 360,
     "metadata": {},
     "output_type": "execute_result"
    }
   ],
   "source": [
    "texte"
   ]
  },
  {
   "cell_type": "code",
   "execution_count": 21,
   "id": "8aa8612a-8a8a-41a1-9360-dfd7b976cfba",
   "metadata": {},
   "outputs": [],
   "source": [
    "dicto_apec_description = {}\n",
    "data = driver.find_elements(By.CLASS_NAME,'details-post')\n",
    "experience = data[2].find_elements(By.TAG_NAME,'span')[0].text\n",
    "metier = data[3].find_elements(By.TAG_NAME,'span')[0].text\n",
    "statut = data[4].find_elements(By.TAG_NAME,'span')[0].text\n",
    "secteur = data[6].find_elements(By.TAG_NAME,'span')[0].text\n",
    "\n",
    "descriptif_poste = data[7].find_elements(By.TAG_NAME,'p')[0].text\n",
    "profil_poste = data[7].find_elements(By.TAG_NAME,'p')[1].text\n",
    "skills =\",\".join([ i.text for i in data[7].find_elements(By.XPATH,'//div/apec-competence-detail')])\n",
    "\n",
    "dicto_apec_description.update({1:[experience,metier,statut,secteur,descriptif_poste,profil_poste,skills]})\n"
   ]
  },
  {
   "cell_type": "code",
   "execution_count": 22,
   "id": "0775e008-9715-4a0e-8ba3-c86af643abdf",
   "metadata": {},
   "outputs": [
    {
     "data": {
      "text/plain": [
       "\"Anglais,Capacité d'analyse,Curiosité,Force de proposition,Proactivité,Rigueur,Sens de l'organisation,Analyse de données,Traitement des données,Automatisme,Base de données,Dashboard,Informatique décisionnelle,Langage de programmation,Langage R,Microsoft Access,Microsoft Excel,Nettoyage et propreté,Python,Reporting,SAP,SAS,SPSS,Statistiques,Stockage de produits,Visual Basic for Applications\""
      ]
     },
     "execution_count": 22,
     "metadata": {},
     "output_type": "execute_result"
    }
   ],
   "source": [
    "skills"
   ]
  },
  {
   "cell_type": "code",
   "execution_count": 23,
   "id": "bdb477a8-c11c-4ca0-88e8-21f60c18ae49",
   "metadata": {},
   "outputs": [
    {
     "data": {
      "text/plain": [
       "\"Vous maitrisez divers outils de traitement et d'analyse de données :\\noutils de data management + bases de données + data visualisation + langages de programmation (POWER BI [incontournable], SAS, SPSS, SAP, Python, R, VBA, Excel, Access etc.)\\n\\nVous êtes passionné(e) pour les chiffres avec des compétences statistiques et une orientation business.\\n\\nVous êtes rigoureux, organisé, réactif et d'esprit analytique, curieux et force de proposition\\nVous possédez un anglais courant.\\n\\nCe poste est le votre ! N'attendez plus et postulez !\""
      ]
     },
     "execution_count": 23,
     "metadata": {},
     "output_type": "execute_result"
    }
   ],
   "source": [
    "profil_poste"
   ]
  },
  {
   "cell_type": "code",
   "execution_count": 24,
   "id": "8ff65e1e-d081-46c8-82e6-fb3953f5960d",
   "metadata": {},
   "outputs": [
    {
     "data": {
      "text/html": [
       "<div>\n",
       "<style scoped>\n",
       "    .dataframe tbody tr th:only-of-type {\n",
       "        vertical-align: middle;\n",
       "    }\n",
       "\n",
       "    .dataframe tbody tr th {\n",
       "        vertical-align: top;\n",
       "    }\n",
       "\n",
       "    .dataframe thead th {\n",
       "        text-align: right;\n",
       "    }\n",
       "</style>\n",
       "<table border=\"1\" class=\"dataframe\">\n",
       "  <thead>\n",
       "    <tr style=\"text-align: right;\">\n",
       "      <th></th>\n",
       "      <th>Experience</th>\n",
       "      <th>Job</th>\n",
       "      <th>Statut</th>\n",
       "      <th>Secteur</th>\n",
       "      <th>descrption_offre</th>\n",
       "      <th>description_profil</th>\n",
       "      <th>skills</th>\n",
       "    </tr>\n",
       "  </thead>\n",
       "  <tbody>\n",
       "    <tr>\n",
       "      <th>1</th>\n",
       "      <td>Minimum 3 ans</td>\n",
       "      <td>Data analyst</td>\n",
       "      <td>Cadre du secteur privé</td>\n",
       "      <td>CONSEIL POUR LES AFFAIRES ET AUTRES CONSEILS D...</td>\n",
       "      <td>Notre client spécialisé dans les systèmes de f...</td>\n",
       "      <td>Vous maitrisez divers outils de traitement et ...</td>\n",
       "      <td>Anglais,Capacité d'analyse,Curiosité,Force de ...</td>\n",
       "    </tr>\n",
       "  </tbody>\n",
       "</table>\n",
       "</div>"
      ],
      "text/plain": [
       "      Experience           Job                  Statut  \\\n",
       "1  Minimum 3 ans  Data analyst  Cadre du secteur privé   \n",
       "\n",
       "                                             Secteur  \\\n",
       "1  CONSEIL POUR LES AFFAIRES ET AUTRES CONSEILS D...   \n",
       "\n",
       "                                    descrption_offre  \\\n",
       "1  Notre client spécialisé dans les systèmes de f...   \n",
       "\n",
       "                                  description_profil  \\\n",
       "1  Vous maitrisez divers outils de traitement et ...   \n",
       "\n",
       "                                              skills  \n",
       "1  Anglais,Capacité d'analyse,Curiosité,Force de ...  "
      ]
     },
     "execution_count": 24,
     "metadata": {},
     "output_type": "execute_result"
    }
   ],
   "source": [
    "pd.DataFrame.from_dict(dicto_apec_description,orient=\"index\").rename(columns={0:'Experience',1:'Job',2:'Statut',3:'Secteur',4:'descrption_offre',5:'description_profil',6:'skills'})"
   ]
  },
  {
   "cell_type": "code",
   "execution_count": 165,
   "id": "5090c049-e605-4275-84cf-11bb357418c4",
   "metadata": {},
   "outputs": [
    {
     "data": {
      "text/plain": [
       "array(['https://www.apec.fr/candidat/recherche-emploi.html/emploi/detail-offre/169150501W?motsCles=data%20analyst&selectedIndex=0&page=0',\n",
       "       'https://www.apec.fr/candidat/recherche-emploi.html/emploi/detail-offre/169145954W?motsCles=data%20analyst&selectedIndex=1&page=0',\n",
       "       'https://www.apec.fr/candidat/recherche-emploi.html/emploi/detail-offre/169072515W?motsCles=data%20analyst&selectedIndex=2&page=0',\n",
       "       'https://www.apec.fr/candidat/recherche-emploi.html/emploi/detail-offre/169145004W?motsCles=data%20analyst&selectedIndex=3&page=0',\n",
       "       'https://www.apec.fr/candidat/recherche-emploi.html/emploi/detail-offre/169226853W?motsCles=data%20analyst&selectedIndex=4&page=0'],\n",
       "      dtype=object)"
      ]
     },
     "execution_count": 165,
     "metadata": {},
     "output_type": "execute_result"
    }
   ],
   "source": [
    "df_apec.link.head().values"
   ]
  },
  {
   "cell_type": "code",
   "execution_count": 157,
   "id": "9acac031-ac2a-475b-b335-1df79a83b783",
   "metadata": {},
   "outputs": [
    {
     "data": {
      "text/plain": [
       "{1: ['Minimum 2 ans',\n",
       "  'Data analyst',\n",
       "  'Cadre du secteur privé',\n",
       "  'CONSEIL EN SYSTÈMES ET LOGICIELS INFORMATIQUES',\n",
       "  'GroupAgora, acteur global des S.I. depuis 1990 et partenaire informatique de Grands Comptes et PME/PMI partout en France, souhaite renforcer ses équipes en AUVERGNE-RHÔNE-ALPES et recherche 1 Data Analyst.\\nLe poste\\nUn de nos clients, leader sur son secteur (énergie) recherche actuellement un Data Analyst BI afin de l’intégrer à ses équipes.\\nVos différentes missions seront :\\nLa mise en place, l’améliorations et la maintenance des rapports POWER BI\\nContribuer à la mise en place d’un Data Warehouse\\nTravailler avec les équipes métiers pour en comprendre les domaines, contextes afin de contribuer à la proposition de solutions à forts impacts\\nLa formation des utilisateurs à l’utilisation des rapports BI en autonomie',\n",
       "  'Vous connaissez et maitrisez les requêtes et bases SQL.\\nVous avez connaissance du développement et de la et maintenance de rapports MS POWER BI\\nVous êtes rigoureux, vous aimez le travail en équipe, vous êtes curieux.\\nVous êtes réactif, à l’écoute et adaptable\\nVous avez minimum 2 ans d’expérience.\\nConnaissances appréciées :\\nCompréhension des APIs et Webservices\\nConnaissances des environnements Azure (Data Factory et Azure Function)\\nConnaissances des ERP et CRM\\nExpérience sur l’utilisation ou la mise en place d’un Data Warehouse',\n",
       "  \"Autonomie,Capacité d'adaptation,Curiosité,Esprit d'équipe,Proactivité,Rigueur,SQL,Actions de formation,CRM\\nDébutant\\nMinimum 1 an d’expérience,ERP,Informatique,Informatique décisionnelle,Maintenance,Microsoft Power BI\"]}"
      ]
     },
     "execution_count": 157,
     "metadata": {},
     "output_type": "execute_result"
    }
   ],
   "source": [
    "dicto_apec_description"
   ]
  },
  {
   "cell_type": "code",
   "execution_count": 156,
   "id": "24715251-46cb-4b8c-9db7-23f982578d18",
   "metadata": {},
   "outputs": [
    {
     "name": "stdout",
     "output_type": "stream",
     "text": [
      "0 ==> GroupAgora, acteur global des S.I. depuis 1990 et partenaire informatique de Grands Comptes et PME/PMI partout en France, souhaite renforcer ses équipes en AUVERGNE-RHÔNE-ALPES et recherche 1 Data Analyst.\n",
      "Le poste\n",
      "Un de nos clients, leader sur son secteur (énergie) recherche actuellement un Data Analyst BI afin de l’intégrer à ses équipes.\n",
      "Vos différentes missions seront :\n",
      "La mise en place, l’améliorations et la maintenance des rapports POWER BI\n",
      "Contribuer à la mise en place d’un Data Warehouse\n",
      "Travailler avec les équipes métiers pour en comprendre les domaines, contextes afin de contribuer à la proposition de solutions à forts impacts\n",
      "La formation des utilisateurs à l’utilisation des rapports BI en autonomie\n",
      "1 ==> Vous connaissez et maitrisez les requêtes et bases SQL.\n",
      "Vous avez connaissance du développement et de la et maintenance de rapports MS POWER BI\n",
      "Vous êtes rigoureux, vous aimez le travail en équipe, vous êtes curieux.\n",
      "Vous êtes réactif, à l’écoute et adaptable\n",
      "Vous avez minimum 2 ans d’expérience.\n",
      "Connaissances appréciées :\n",
      "Compréhension des APIs et Webservices\n",
      "Connaissances des environnements Azure (Data Factory et Azure Function)\n",
      "Connaissances des ERP et CRM\n",
      "Expérience sur l’utilisation ou la mise en place d’un Data Warehouse\n",
      "2 ==> GroupAgora, acteur global des S.I. depuis 1990 et partenaire informatique de Grands Comptes et PME/PMI partout en France\n",
      "3 ==> Autres offres de l'entreprise\n",
      "4 ==> Personne en charge du recrutement\n",
      "Naziha BOUDEWYN - Chargée de recrutement\n",
      "5 ==> « 500 Consultants vous\n",
      "accompagnent GRATUITEMENT »\n"
     ]
    }
   ],
   "source": [
    "index=0\n",
    "for i in data[8].find_elements(By.XPATH,'//div/div/p'):\n",
    "    if len(i.text)>0:\n",
    "        print(f'{index} ==> {i.text}')\n",
    "        index+=1"
   ]
  },
  {
   "cell_type": "code",
   "execution_count": 158,
   "id": "64c24c84-ee3b-42e0-9ba1-592bda76e578",
   "metadata": {},
   "outputs": [
    {
     "data": {
      "text/html": [
       "<div>\n",
       "<style scoped>\n",
       "    .dataframe tbody tr th:only-of-type {\n",
       "        vertical-align: middle;\n",
       "    }\n",
       "\n",
       "    .dataframe tbody tr th {\n",
       "        vertical-align: top;\n",
       "    }\n",
       "\n",
       "    .dataframe thead th {\n",
       "        text-align: right;\n",
       "    }\n",
       "</style>\n",
       "<table border=\"1\" class=\"dataframe\">\n",
       "  <thead>\n",
       "    <tr style=\"text-align: right;\">\n",
       "      <th></th>\n",
       "      <th>0</th>\n",
       "      <th>1</th>\n",
       "      <th>2</th>\n",
       "      <th>3</th>\n",
       "      <th>4</th>\n",
       "      <th>5</th>\n",
       "      <th>6</th>\n",
       "    </tr>\n",
       "  </thead>\n",
       "  <tbody>\n",
       "    <tr>\n",
       "      <th>1</th>\n",
       "      <td>Minimum 2 ans</td>\n",
       "      <td>Data analyst</td>\n",
       "      <td>Cadre du secteur privé</td>\n",
       "      <td>CONSEIL EN SYSTÈMES ET LOGICIELS INFORMATIQUES</td>\n",
       "      <td>GroupAgora, acteur global des S.I. depuis 1990...</td>\n",
       "      <td>Vous connaissez et maitrisez les requêtes et b...</td>\n",
       "      <td>Autonomie,Capacité d'adaptation,Curiosité,Espr...</td>\n",
       "    </tr>\n",
       "  </tbody>\n",
       "</table>\n",
       "</div>"
      ],
      "text/plain": [
       "               0             1                       2  \\\n",
       "1  Minimum 2 ans  Data analyst  Cadre du secteur privé   \n",
       "\n",
       "                                                3  \\\n",
       "1  CONSEIL EN SYSTÈMES ET LOGICIELS INFORMATIQUES   \n",
       "\n",
       "                                                   4  \\\n",
       "1  GroupAgora, acteur global des S.I. depuis 1990...   \n",
       "\n",
       "                                                   5  \\\n",
       "1  Vous connaissez et maitrisez les requêtes et b...   \n",
       "\n",
       "                                                   6  \n",
       "1  Autonomie,Capacité d'adaptation,Curiosité,Espr...  "
      ]
     },
     "execution_count": 158,
     "metadata": {},
     "output_type": "execute_result"
    }
   ],
   "source": [
    "pd.DataFrame.from_dict(dicto_apec_description,orient=\"index\")"
   ]
  },
  {
   "cell_type": "code",
   "execution_count": 174,
   "id": "2f203802-4747-4bd1-918c-98a82a513cef",
   "metadata": {},
   "outputs": [
    {
     "name": "stderr",
     "output_type": "stream",
     "text": [
      "<timed exec>:4: DeprecationWarning: executable_path has been deprecated, please pass in a Service object\n"
     ]
    },
    {
     "name": "stdout",
     "output_type": "stream",
     "text": [
      "CPU times: user 33.4 s, sys: 2.19 s, total: 35.6 s\n",
      "Wall time: 23min 38s\n"
     ]
    }
   ],
   "source": [
    "%%time\n",
    "dicto_apec_description = {}\n",
    "\n",
    "count_job = 0\n",
    "driver = webdriver.Chrome('../Desktop/chromedriver')\n",
    "\n",
    "for col,values in df_apec.iterrows():\n",
    "    url = values.link\n",
    "    companies = values.companies\n",
    "    driver.get(url)\n",
    " \n",
    "    #acceptation des cookies \n",
    "    try:\n",
    "        button=driver.find_element(By.ID,\"onetrust-accept-btn-handler\")\n",
    "        button.click()\n",
    "        time.sleep(0.3)\n",
    "    except:\n",
    "        pass\n",
    "\n",
    "    # label -> voir plus -> renvoie d'autres éléments de compétences\n",
    "    label = driver.find_elements(By.XPATH, \"//p/label/span\")\n",
    "    if len(label)>1:\n",
    "        label[0].click()\n",
    "\n",
    "        time.sleep(0.3)\n",
    "        label[1].click()\n",
    "        time.sleep(0.3)\n",
    "    else:\n",
    "        if len(label)>0:\n",
    "            label = driver.find_element(By.XPATH, \"//p/label/span\")\n",
    "            label.click()\n",
    "        else:\n",
    "            pass\n",
    "   \n",
    "    data = driver.find_elements(By.CLASS_NAME,'details-post')\n",
    "    len_data = len(data)\n",
    "    if len_data >0: #si l'offre n'existe plus\n",
    "        experience = data[2].find_elements(By.TAG_NAME,'span')[0].text\n",
    "        metier = data[3].find_elements(By.TAG_NAME,'span')[0].text\n",
    "        statut = data[4].find_elements(By.TAG_NAME,'span')[0].text\n",
    "        secteur = data[6].find_elements(By.TAG_NAME,'span')[0].text\n",
    "        # le profil et la description du poste sont toujours data - 1 \n",
    "        # suivant le contenu il pouvait y avoir des écarts entre description et profil \n",
    "        # et donc le fonctionnement find_elements(By.TAG_NAME,'p') n'était pas pertinent\n",
    "        # XPATH permet de remédier au problème incluant une gestion des listes\n",
    "        # On ne prend pas en compte les espaces vides pour avoir toujours la description du poste en 0 \n",
    "        # et le profil en 1\n",
    "        description = []\n",
    "        for i in data[len_data-1].find_elements(By.XPATH,'//div/div/p'):\n",
    "            if len(i.text)>0:\n",
    "                description.append(i.text) \n",
    "        descriptif_poste = description[0]\n",
    "        profil_poste = description[1]\n",
    "        skills =\",\".join([ i.text for i in data[len(data)-1].find_elements(By.XPATH,'//div/apec-competence-detail')])\n",
    "        \n",
    "\n",
    "        dicto_apec_description.update({count_job:[companies,experience,metier,statut,secteur,descriptif_poste,profil_poste,skills]})\n",
    "        count_job+=1\n",
    "\n",
    "    else:\n",
    "        pass"
   ]
  },
  {
   "cell_type": "code",
   "execution_count": 179,
   "id": "2058d622-9080-4ff4-88a5-2f95071b0943",
   "metadata": {},
   "outputs": [],
   "source": [
    "df_apec_description = (pd.DataFrame.from_dict(dicto_apec_description,orient=\"index\")\n",
    "                       .rename(columns={0:'companies',1:'experience',2:'jobs',3:'statut',4:'secteur',5:'description_offre',6:'description_profil',7:'skills'})\n",
    "                      )\n",
    "df_apec_description"
   ]
  },
  {
   "cell_type": "code",
   "execution_count": 181,
   "id": "acac5df4-9144-4790-98bd-040611a00247",
   "metadata": {},
   "outputs": [],
   "source": [
    "df_apec_description.to_csv(\"df_apec_description.csv\")"
   ]
  },
  {
   "cell_type": "markdown",
   "id": "5e592bc7-84d4-40c5-afe7-c80a2065c956",
   "metadata": {
    "tags": []
   },
   "source": [
    "## BeautifulSoup"
   ]
  },
  {
   "cell_type": "markdown",
   "id": "cd9a4ecc-52a2-4675-ac05-1826ce8b531e",
   "metadata": {},
   "source": [
    "### Scrapping MultiPage "
   ]
  },
  {
   "cell_type": "code",
   "execution_count": 337,
   "id": "a7231a5e-c91a-4d63-bd93-be3648de4004",
   "metadata": {},
   "outputs": [
    {
     "name": "stderr",
     "output_type": "stream",
     "text": [
      "/var/folders/6d/_c9dj9cs3dv7f9hff54z3xl80000gn/T/ipykernel_1100/2042219226.py:2: DeprecationWarning: executable_path has been deprecated, please pass in a Service object\n",
      "  driver = webdriver.Chrome('../Desktop/chromedriver')\n"
     ]
    }
   ],
   "source": [
    "url = \"https://www.apec.fr/candidat/recherche-emploi.html/emploi?motsCles=data%20analyst\"\n",
    "driver = webdriver.Chrome('../Desktop/chromedriver')\n",
    "driver.get(url)\n",
    "elem = driver.find_element(By.XPATH,\"//*\") \n",
    "source_code = elem.get_attribute(\"outerHTML\")\n",
    "soup = BeautifulSoup(source_code,'html.parser')\n",
    "text=soup.find_all('div',{'class':'card-offer__text'})\n",
    "div = soup.find_all(\"div\",{'class':'container-result'})"
   ]
  },
  {
   "cell_type": "code",
   "execution_count": 347,
   "id": "9e84e9f5-3796-485e-ba17-134ae8152f7a",
   "metadata": {},
   "outputs": [
    {
     "data": {
      "text/plain": [
       "<a href=\"/candidat/recherche-emploi.html/emploi/detail-offre/169150501W?motsCles=data%20analyst&amp;selectedIndex=0&amp;page=0\" queryparamshandling=\"merge\"><apec-recherche-resultat><div class=\"card card-offer mb-20 card--clickable\"><div class=\"card-body\"><div class=\"card-offer__header\"><div class=\"card-offer__logo\"><figure><!-- --><img alt=\"Logo société\" src=\"/files/live/mounts/images/media_entreprise/759486/logo_MeteoJob_759486_969844.png\"/></figure></div><div class=\"card-offer__text\"><h2 class=\"card-title fs-16\">DATA ANALYST F/H</h2><p class=\"card-offer__company mb-10\">Meteojob</p><ul class=\"details-offer\"><li><img alt=\"Salaire texte\" src=\"/modules/apec-jahia-module/assets/img/angular/offres/euros.svg\"/>A négocier </li></ul><p class=\"card-offer__description mb-15\">Notre client spécialisé dans les systèmes de fixation dans le domaine de la construction, recherche un(e) Data Analyst en CDI.   Vos missions:   - Recueil et extraction de données ; - Nettoyage, retraitement, exploitation voire stockage des données ; - Création de dashboards,...</p><ul class=\"details-offer important-list\"><li><img alt=\"type de contrat\" src=\"/modules/apec-jahia-module/assets/img/angular/offres/bag.svg\"/>CDI </li><li><img alt=\"localisation\" src=\"/modules/apec-jahia-module/assets/img/angular/offres/map.svg\"/>Valence - 26 </li><li title=\"Date de publication\"><img alt=\"date de publication\" src=\"/modules/apec-jahia-module/assets/img/angular/offres/watch.svg\"/>28/09/2022 </li></ul></div></div></div></div></apec-recherche-resultat></a>"
      ]
     },
     "execution_count": 347,
     "metadata": {},
     "output_type": "execute_result"
    }
   ],
   "source": [
    "a= div[0].find_all(\"a\")\n",
    "link = div[0].find('a',href=True)['href']\n",
    "link_offre = a[0]['href']\n",
    "text = a[0].find_all(\"div\",{\"class\":\"card-offer__text\"})\n",
    "a[0]"
   ]
  },
  {
   "cell_type": "code",
   "execution_count": 348,
   "id": "ec4ac88d-932b-4c43-aba4-dbd4526604ed",
   "metadata": {},
   "outputs": [
    {
     "data": {
      "text/plain": [
       "[<div class=\"card-offer__text\"><h2 class=\"card-title fs-16\">DATA ANALYST F/H</h2><p class=\"card-offer__company mb-10\">Meteojob</p><ul class=\"details-offer\"><li><img alt=\"Salaire texte\" src=\"/modules/apec-jahia-module/assets/img/angular/offres/euros.svg\"/>A négocier </li></ul><p class=\"card-offer__description mb-15\">Notre client spécialisé dans les systèmes de fixation dans le domaine de la construction, recherche un(e) Data Analyst en CDI.   Vos missions:   - Recueil et extraction de données ; - Nettoyage, retraitement, exploitation voire stockage des données ; - Création de dashboards,...</p><ul class=\"details-offer important-list\"><li><img alt=\"type de contrat\" src=\"/modules/apec-jahia-module/assets/img/angular/offres/bag.svg\"/>CDI </li><li><img alt=\"localisation\" src=\"/modules/apec-jahia-module/assets/img/angular/offres/map.svg\"/>Valence - 26 </li><li title=\"Date de publication\"><img alt=\"date de publication\" src=\"/modules/apec-jahia-module/assets/img/angular/offres/watch.svg\"/>28/09/2022 </li></ul></div>]"
      ]
     },
     "execution_count": 348,
     "metadata": {},
     "output_type": "execute_result"
    }
   ],
   "source": [
    "text"
   ]
  },
  {
   "cell_type": "code",
   "execution_count": 342,
   "id": "7c95d03e-d7f1-47d0-ad73-833859f968de",
   "metadata": {},
   "outputs": [
    {
     "data": {
      "text/plain": [
       "'/candidat/recherche-emploi.html/emploi/detail-offre/169150501W?motsCles=data%20analyst&selectedIndex=0&page=0'"
      ]
     },
     "execution_count": 342,
     "metadata": {},
     "output_type": "execute_result"
    }
   ],
   "source": [
    "link_offre"
   ]
  },
  {
   "cell_type": "code",
   "execution_count": 492,
   "id": "37c83c9e-a6b1-4f87-b165-84c8cb23d832",
   "metadata": {},
   "outputs": [
    {
     "data": {
      "text/plain": [
       "20"
      ]
     },
     "execution_count": 492,
     "metadata": {},
     "output_type": "execute_result"
    }
   ],
   "source": [
    "text = soup.find_all(\"div\",{\"class\":\"card-offer__text\"})\n",
    "len(text)"
   ]
  },
  {
   "cell_type": "code",
   "execution_count": 493,
   "id": "d8ee2692-dacd-4e4c-8ef3-894c021eedc6",
   "metadata": {},
   "outputs": [
    {
     "data": {
      "text/plain": [
       "861"
      ]
     },
     "execution_count": 493,
     "metadata": {},
     "output_type": "execute_result"
    }
   ],
   "source": [
    "int(soup.find(\"div\",{\"class\":\"number-candidat\"}).find('span').text)"
   ]
  },
  {
   "cell_type": "code",
   "execution_count": 519,
   "id": "fce60326-89fd-4b04-be8c-ae75e39bb32f",
   "metadata": {},
   "outputs": [
    {
     "data": {
      "text/plain": [
       "'Data Analyst F/H'"
      ]
     },
     "execution_count": 519,
     "metadata": {},
     "output_type": "execute_result"
    }
   ],
   "source": [
    "job = text[0].find('h2',{'class':'card-title'}).text\n",
    "job"
   ]
  },
  {
   "cell_type": "code",
   "execution_count": 465,
   "id": "8a55de28-8d73-4249-8303-2ffb5c3a38d3",
   "metadata": {},
   "outputs": [
    {
     "data": {
      "text/plain": [
       "'Meteojob'"
      ]
     },
     "execution_count": 465,
     "metadata": {},
     "output_type": "execute_result"
    }
   ],
   "source": [
    "companies = text[0].find('p',{'class':'card-offer__company'}).text\n",
    "companies"
   ]
  },
  {
   "cell_type": "code",
   "execution_count": 320,
   "id": "4f37b3b4-e665-4d27-a7e2-c757a8450f87",
   "metadata": {},
   "outputs": [
    {
     "data": {
      "text/plain": [
       "'Notre client spécialisé dans les systèmes de fixation dans le domaine de la construction, recherche un(e) Data Analyst en CDI.   Vos missions:   - Recueil et extraction de données ; - Nettoyage, retraitement, exploitation voire stockage des données ; - Création de dashboards,...'"
      ]
     },
     "execution_count": 320,
     "metadata": {},
     "output_type": "execute_result"
    }
   ],
   "source": [
    "description_slice  =text[0].find('p',{'class':'card-offer__description'}).text"
   ]
  },
  {
   "cell_type": "code",
   "execution_count": 349,
   "id": "2df3fc37-caec-4705-b30c-3e15cd9b8202",
   "metadata": {},
   "outputs": [],
   "source": [
    "text[0].find_all('li')\n",
    "liste_type = ['salaire','type_contrat','ville','date']\n",
    "count = 0\n",
    "liste_data = {}\n",
    "for i in liste_type:\n",
    "    liste_data.update({i:text[0].find_all('li')[count].text})\n",
    "    count+=1\n"
   ]
  },
  {
   "cell_type": "code",
   "execution_count": 350,
   "id": "c1a529c9-b834-4966-99a5-9dfab69ed419",
   "metadata": {},
   "outputs": [
    {
     "data": {
      "text/plain": [
       "{'salaire': 'A négocier ',\n",
       " 'type_contrat': 'CDI ',\n",
       " 'ville': 'Valence - 26 ',\n",
       " 'date': '28/09/2022 '}"
      ]
     },
     "execution_count": 350,
     "metadata": {},
     "output_type": "execute_result"
    }
   ],
   "source": [
    "liste_data"
   ]
  },
  {
   "cell_type": "code",
   "execution_count": 383,
   "id": "7ebffcad-9db4-48cc-b5c3-6b7d48f1e0a1",
   "metadata": {},
   "outputs": [],
   "source": [
    "def recup_all_data(metier):\n",
    "    metier = metier.lower().replace(\" \",\"%20\")\n",
    "    url = f\"https://www.apec.fr/candidat/recherche-emploi.html/emploi?motsCles={metier}\"\n",
    "    \n",
    "    \n",
    "    driver.get(url)\n",
    "    button=driver.find_element(By.ID,\"onetrust-accept-btn-handler\")\n",
    "    button.click()\n",
    "    time.sleep(0.3)\n",
    "    \n",
    "    elem = driver.find_element(By.XPATH,\"//*\") \n",
    "    source_code = elem.get_attribute(\"outerHTML\")\n",
    "    soup = BeautifulSoup(source_code,'html.parser')\n",
    "    text=soup.find_all('div',{'class':'card-offer__text'})\n",
    "    \n",
    "    nb_offres = int(soup.find(\"div\",{\"class\":\"number-candidat\"}).find('span').text)\n",
    "    nb_offres_per_pages = int(len(text))\n",
    "    loop = (nb_offres // nb_offres_per_pages)+1\n",
    "    emploi = {}\n",
    "    count_job = 0\n",
    "    time.sleep(0.3)\n",
    "    for page in range(1,loop+1):\n",
    "            \n",
    "        elem = driver.find_element(By.XPATH,\"//*\") \n",
    "        source_code = elem.get_attribute(\"outerHTML\")\n",
    "        soup = BeautifulSoup(source_code,'html.parser')\n",
    "        div = soup.find_all(\"div\",{'class':'container-result'})\n",
    "        a= div[0].find_all(\"a\")\n",
    " \n",
    "        if len(a)>=20:\n",
    "            loop = 20\n",
    "        else:\n",
    "            loop = len(a)\n",
    "        for data in range(loop):\n",
    "            try:\n",
    "                link_offre = a[data]['href']\n",
    "                text = a[data].find_all(\"div\",{\"class\":\"card-offer__text\"})\n",
    "                link=f\"https://www.apec.fr{link_offre}\"\n",
    "                job = text[0].find('h2',{'class':'card-title'}).text\n",
    "                companies = text[0].find('p',{'class':'card-offer__company'}).text\n",
    "                salaire = text[0].find_all('li')[0].text\n",
    "                type_contrat =text[0].find_all('li')[1].text\n",
    "                ville=text[0].find_all('li')[2].text\n",
    "                duree = text[0].find_all('li')[3].text\n",
    "                emploi.update({count_job:[companies,job,type_contrat,duree,ville,salaire,link,page]})\n",
    "                count_job+=1\n",
    "\n",
    "            except:\n",
    "                pass\n",
    "            \n",
    "        try:\n",
    "            element = driver.find_element(By.LINK_TEXT, str(page+1)) #click lien de page \n",
    "            element.click()\n",
    "            \n",
    "        except:\n",
    "            pass\n",
    "\n",
    "    return emploi\n"
   ]
  },
  {
   "cell_type": "code",
   "execution_count": 352,
   "id": "7290fbae-ce81-495b-a4c3-87279c342815",
   "metadata": {},
   "outputs": [
    {
     "name": "stderr",
     "output_type": "stream",
     "text": [
      "/var/folders/6d/_c9dj9cs3dv7f9hff54z3xl80000gn/T/ipykernel_1100/3441410437.py:5: DeprecationWarning: executable_path has been deprecated, please pass in a Service object\n",
      "  driver = webdriver.Chrome('../Desktop/chromedriver')\n"
     ]
    }
   ],
   "source": [
    "driver = webdriver.Chrome('../Desktop/chromedriver')\n",
    "dicto_apec = recup_all_data(\"data analyst\")"
   ]
  },
  {
   "cell_type": "code",
   "execution_count": 353,
   "id": "4be7f124-305d-4884-9147-81c787768228",
   "metadata": {},
   "outputs": [],
   "source": [
    "df_apec=pd.DataFrame.from_dict(dicto_apec,orient=\"index\").rename(columns={\n",
    "    0:'companies',\n",
    "    1:'job',\n",
    "    2:'type_contrat',\n",
    "    3:'date',\n",
    "    4:'villes',\n",
    "    5:'salaires',\n",
    "    6:'link'\n",
    "})\n"
   ]
  },
  {
   "cell_type": "code",
   "execution_count": 355,
   "id": "cbeecfea-d08f-4373-b54e-313a40933a7d",
   "metadata": {},
   "outputs": [],
   "source": [
    "df_apec.to_csv(\"df_apec.csv\")"
   ]
  },
  {
   "cell_type": "code",
   "execution_count": 357,
   "id": "1dc089a9-e3b3-4e48-b6da-ef03c46302ec",
   "metadata": {},
   "outputs": [
    {
     "data": {
      "text/html": [
       "<div>\n",
       "<style scoped>\n",
       "    .dataframe tbody tr th:only-of-type {\n",
       "        vertical-align: middle;\n",
       "    }\n",
       "\n",
       "    .dataframe tbody tr th {\n",
       "        vertical-align: top;\n",
       "    }\n",
       "\n",
       "    .dataframe thead th {\n",
       "        text-align: right;\n",
       "    }\n",
       "</style>\n",
       "<table border=\"1\" class=\"dataframe\">\n",
       "  <thead>\n",
       "    <tr style=\"text-align: right;\">\n",
       "      <th></th>\n",
       "      <th>companies</th>\n",
       "      <th>job</th>\n",
       "      <th>type_contrat</th>\n",
       "      <th>date</th>\n",
       "      <th>villes</th>\n",
       "      <th>salaires</th>\n",
       "      <th>link</th>\n",
       "      <th>7</th>\n",
       "    </tr>\n",
       "  </thead>\n",
       "  <tbody>\n",
       "    <tr>\n",
       "      <th>0</th>\n",
       "      <td>Meteojob</td>\n",
       "      <td>DATA ANALYST F/H</td>\n",
       "      <td>CDI</td>\n",
       "      <td>28/09/2022</td>\n",
       "      <td>Valence - 26</td>\n",
       "      <td>A négocier</td>\n",
       "      <td>https://www.apec.fr/candidat/recherche-emploi....</td>\n",
       "      <td>1</td>\n",
       "    </tr>\n",
       "    <tr>\n",
       "      <th>1</th>\n",
       "      <td>SPRING</td>\n",
       "      <td>Data Analyst F/H</td>\n",
       "      <td>CDI</td>\n",
       "      <td>10/10/2022</td>\n",
       "      <td>Tours - 37</td>\n",
       "      <td>A partir de 30 k€ brut annuel</td>\n",
       "      <td>https://www.apec.fr/candidat/recherche-emploi....</td>\n",
       "      <td>1</td>\n",
       "    </tr>\n",
       "    <tr>\n",
       "      <th>2</th>\n",
       "      <td>KELLY SERVICES</td>\n",
       "      <td>DATA ANALYST F/H</td>\n",
       "      <td>Mission d'intérim</td>\n",
       "      <td>03/10/2022</td>\n",
       "      <td>Marcy-l'Étoile - 69</td>\n",
       "      <td>A négocier</td>\n",
       "      <td>https://www.apec.fr/candidat/recherche-emploi....</td>\n",
       "      <td>1</td>\n",
       "    </tr>\n",
       "    <tr>\n",
       "      <th>3</th>\n",
       "      <td>AID</td>\n",
       "      <td>Data Analyst F/H</td>\n",
       "      <td>CDI</td>\n",
       "      <td>15/09/2022</td>\n",
       "      <td>Paris 14 - 75</td>\n",
       "      <td>A négocier</td>\n",
       "      <td>https://www.apec.fr/candidat/recherche-emploi....</td>\n",
       "      <td>1</td>\n",
       "    </tr>\n",
       "    <tr>\n",
       "      <th>4</th>\n",
       "      <td>GROUPAGORA</td>\n",
       "      <td>Data Analyst F/H</td>\n",
       "      <td>CDI</td>\n",
       "      <td>23/09/2022</td>\n",
       "      <td>Meyzieu - 69</td>\n",
       "      <td>38 - 45 k€ brut annuel</td>\n",
       "      <td>https://www.apec.fr/candidat/recherche-emploi....</td>\n",
       "      <td>1</td>\n",
       "    </tr>\n",
       "  </tbody>\n",
       "</table>\n",
       "</div>"
      ],
      "text/plain": [
       "        companies               job        type_contrat         date  \\\n",
       "0        Meteojob  DATA ANALYST F/H                CDI   28/09/2022    \n",
       "1          SPRING  Data Analyst F/H                CDI   10/10/2022    \n",
       "2  KELLY SERVICES  DATA ANALYST F/H  Mission d'intérim   03/10/2022    \n",
       "3             AID  Data Analyst F/H                CDI   15/09/2022    \n",
       "4      GROUPAGORA  Data Analyst F/H                CDI   23/09/2022    \n",
       "\n",
       "                 villes                        salaires  \\\n",
       "0         Valence - 26                      A négocier    \n",
       "1           Tours - 37   A partir de 30 k€ brut annuel    \n",
       "2  Marcy-l'Étoile - 69                      A négocier    \n",
       "3        Paris 14 - 75                      A négocier    \n",
       "4         Meyzieu - 69          38 - 45 k€ brut annuel    \n",
       "\n",
       "                                                link  7  \n",
       "0  https://www.apec.fr/candidat/recherche-emploi....  1  \n",
       "1  https://www.apec.fr/candidat/recherche-emploi....  1  \n",
       "2  https://www.apec.fr/candidat/recherche-emploi....  1  \n",
       "3  https://www.apec.fr/candidat/recherche-emploi....  1  \n",
       "4  https://www.apec.fr/candidat/recherche-emploi....  1  "
      ]
     },
     "execution_count": 357,
     "metadata": {},
     "output_type": "execute_result"
    }
   ],
   "source": [
    "df_apec.head()"
   ]
  },
  {
   "cell_type": "markdown",
   "id": "f888ac4b-8251-4972-891f-7a41d75e0c63",
   "metadata": {
    "tags": []
   },
   "source": [
    "### Récupération des descriptions"
   ]
  },
  {
   "cell_type": "code",
   "execution_count": 385,
   "id": "212b8a0a-c57f-4b35-8908-5b89983832f9",
   "metadata": {},
   "outputs": [],
   "source": [
    "def request_url(url):\n",
    "    driver = request_web_driver(url)\n",
    "    # récupération du code dans le dom\n",
    "    elem = driver.find_element(By.XPATH,\"//*\") \n",
    "    source_code = elem.get_attribute(\"outerHTML\")\n",
    "    # parse avec soup pour exploiter le code source grâce à BS\n",
    "    soup = BeautifulSoup(source_code,'html.parser')\n",
    "\n",
    "    return soup\n",
    "\n",
    "def request_detail_skill(add):\n",
    "    liste_comp = []\n",
    "    liste_detail = []\n",
    "    for i in add:\n",
    "        comp = i.find_all('div',{'class':'infos_skills'})\n",
    "        detail = i.find_all('apec-competence-tooltip-niveau',{'class':'detail_skills'})\n",
    "\n",
    "        for a in comp:\n",
    "            liste_comp.append(a.text)\n",
    "        for d in detail:\n",
    "            liste_detail.append(\"\".join(re.findall(\"([\\d])\",d.text)))\n",
    "\n",
    "    dicto_comp = dict(zip(liste_comp,liste_detail))\n",
    "    return dicto_comp"
   ]
  },
  {
   "cell_type": "code",
   "execution_count": 7,
   "id": "4e06ad95-a959-42f6-8317-eff11dbdedba",
   "metadata": {},
   "outputs": [
    {
     "data": {
      "text/plain": [
       "'https://www.apec.fr/candidat/recherche-emploi.html/emploi/detail-offre/169150501W?motsCles=data%20analyst&selectedIndex=0&page=0'"
      ]
     },
     "execution_count": 7,
     "metadata": {},
     "output_type": "execute_result"
    }
   ],
   "source": [
    "df_apec.link[0]"
   ]
  },
  {
   "cell_type": "code",
   "execution_count": 384,
   "id": "f3d8f951-03a0-4ab7-af29-bba9db89c6d1",
   "metadata": {},
   "outputs": [
    {
     "name": "stderr",
     "output_type": "stream",
     "text": [
      "/var/folders/6d/_c9dj9cs3dv7f9hff54z3xl80000gn/T/ipykernel_1100/1955470278.py:1: DeprecationWarning: executable_path has been deprecated, please pass in a Service object\n",
      "  driver = webdriver.Chrome('../Desktop/chromedriver')\n",
      "/var/folders/6d/_c9dj9cs3dv7f9hff54z3xl80000gn/T/ipykernel_1100/4250969870.py:3: DeprecationWarning: executable_path has been deprecated, please pass in a Service object\n",
      "  driver = webdriver.Chrome('../Desktop/chromedriver')\n"
     ]
    }
   ],
   "source": [
    "driver = webdriver.Chrome('../Desktop/chromedriver')\n",
    "soup = request_url(df_apec.link[0])\n",
    "text=soup.find_all('div',{'class':'details-post'})"
   ]
  },
  {
   "cell_type": "code",
   "execution_count": 368,
   "id": "f1db8686-4190-4e53-a863-f31bd41ff221",
   "metadata": {},
   "outputs": [],
   "source": [
    "experience = text[2].find(\"span\").text\n",
    "statut = text[4].find(\"span\").text\n",
    "secteur = text[6].find(\"span\").text\n",
    "description = text[7].find_all(\"p\")\n",
    "description_poste = description[0].text\n",
    "profil = description[1].text\n",
    "add=soup.find_all('div',{'class':'added-skills-language'})\n"
   ]
  },
  {
   "cell_type": "code",
   "execution_count": 370,
   "id": "39d6462f-2a29-405c-9d76-db2ca6986555",
   "metadata": {},
   "outputs": [
    {
     "data": {
      "text/plain": [
       "<p>Notre client spécialisé dans les systèmes de fixation dans le domaine de la construction, recherche un(e) Data Analyst en CDI. <br/><br/>Vos missions: <br/><br/>- Recueil et extraction de données ;<br/>- Nettoyage, retraitement, exploitation voire stockage des données ;<br/>- Création de dashboards, mise en place de KPIs et reporting des performances;<br/>- Mise en place de process/requêtes et automatisations.</p>"
      ]
     },
     "execution_count": 370,
     "metadata": {},
     "output_type": "execute_result"
    }
   ],
   "source": [
    "description[0]"
   ]
  },
  {
   "cell_type": "code",
   "execution_count": 371,
   "id": "e6e783ed-0551-4e38-95dd-2f1060317659",
   "metadata": {},
   "outputs": [
    {
     "data": {
      "text/plain": [
       "<p>Vous maitrisez divers outils de traitement et d'analyse de données : <br/>outils de data management + bases de données + data visualisation + langages de programmation (POWER BI [incontournable], SAS, SPSS, SAP, Python, R, VBA, Excel, Access etc.)<br/><br/>Vous êtes passionné(e) pour les chiffres avec des compétences statistiques et une orientation business.<br/><br/>Vous êtes rigoureux, organisé, réactif et d'esprit analytique, curieux et force de proposition<br/>Vous possédez un anglais courant. <br/><br/>Ce poste est le votre ! N'attendez plus et postulez ! <br/></p>"
      ]
     },
     "execution_count": 371,
     "metadata": {},
     "output_type": "execute_result"
    }
   ],
   "source": [
    "description[1]"
   ]
  },
  {
   "cell_type": "code",
   "execution_count": null,
   "id": "e50bcf6e-39f5-46e6-b77f-38ca20ca1f65",
   "metadata": {},
   "outputs": [
    {
     "data": {
      "text/plain": [
       "[<div class=\"infos_skills\"><p>Anglais</p><div class=\"jauge beginner\"></div></div>,\n",
       " <div class=\"infos_skills\"><p>Analyse de données</p><div class=\"jauge confirmed\"></div></div>,\n",
       " <div class=\"infos_skills\"><p>Traitement des données</p><div class=\"jauge confirmed\"></div></div>,\n",
       " <div class=\"infos_skills\"><p>Automatisme</p><div class=\"jauge beginner\"></div></div>,\n",
       " <div class=\"infos_skills\"><p>Base de données</p><div class=\"jauge beginner\"></div></div>,\n",
       " <div class=\"infos_skills\"><p>Dashboard</p><div class=\"jauge beginner\"></div></div>,\n",
       " <div class=\"infos_skills\"><p>Informatique décisionnelle</p><div class=\"jauge beginner\"></div></div>,\n",
       " <div class=\"infos_skills\"><p>Langage de programmation</p><div class=\"jauge beginner\"></div></div>,\n",
       " <div class=\"infos_skills\"><p>Langage R</p><div class=\"jauge beginner\"></div></div>,\n",
       " <div class=\"infos_skills\"><p>Microsoft Access</p><div class=\"jauge beginner\"></div></div>,\n",
       " <div class=\"infos_skills\"><p>Microsoft Excel</p><div class=\"jauge beginner\"></div></div>,\n",
       " <div class=\"infos_skills\"><p>Nettoyage et propreté</p><div class=\"jauge beginner\"></div></div>,\n",
       " <div class=\"infos_skills\"><p>Python</p><div class=\"jauge beginner\"></div></div>,\n",
       " <div class=\"infos_skills\"><p>Reporting</p><div class=\"jauge beginner\"></div></div>,\n",
       " <div class=\"infos_skills\"><p>SAP</p><div class=\"jauge beginner\"></div></div>,\n",
       " <div class=\"infos_skills\"><p>SAS</p><div class=\"jauge beginner\"></div></div>,\n",
       " <div class=\"infos_skills\"><p>SPSS</p><div class=\"jauge beginner\"></div></div>,\n",
       " <div class=\"infos_skills\"><p>Statistiques</p><div class=\"jauge beginner\"></div></div>,\n",
       " <div class=\"infos_skills\"><p>Stockage de produits</p><div class=\"jauge beginner\"></div></div>,\n",
       " <div class=\"infos_skills\"><p>Visual Basic for Applications</p><div class=\"jauge beginner\"></div></div>]"
      ]
     },
     "execution_count": 366,
     "metadata": {},
     "output_type": "execute_result"
    }
   ],
   "source": [
    "text[7].find_all(\"div\",{'class':'infos_skills'})"
   ]
  },
  {
   "cell_type": "code",
   "execution_count": 109,
   "id": "f5136fe1-542a-4e8d-890f-d764d4fb9e8f",
   "metadata": {},
   "outputs": [
    {
     "data": {
      "text/plain": [
       "[<h4>Descriptif du poste</h4>,\n",
       " <h4>Profil recherché</h4>,\n",
       " <h4>Débutant</h4>,\n",
       " <h4>Confirmé</h4>,\n",
       " <h4>Confirmé</h4>,\n",
       " <h4>Débutant</h4>,\n",
       " <h4>Débutant</h4>,\n",
       " <h4>Débutant</h4>,\n",
       " <h4>Débutant</h4>,\n",
       " <h4>Débutant</h4>,\n",
       " <h4>Débutant</h4>,\n",
       " <h4>Débutant</h4>,\n",
       " <h4>Débutant</h4>,\n",
       " <h4>Débutant</h4>,\n",
       " <h4>Débutant</h4>,\n",
       " <h4>Débutant</h4>,\n",
       " <h4>Débutant</h4>,\n",
       " <h4>Débutant</h4>,\n",
       " <h4>Débutant</h4>,\n",
       " <h4>Débutant</h4>,\n",
       " <h4>Débutant</h4>,\n",
       " <h4>Débutant</h4>,\n",
       " <h4>Entreprise</h4>]"
      ]
     },
     "execution_count": 109,
     "metadata": {},
     "output_type": "execute_result"
    }
   ],
   "source": [
    "text[7].find_all(\"h4\")"
   ]
  },
  {
   "cell_type": "code",
   "execution_count": 103,
   "id": "4ed4e8a7-785c-4faa-acd4-a3887b698134",
   "metadata": {},
   "outputs": [
    {
     "data": {
      "text/plain": [
       "'Minimum 3 ans'"
      ]
     },
     "execution_count": 103,
     "metadata": {},
     "output_type": "execute_result"
    }
   ],
   "source": [
    "experience"
   ]
  },
  {
   "cell_type": "code",
   "execution_count": 104,
   "id": "abedb61c-741a-4c1a-8ccc-99b73d9c9850",
   "metadata": {},
   "outputs": [
    {
     "data": {
      "text/plain": [
       "'Cadre du secteur privé'"
      ]
     },
     "execution_count": 104,
     "metadata": {},
     "output_type": "execute_result"
    }
   ],
   "source": [
    "statut"
   ]
  },
  {
   "cell_type": "code",
   "execution_count": 105,
   "id": "20d90cdc-b01c-44ad-bffb-6b0282c1a41d",
   "metadata": {},
   "outputs": [
    {
     "data": {
      "text/plain": [
       "'Notre client spécialisé dans les systèmes de fixation dans le domaine de la construction, recherche un(e) Data Analyst en CDI. Vos missions: - Recueil et extraction de données ;- Nettoyage, retraitement, exploitation voire stockage des données ;- Création de dashboards, mise en place de KPIs et reporting des performances;- Mise en place de process/requêtes et automatisations.'"
      ]
     },
     "execution_count": 105,
     "metadata": {},
     "output_type": "execute_result"
    }
   ],
   "source": [
    "description_poste"
   ]
  },
  {
   "cell_type": "code",
   "execution_count": 106,
   "id": "b60ba338-9392-407c-a4f1-45d8259fae9b",
   "metadata": {},
   "outputs": [
    {
     "data": {
      "text/plain": [
       "\"Vous maitrisez divers outils de traitement et d'analyse de données : outils de data management + bases de données + data visualisation + langages de programmation (POWER BI [incontournable], SAS, SPSS, SAP, Python, R, VBA, Excel, Access etc.)Vous êtes passionné(e) pour les chiffres avec des compétences statistiques et une orientation business.Vous êtes rigoureux, organisé, réactif et d'esprit analytique, curieux et force de propositionVous possédez un anglais courant. Ce poste est le votre ! N'attendez plus et postulez ! \""
      ]
     },
     "execution_count": 106,
     "metadata": {},
     "output_type": "execute_result"
    }
   ],
   "source": [
    "profil"
   ]
  },
  {
   "cell_type": "code",
   "execution_count": 374,
   "id": "4ef53be0-1b9f-4d3b-b4d6-1d7d9e64adbb",
   "metadata": {},
   "outputs": [
    {
     "data": {
      "text/plain": [
       "{'Anglais': '1',\n",
       " 'Analyse de données': '5',\n",
       " 'Traitement des données': '5',\n",
       " 'Automatisme': '1',\n",
       " 'Base de données': '1',\n",
       " 'Dashboard': '1',\n",
       " 'Informatique décisionnelle': '1',\n",
       " 'Langage de programmation': '1',\n",
       " 'Langage R': '1',\n",
       " 'Microsoft Access': '1',\n",
       " 'Microsoft Excel': '1',\n",
       " 'Nettoyage et propreté': '1',\n",
       " 'Python': '1',\n",
       " 'Reporting': '1',\n",
       " 'SAP': '1',\n",
       " 'SAS': '1',\n",
       " 'SPSS': '1',\n",
       " 'Statistiques': '1',\n",
       " 'Stockage de produits': '1',\n",
       " 'Visual Basic for Applications': '1'}"
      ]
     },
     "execution_count": 374,
     "metadata": {},
     "output_type": "execute_result"
    }
   ],
   "source": [
    "request_detail_skill(add)"
   ]
  },
  {
   "cell_type": "code",
   "execution_count": 364,
   "id": "d0478d27-4b60-4ce1-a0d1-dd21c467b269",
   "metadata": {},
   "outputs": [
    {
     "name": "stderr",
     "output_type": "stream",
     "text": [
      "/var/folders/6d/_c9dj9cs3dv7f9hff54z3xl80000gn/T/ipykernel_1100/4250969870.py:3: DeprecationWarning: executable_path has been deprecated, please pass in a Service object\n",
      "  driver = webdriver.Chrome('../Desktop/chromedriver')\n"
     ]
    }
   ],
   "source": [
    "test_describe_emploi={}\n",
    "count_job = 0\n",
    "companies = \"test\"\n",
    "soup = request_url(df_apec.link[0])\n",
    "text=soup.find_all('div',{'class':'details-post'})\n",
    "\n",
    "\n",
    "description = text[7].find_all(\"p\")\n",
    "description_poste = description[0].text\n",
    "profil = description[1].text\n",
    "experience = text[2].text\n",
    "statut = text[4].find(\"span\").text\n",
    "secteur = text[6].find(\"span\").text\n",
    "\n",
    "add=soup.find_all('div',{'class':'added-skills-language'})\n",
    "skill = request_detail_skill(add)\n",
    "\n",
    "test_describe_emploi.update({count_job:[companies,description_poste,profil,experience,statut,secteur,skill]})"
   ]
  },
  {
   "cell_type": "code",
   "execution_count": 365,
   "id": "039cba8d-8672-4db9-9c70-92b978f35a86",
   "metadata": {},
   "outputs": [
    {
     "data": {
      "text/html": [
       "<div>\n",
       "<style scoped>\n",
       "    .dataframe tbody tr th:only-of-type {\n",
       "        vertical-align: middle;\n",
       "    }\n",
       "\n",
       "    .dataframe tbody tr th {\n",
       "        vertical-align: top;\n",
       "    }\n",
       "\n",
       "    .dataframe thead th {\n",
       "        text-align: right;\n",
       "    }\n",
       "</style>\n",
       "<table border=\"1\" class=\"dataframe\">\n",
       "  <thead>\n",
       "    <tr style=\"text-align: right;\">\n",
       "      <th></th>\n",
       "      <th>0</th>\n",
       "      <th>1</th>\n",
       "      <th>2</th>\n",
       "      <th>3</th>\n",
       "      <th>4</th>\n",
       "      <th>5</th>\n",
       "      <th>6</th>\n",
       "    </tr>\n",
       "  </thead>\n",
       "  <tbody>\n",
       "    <tr>\n",
       "      <th>0</th>\n",
       "      <td>test</td>\n",
       "      <td>Notre client spécialisé dans les systèmes de f...</td>\n",
       "      <td>Vous maitrisez divers outils de traitement et ...</td>\n",
       "      <td>ExpérienceMinimum 3 ans</td>\n",
       "      <td>Cadre du secteur privé</td>\n",
       "      <td>CONSEIL POUR LES AFFAIRES ET AUTRES CONSEILS D...</td>\n",
       "      <td>{'Anglais': '1', 'Analyse de données': '5', 'T...</td>\n",
       "    </tr>\n",
       "  </tbody>\n",
       "</table>\n",
       "</div>"
      ],
      "text/plain": [
       "      0                                                  1  \\\n",
       "0  test  Notre client spécialisé dans les systèmes de f...   \n",
       "\n",
       "                                                   2                        3  \\\n",
       "0  Vous maitrisez divers outils de traitement et ...  ExpérienceMinimum 3 ans   \n",
       "\n",
       "                        4                                                  5  \\\n",
       "0  Cadre du secteur privé  CONSEIL POUR LES AFFAIRES ET AUTRES CONSEILS D...   \n",
       "\n",
       "                                                   6  \n",
       "0  {'Anglais': '1', 'Analyse de données': '5', 'T...  "
      ]
     },
     "execution_count": 365,
     "metadata": {},
     "output_type": "execute_result"
    }
   ],
   "source": [
    "pd.DataFrame.from_dict(test_describe_emploi,orient=\"index\")"
   ]
  },
  {
   "cell_type": "code",
   "execution_count": 389,
   "id": "81767682-98ae-4f57-b15f-9f0ad39c7ebf",
   "metadata": {},
   "outputs": [
    {
     "name": "stderr",
     "output_type": "stream",
     "text": [
      "/var/folders/6d/_c9dj9cs3dv7f9hff54z3xl80000gn/T/ipykernel_1100/3429619308.py:2: DeprecationWarning: executable_path has been deprecated, please pass in a Service object\n",
      "  driver = webdriver.Chrome('../Desktop/chromedriver')\n"
     ]
    }
   ],
   "source": [
    "describe_emploi={}\n",
    "driver = webdriver.Chrome('../Desktop/chromedriver')\n",
    "count_job = 0\n",
    "for col,values in df_apec.iloc[:5,].iterrows():\n",
    "    url = values.link\n",
    "    companies = values.companies\n",
    "\n",
    "    soup = request_url(url)\n",
    "\n",
    "    text=soup.find_all('div',{'class':'details-post'})\n",
    "    try:\n",
    "        if len(text[7].find_all(\"p\"))>0:\n",
    "            description = text[7].find_all(\"p\")\n",
    "        else:\n",
    "            description = text[8].find_all(\"p\")\n",
    "\n",
    "        description_poste = description[0].text\n",
    "        profil = description[1].text\n",
    "    except:\n",
    "        description_poste=\"\"\n",
    "        print(url)\n",
    "        profil=\"\"\n",
    "    try:\n",
    "        experience = text[2].text\n",
    "    except:\n",
    "        experience = \"NaN\"\n",
    "    try:\n",
    "        statut = text[4].find(\"span\").text\n",
    "    except:\n",
    "        statut = \"NaN\"\n",
    "    try:\n",
    "        secteur = text[6].find(\"span\").text\n",
    "    except:\n",
    "        secteur = \"NaN\"\n",
    "    try:\n",
    "        add=soup.find_all('div',{'class':'added-skills-language'})\n",
    "        skill = request_detail_skill(add)\n",
    "    except:\n",
    "        skill=\"NaN\"\n",
    "        \n",
    "    describe_emploi.update({count_job:[companies,description_poste,profil,experience,statut,secteur,skill]})\n",
    "    count_job+=1\n"
   ]
  },
  {
   "cell_type": "code",
   "execution_count": 390,
   "id": "d076782c-5170-4eb6-bd2a-21a58b399aea",
   "metadata": {
    "tags": []
   },
   "outputs": [
    {
     "data": {
      "text/plain": [
       "5"
      ]
     },
     "execution_count": 390,
     "metadata": {},
     "output_type": "execute_result"
    }
   ],
   "source": [
    "len(describe_emploi)"
   ]
  },
  {
   "cell_type": "code",
   "execution_count": 391,
   "id": "d227920f-595a-4b53-a1cf-48f822920cb9",
   "metadata": {},
   "outputs": [
    {
     "data": {
      "text/html": [
       "<div>\n",
       "<style scoped>\n",
       "    .dataframe tbody tr th:only-of-type {\n",
       "        vertical-align: middle;\n",
       "    }\n",
       "\n",
       "    .dataframe tbody tr th {\n",
       "        vertical-align: top;\n",
       "    }\n",
       "\n",
       "    .dataframe thead th {\n",
       "        text-align: right;\n",
       "    }\n",
       "</style>\n",
       "<table border=\"1\" class=\"dataframe\">\n",
       "  <thead>\n",
       "    <tr style=\"text-align: right;\">\n",
       "      <th></th>\n",
       "      <th>0</th>\n",
       "      <th>1</th>\n",
       "      <th>2</th>\n",
       "      <th>3</th>\n",
       "      <th>4</th>\n",
       "      <th>5</th>\n",
       "      <th>6</th>\n",
       "    </tr>\n",
       "  </thead>\n",
       "  <tbody>\n",
       "    <tr>\n",
       "      <th>0</th>\n",
       "      <td>Meteojob</td>\n",
       "      <td>Notre client spécialisé dans les systèmes de f...</td>\n",
       "      <td>Vous maitrisez divers outils de traitement et ...</td>\n",
       "      <td>ExpérienceMinimum 3 ans</td>\n",
       "      <td>Cadre du secteur privé</td>\n",
       "      <td>CONSEIL POUR LES AFFAIRES ET AUTRES CONSEILS D...</td>\n",
       "      <td>{'Anglais': '1', 'Analyse de données': '5', 'T...</td>\n",
       "    </tr>\n",
       "    <tr>\n",
       "      <th>1</th>\n",
       "      <td>SPRING</td>\n",
       "      <td>Dans le cadre du développement de notre client...</td>\n",
       "      <td>Dans le cadre du développement de notre client...</td>\n",
       "      <td>ExpérienceMinimum 2 ans</td>\n",
       "      <td>Cadre du secteur privé</td>\n",
       "      <td>ACTIVITÉS DES AGENCES DE TRAVAIL TEMPORAIRE</td>\n",
       "      <td>{'Analyse de données': '5', 'Algorithme': '1',...</td>\n",
       "    </tr>\n",
       "    <tr>\n",
       "      <th>2</th>\n",
       "      <td>KELLY SERVICES</td>\n",
       "      <td>Vos principales missions :Au sein de la Platef...</td>\n",
       "      <td>Vos principales missions :Au sein de la Platef...</td>\n",
       "      <td>ExpérienceMinimum 2 ans</td>\n",
       "      <td>Cadre du secteur privé</td>\n",
       "      <td>FABRICATION DE PRODUITS PHARMACEUTIQUES DE BASE</td>\n",
       "      <td>{'Anglais': '1', 'Airflow': '10', 'Automatisme...</td>\n",
       "    </tr>\n",
       "    <tr>\n",
       "      <th>3</th>\n",
       "      <td>AID</td>\n",
       "      <td>AI&amp;Data  recherche aujourd'hui des Data Analys...</td>\n",
       "      <td>AI&amp;Data  recherche aujourd'hui des Data Analys...</td>\n",
       "      <td>ExpérienceMinimum 2 ans</td>\n",
       "      <td>Cadre du secteur privé</td>\n",
       "      <td>TRAITEMENT DE DONNÉES, HÉBERGEMENT ET ACTIVITÉ...</td>\n",
       "      <td>{'Algorithme': '1', 'Amazon Web Services': '1'...</td>\n",
       "    </tr>\n",
       "    <tr>\n",
       "      <th>4</th>\n",
       "      <td>GROUPAGORA</td>\n",
       "      <td>GroupAgora, acteur global des S.I. depuis 1990...</td>\n",
       "      <td>GroupAgora, acteur global des S.I. depuis 1990...</td>\n",
       "      <td>ExpérienceMinimum 2 ans</td>\n",
       "      <td>Cadre du secteur privé</td>\n",
       "      <td>CONSEIL EN SYSTÈMES ET LOGICIELS INFORMATIQUES</td>\n",
       "      <td>{'SQL': '5', 'Actions de formation': '1', 'CRM...</td>\n",
       "    </tr>\n",
       "  </tbody>\n",
       "</table>\n",
       "</div>"
      ],
      "text/plain": [
       "                0                                                  1  \\\n",
       "0        Meteojob  Notre client spécialisé dans les systèmes de f...   \n",
       "1          SPRING  Dans le cadre du développement de notre client...   \n",
       "2  KELLY SERVICES  Vos principales missions :Au sein de la Platef...   \n",
       "3             AID  AI&Data  recherche aujourd'hui des Data Analys...   \n",
       "4      GROUPAGORA  GroupAgora, acteur global des S.I. depuis 1990...   \n",
       "\n",
       "                                                   2                        3  \\\n",
       "0  Vous maitrisez divers outils de traitement et ...  ExpérienceMinimum 3 ans   \n",
       "1  Dans le cadre du développement de notre client...  ExpérienceMinimum 2 ans   \n",
       "2  Vos principales missions :Au sein de la Platef...  ExpérienceMinimum 2 ans   \n",
       "3  AI&Data  recherche aujourd'hui des Data Analys...  ExpérienceMinimum 2 ans   \n",
       "4  GroupAgora, acteur global des S.I. depuis 1990...  ExpérienceMinimum 2 ans   \n",
       "\n",
       "                        4                                                  5  \\\n",
       "0  Cadre du secteur privé  CONSEIL POUR LES AFFAIRES ET AUTRES CONSEILS D...   \n",
       "1  Cadre du secteur privé        ACTIVITÉS DES AGENCES DE TRAVAIL TEMPORAIRE   \n",
       "2  Cadre du secteur privé    FABRICATION DE PRODUITS PHARMACEUTIQUES DE BASE   \n",
       "3  Cadre du secteur privé  TRAITEMENT DE DONNÉES, HÉBERGEMENT ET ACTIVITÉ...   \n",
       "4  Cadre du secteur privé     CONSEIL EN SYSTÈMES ET LOGICIELS INFORMATIQUES   \n",
       "\n",
       "                                                   6  \n",
       "0  {'Anglais': '1', 'Analyse de données': '5', 'T...  \n",
       "1  {'Analyse de données': '5', 'Algorithme': '1',...  \n",
       "2  {'Anglais': '1', 'Airflow': '10', 'Automatisme...  \n",
       "3  {'Algorithme': '1', 'Amazon Web Services': '1'...  \n",
       "4  {'SQL': '5', 'Actions de formation': '1', 'CRM...  "
      ]
     },
     "execution_count": 391,
     "metadata": {},
     "output_type": "execute_result"
    }
   ],
   "source": [
    "df_complet_apec= pd.DataFrame.from_dict(describe_emploi,orient=\"index\")\n",
    "df_complet_apec\n",
    "#df_complet_apec.to_csv('df_complet_apec.csv')"
   ]
  },
  {
   "cell_type": "code",
   "execution_count": 57,
   "id": "ef8cee87-f226-482a-872c-abace49abc5d",
   "metadata": {},
   "outputs": [
    {
     "data": {
      "text/html": [
       "<div>\n",
       "<style scoped>\n",
       "    .dataframe tbody tr th:only-of-type {\n",
       "        vertical-align: middle;\n",
       "    }\n",
       "\n",
       "    .dataframe tbody tr th {\n",
       "        vertical-align: top;\n",
       "    }\n",
       "\n",
       "    .dataframe thead th {\n",
       "        text-align: right;\n",
       "    }\n",
       "</style>\n",
       "<table border=\"1\" class=\"dataframe\">\n",
       "  <thead>\n",
       "    <tr style=\"text-align: right;\">\n",
       "      <th></th>\n",
       "      <th>companies</th>\n",
       "      <th>description_poste</th>\n",
       "      <th>profil</th>\n",
       "      <th>experience</th>\n",
       "      <th>statut</th>\n",
       "      <th>secteur</th>\n",
       "      <th>skill</th>\n",
       "    </tr>\n",
       "  </thead>\n",
       "  <tbody>\n",
       "    <tr>\n",
       "      <th>0</th>\n",
       "      <td>Meteojob</td>\n",
       "      <td>Notre client spécialisé dans les systèmes de f...</td>\n",
       "      <td>Vous maitrisez divers outils de traitement et ...</td>\n",
       "      <td>ExpérienceMinimum 3 ans</td>\n",
       "      <td>Cadre du secteur privé</td>\n",
       "      <td>CONSEIL POUR LES AFFAIRES ET AUTRES CONSEILS D...</td>\n",
       "      <td>{'Anglais': '1', 'Analyse de données': '5', 'T...</td>\n",
       "    </tr>\n",
       "    <tr>\n",
       "      <th>1</th>\n",
       "      <td>KELLY SERVICES</td>\n",
       "      <td>Vos principales missions :Au sein de la Platef...</td>\n",
       "      <td>Vos principales missions :Au sein de la Platef...</td>\n",
       "      <td>ExpérienceMinimum 2 ans</td>\n",
       "      <td>Cadre du secteur privé</td>\n",
       "      <td>FABRICATION DE PRODUITS PHARMACEUTIQUES DE BASE</td>\n",
       "      <td>{'Anglais': '1', 'Airflow': '10', 'Automatisme...</td>\n",
       "    </tr>\n",
       "    <tr>\n",
       "      <th>2</th>\n",
       "      <td>AID</td>\n",
       "      <td>AI&amp;Data  recherche aujourd'hui des Data Analys...</td>\n",
       "      <td>AI&amp;Data  recherche aujourd'hui des Data Analys...</td>\n",
       "      <td>ExpérienceMinimum 2 ans</td>\n",
       "      <td>Cadre du secteur privé</td>\n",
       "      <td>TRAITEMENT DE DONNÉES, HÉBERGEMENT ET ACTIVITÉ...</td>\n",
       "      <td>{'Algorithme': '1', 'Amazon Web Services': '1'...</td>\n",
       "    </tr>\n",
       "    <tr>\n",
       "      <th>3</th>\n",
       "      <td>GROUPAGORA</td>\n",
       "      <td>GroupAgora, acteur global des S.I. depuis 1990...</td>\n",
       "      <td>GroupAgora, acteur global des S.I. depuis 1990...</td>\n",
       "      <td>ExpérienceMinimum 2 ans</td>\n",
       "      <td>Cadre du secteur privé</td>\n",
       "      <td>CONSEIL EN SYSTÈMES ET LOGICIELS INFORMATIQUES</td>\n",
       "      <td>{'SQL': '5', 'Actions de formation': '1', 'CRM...</td>\n",
       "    </tr>\n",
       "    <tr>\n",
       "      <th>4</th>\n",
       "      <td>Meteojob</td>\n",
       "      <td></td>\n",
       "      <td></td>\n",
       "      <td>NaN</td>\n",
       "      <td>NaN</td>\n",
       "      <td>NaN</td>\n",
       "      <td>{}</td>\n",
       "    </tr>\n",
       "  </tbody>\n",
       "</table>\n",
       "</div>"
      ],
      "text/plain": [
       "        companies                                  description_poste  \\\n",
       "0        Meteojob  Notre client spécialisé dans les systèmes de f...   \n",
       "1  KELLY SERVICES  Vos principales missions :Au sein de la Platef...   \n",
       "2             AID  AI&Data  recherche aujourd'hui des Data Analys...   \n",
       "3      GROUPAGORA  GroupAgora, acteur global des S.I. depuis 1990...   \n",
       "4        Meteojob                                                      \n",
       "\n",
       "                                              profil               experience  \\\n",
       "0  Vous maitrisez divers outils de traitement et ...  ExpérienceMinimum 3 ans   \n",
       "1  Vos principales missions :Au sein de la Platef...  ExpérienceMinimum 2 ans   \n",
       "2  AI&Data  recherche aujourd'hui des Data Analys...  ExpérienceMinimum 2 ans   \n",
       "3  GroupAgora, acteur global des S.I. depuis 1990...  ExpérienceMinimum 2 ans   \n",
       "4                                                                         NaN   \n",
       "\n",
       "                   statut                                            secteur  \\\n",
       "0  Cadre du secteur privé  CONSEIL POUR LES AFFAIRES ET AUTRES CONSEILS D...   \n",
       "1  Cadre du secteur privé    FABRICATION DE PRODUITS PHARMACEUTIQUES DE BASE   \n",
       "2  Cadre du secteur privé  TRAITEMENT DE DONNÉES, HÉBERGEMENT ET ACTIVITÉ...   \n",
       "3  Cadre du secteur privé     CONSEIL EN SYSTÈMES ET LOGICIELS INFORMATIQUES   \n",
       "4                     NaN                                                NaN   \n",
       "\n",
       "                                               skill  \n",
       "0  {'Anglais': '1', 'Analyse de données': '5', 'T...  \n",
       "1  {'Anglais': '1', 'Airflow': '10', 'Automatisme...  \n",
       "2  {'Algorithme': '1', 'Amazon Web Services': '1'...  \n",
       "3  {'SQL': '5', 'Actions de formation': '1', 'CRM...  \n",
       "4                                                 {}  "
      ]
     },
     "execution_count": 57,
     "metadata": {},
     "output_type": "execute_result"
    }
   ],
   "source": [
    "pd.DataFrame.from_dict(describe_emploi,orient=\"index\").rename(columns={\n",
    "    0:\"companies\",\n",
    "    1:\"description_poste\",\n",
    "    2:\"profil\",\n",
    "    3:\"experience\",\n",
    "    4:\"statut\",\n",
    "    5:\"secteur\",\n",
    "    6:\"skill\"\n",
    "})"
   ]
  },
  {
   "cell_type": "code",
   "execution_count": 56,
   "id": "08c10670-721a-4d9a-94c0-a320277f0306",
   "metadata": {},
   "outputs": [
    {
     "data": {
      "text/html": [
       "<div>\n",
       "<style scoped>\n",
       "    .dataframe tbody tr th:only-of-type {\n",
       "        vertical-align: middle;\n",
       "    }\n",
       "\n",
       "    .dataframe tbody tr th {\n",
       "        vertical-align: top;\n",
       "    }\n",
       "\n",
       "    .dataframe thead th {\n",
       "        text-align: right;\n",
       "    }\n",
       "</style>\n",
       "<table border=\"1\" class=\"dataframe\">\n",
       "  <thead>\n",
       "    <tr style=\"text-align: right;\">\n",
       "      <th></th>\n",
       "      <th>0</th>\n",
       "      <th>1</th>\n",
       "      <th>2</th>\n",
       "      <th>3</th>\n",
       "      <th>4</th>\n",
       "      <th>5</th>\n",
       "      <th>6</th>\n",
       "    </tr>\n",
       "  </thead>\n",
       "  <tbody>\n",
       "    <tr>\n",
       "      <th>0</th>\n",
       "      <td>Minimum 3 ans</td>\n",
       "      <td>Data analyst</td>\n",
       "      <td>Cadre du secteur privé</td>\n",
       "      <td>CONSEIL POUR LES AFFAIRES ET AUTRES CONSEILS D...</td>\n",
       "      <td>Notre client spécialisé dans les systèmes de f...</td>\n",
       "      <td>Vous maitrisez divers outils de traitement et ...</td>\n",
       "      <td>Anglais,Capacité d'analyse,Curiosité,Force de ...</td>\n",
       "    </tr>\n",
       "    <tr>\n",
       "      <th>1</th>\n",
       "      <td>Minimum 2 ans</td>\n",
       "      <td>Data analyst</td>\n",
       "      <td>Cadre du secteur privé</td>\n",
       "      <td>FABRICATION DE PRODUITS PHARMACEUTIQUES DE BASE</td>\n",
       "      <td>Vos principales missions :\\n\\nAu sein de la Pl...</td>\n",
       "      <td>Vos principales missions :\\n\\nAu sein de la Pl...</td>\n",
       "      <td>Anglais,Airflow,Automatisme,Microsoft Power BI...</td>\n",
       "    </tr>\n",
       "    <tr>\n",
       "      <th>2</th>\n",
       "      <td>Minimum 2 ans</td>\n",
       "      <td>Data analyst</td>\n",
       "      <td>Cadre du secteur privé</td>\n",
       "      <td>TRAITEMENT DE DONNÉES, HÉBERGEMENT ET ACTIVITÉ...</td>\n",
       "      <td>AI&amp;Data  recherche aujourd'hui des Data Analys...</td>\n",
       "      <td>AI&amp;Data  recherche aujourd'hui des Data Analys...</td>\n",
       "      <td>Capacité à prendre des décisions,Capacité d'ad...</td>\n",
       "    </tr>\n",
       "    <tr>\n",
       "      <th>3</th>\n",
       "      <td>Minimum 2 ans</td>\n",
       "      <td>Data analyst</td>\n",
       "      <td>Cadre du secteur privé</td>\n",
       "      <td>CONSEIL EN SYSTÈMES ET LOGICIELS INFORMATIQUES</td>\n",
       "      <td>GroupAgora, acteur global des S.I. depuis 1990...</td>\n",
       "      <td>GroupAgora, acteur global des S.I. depuis 1990...</td>\n",
       "      <td>Autonomie,Capacité d'adaptation,Curiosité,Espr...</td>\n",
       "    </tr>\n",
       "    <tr>\n",
       "      <th>4</th>\n",
       "      <td>Minimum 2 ans</td>\n",
       "      <td>Data analyst</td>\n",
       "      <td>Cadre du secteur privé</td>\n",
       "      <td>CONSEIL EN SYSTÈMES ET LOGICIELS INFORMATIQUES</td>\n",
       "      <td>GroupAgora, acteur global des S.I. depuis 1990...</td>\n",
       "      <td>GroupAgora, acteur global des S.I. depuis 1990...</td>\n",
       "      <td>Autonomie,Capacité d'adaptation,Curiosité,Espr...</td>\n",
       "    </tr>\n",
       "  </tbody>\n",
       "</table>\n",
       "</div>"
      ],
      "text/plain": [
       "               0             1                       2  \\\n",
       "0  Minimum 3 ans  Data analyst  Cadre du secteur privé   \n",
       "1  Minimum 2 ans  Data analyst  Cadre du secteur privé   \n",
       "2  Minimum 2 ans  Data analyst  Cadre du secteur privé   \n",
       "3  Minimum 2 ans  Data analyst  Cadre du secteur privé   \n",
       "4  Minimum 2 ans  Data analyst  Cadre du secteur privé   \n",
       "\n",
       "                                                   3  \\\n",
       "0  CONSEIL POUR LES AFFAIRES ET AUTRES CONSEILS D...   \n",
       "1    FABRICATION DE PRODUITS PHARMACEUTIQUES DE BASE   \n",
       "2  TRAITEMENT DE DONNÉES, HÉBERGEMENT ET ACTIVITÉ...   \n",
       "3     CONSEIL EN SYSTÈMES ET LOGICIELS INFORMATIQUES   \n",
       "4     CONSEIL EN SYSTÈMES ET LOGICIELS INFORMATIQUES   \n",
       "\n",
       "                                                   4  \\\n",
       "0  Notre client spécialisé dans les systèmes de f...   \n",
       "1  Vos principales missions :\\n\\nAu sein de la Pl...   \n",
       "2  AI&Data  recherche aujourd'hui des Data Analys...   \n",
       "3  GroupAgora, acteur global des S.I. depuis 1990...   \n",
       "4  GroupAgora, acteur global des S.I. depuis 1990...   \n",
       "\n",
       "                                                   5  \\\n",
       "0  Vous maitrisez divers outils de traitement et ...   \n",
       "1  Vos principales missions :\\n\\nAu sein de la Pl...   \n",
       "2  AI&Data  recherche aujourd'hui des Data Analys...   \n",
       "3  GroupAgora, acteur global des S.I. depuis 1990...   \n",
       "4  GroupAgora, acteur global des S.I. depuis 1990...   \n",
       "\n",
       "                                                   6  \n",
       "0  Anglais,Capacité d'analyse,Curiosité,Force de ...  \n",
       "1  Anglais,Airflow,Automatisme,Microsoft Power BI...  \n",
       "2  Capacité à prendre des décisions,Capacité d'ad...  \n",
       "3  Autonomie,Capacité d'adaptation,Curiosité,Espr...  \n",
       "4  Autonomie,Capacité d'adaptation,Curiosité,Espr...  "
      ]
     },
     "execution_count": 56,
     "metadata": {},
     "output_type": "execute_result"
    }
   ],
   "source": [
    "pd.DataFrame.from_dict(dicto_apec_description,orient=\"index\")"
   ]
  },
  {
   "cell_type": "code",
   "execution_count": 34,
   "id": "b4dd4292-0d5a-4d7f-a88f-f293022ea8f7",
   "metadata": {},
   "outputs": [],
   "source": [
    "driver.quit()"
   ]
  }
 ],
 "metadata": {
  "kernelspec": {
   "display_name": "Python 3 (ipykernel)",
   "language": "python",
   "name": "python3"
  },
  "language_info": {
   "codemirror_mode": {
    "name": "ipython",
    "version": 3
   },
   "file_extension": ".py",
   "mimetype": "text/x-python",
   "name": "python",
   "nbconvert_exporter": "python",
   "pygments_lexer": "ipython3",
   "version": "3.9.7"
  }
 },
 "nbformat": 4,
 "nbformat_minor": 5
}
